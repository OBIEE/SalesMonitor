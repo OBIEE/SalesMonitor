{
 "cells": [
  {
   "cell_type": "markdown",
   "metadata": {},
   "source": [
    "#@hidden_cell\n",
    "\n",
    "SELECT\n",
    "ORDITEM.ROW_ID AS ORDITEM_ROW_ID,\n",
    "ACC.OU_TYPE_CD,\n",
    "ACCI.OU_TYPE_CD AS OU_TYPE_CD_INT,\n",
    "LE.NAME AS LEGAL_ENTITY,\n",
    "ACC.INTEGRATION_ID AS CLIENT_ID,\n",
    "REPLACE(ACC.NAME, ',', '') AS ACC_NAME,\n",
    "ACC.X_SEGMENT AS ACC_SEGMENT,\n",
    "IsNull(AST.SERIAL_NUM, '') AS SERIAL_NUM,\n",
    "IsNull(AST.STATUS_CD, '')  AS ASSET_STATUS,\n",
    "CASE WHEN AST.REGISTERED_DT IS NOT NULL\n",
    "THEN CONVERT (VARCHAR (10), AST.REGISTERED_DT, 103)\n",
    "ELSE\n",
    "IsNull(CONVERT (VARCHAR (10), ITEMAST.REGISTERED_DT, 103),'')\n",
    "END AS REG_DATE,\n",
    "CASE WHEN PROD.PRICE_TYPE_CD = 'One-Time' AND PROD.UOM_CD = 'Month' THEN 1 ELSE ORDITEM.QTY_REQ END AS QTY,\n",
    "(ORDITEM.NET_PRI * ORDITEM.QTY_REQ) AS ITEM_NET_PRI,\n",
    "CASE WHEN PROD.PRICE_TYPE_CD = 'Recurring' THEN\n",
    "      CASE WHEN PARPROD.PR_PROD_LN_ID != PROD.PR_PROD_LN_ID THEN 'Recurring Cover Family Upgrade Bundle' ELSE\n",
    "            CASE WHEN PROMO.NAME IS NOT NULL THEN\n",
    "                  CASE WHEN PROMOCOMP.UPG_COUNT > 0 THEN 'Recurring Cover Upgrade Bundle' ELSE 'Recurring Cover Bundle' END\n",
    "            ELSE 'Recurring Cover' END\n",
    "      END\n",
    "ELSE\n",
    "      CASE WHEN PROD.PRICE_TYPE_CD = 'One-Time' AND PROD.UOM_CD = 'Month' AND ORDITEM.QTY_REQ = 1     THEN 'Cover Bonus Month'\n",
    "      ELSE\n",
    "      CASE WHEN PROD.CRT_AGREEMENT_FLG = 'Y' THEN\n",
    "                  CASE WHEN PARPROD.PR_PROD_LN_ID != PROD.PR_PROD_LN_ID THEN 'Cover Family Upgrade Bundle' ELSE\n",
    "                        CASE WHEN PROMO.NAME IS NOT NULL THEN\n",
    "                              CASE WHEN PROMOCOMP.UPG_COUNT > 0 THEN 'Cover Upgrade Bundle' ELSE 'Cover Bundle' END\n",
    "                        ELSE 'Cover' END\n",
    "                  END\n",
    "            WHEN PROD.TYPE = 'Upgrade' AND PARPROD.PR_PROD_LN_ID != PROD.PR_PROD_LN_ID THEN\n",
    "                        CASE WHEN PROMO.NAME IS NOT NULL THEN 'Family Upgrade Bundle' ELSE 'Family Upgrade' END\n",
    "            WHEN PROD.TYPE = 'Upgrade' AND PARPROD.PR_PROD_LN_ID = PROD.PR_PROD_LN_ID THEN\n",
    "                       CASE WHEN PROMO.NAME IS NOT NULL THEN 'Upgrade Bundle' ELSE 'Upgrade' END\n",
    "            ELSE PROD.TYPE\n",
    "      END\n",
    "      END\n",
    "END AS TRANS_TYPE,\n",
    "REPLACE(PROD.NAME, '-', '') AS PROD_NAME,\n",
    "PROD.ROW_ID AS PROD_ROW_ID,\n",
    "REPLACE(PRODLN.NAME, ',', '') AS PROD_LN_NAME,\n",
    "PARPROD.NAME AS PARENT_PROD_NAME,\n",
    "PARPROD.ROW_ID AS PARPROD_ROW_ID,\n",
    "PARPROD_LN.NAME AS PARENT_PROD_PROD_LINE,\n",
    "CONVERT (VARCHAR (10), DATEADD(hh, 10, ORD.ORDER_DT), 103) AS TRANS_DATE,\n",
    "ORD.ORDER_NUM AS REF_NUMBER,\n",
    "REPLACE(IsNull(PROMO.NAME,''), '-', '') AS BUNDLE_NAME,\n",
    "IsNull(ORDITEM.ADJ_UNIT_PRI,0) * IsNull(ORDITEM.QTY_REQ,0) AS LIST_PRICE,\n",
    "CASE WHEN ORD.CREATED_BY = '0-1' THEN 'Web Order'\n",
    "      ELSE ORDTYPE.NAME\n",
    "END AS ORDER_TYPE,\n",
    "CASE WHEN AST.REGISTERED_DT IS NOT NULL\n",
    "THEN DATEPART(year, AST.REGISTERED_DT)\n",
    "ELSE\n",
    "IsNull(DATEPART(year, ITEMAST.REGISTERED_DT),'')\n",
    "END AS REG_YEAR,\n",
    "IsNull(ORDITEM.PRI_ADJ_AMT,0) * ORDITEM.QTY_REQ AS POLICY_DISC,\n",
    "IsNull((SELECT TOP 1 CASE WHEN ORDTYPE.NAME = 'Web Order' AND PAY.PAY_TYPE_CD = 'Credit Card' THEN 'Credit Card - Web' ELSE PAY.PAY_TYPE_CD END AS PAY_CHANNEL\n",
    "      from S_SRC_PAYMENT PAY with(NOLOCK)\n",
    "      where ORD.ROW_ID = PAY.ORDER_ID\n",
    "            AND PAY.PAY_STAT_CD IN ('Authorized','Posted')\n",
    "            AND PAY.PAY_TYPE_CD != 'Cash'\n",
    "      order by PAY_AMT DESC), CASE WHEN PROD.PRICE_TYPE_CD = 'Recurring' THEN PAYPRFL.PAY_METH_CD ELSE 'On Account' END) AS PAY_CHANNEL,\n",
    "IsNull(INV.INVC_NUM,'') AS INV_NUMBER,\n",
    "IsNull(CONVERT (VARCHAR (10), DATEADD(hh, 10, INV.INVC_DT), 103),'') AS INV_DATE\n",
    ",   /* get the previous end date*/\n",
    "    CASE WHEN ITEM.ROW_ID IS NULL THEN '2000-1-1' ELSE\n",
    "      (select max(DATEADD(hour, 10, a1.EFF_END_DT)) end_dt\n",
    "      from S_AGREE_ITEM item1 with (NOLOCK)\n",
    "      INNER JOIN S_DOC_AGREE a1 on a1.ROW_ID=item1.DOC_AGREE_ID\n",
    "      where item1.ASSET_ID = ITEM.ASSET_ID\n",
    "      and item1.DOC_AGREE_ID <> AGR.ROW_ID\n",
    "      and (a1.EFF_END_DT <= DATEADD(day, 5, INIT_AGR.EFF_START_DT) OR INIT_AGR.EFF_START_DT IS NULL)\n",
    "      and a1.EFF_END_DT <= DATEADD(day, 5, AGR.EFF_START_DT)\n",
    "      and a1.AGREE_CD != 'Introductory Support' AND a1.STAT_CD != 'Pending' AND a1.STAT_CD != 'Upgraded') END AS PREV_END_DT\n",
    "      ,/* Get previous end date ignoring 0 agreement except for bundled 365 product */\n",
    "      CASE WHEN ITEM.ROW_ID IS NULL\n",
    "          THEN '2000-1-1'\n",
    "            ELSE (\n",
    "                SELECT MAX(DATEADD(hour,10,a1.EFF_END_DT))\n",
    "                  FROM\n",
    "                      S_AGREE_ITEM item1 with (NOLOCK)\n",
    "                        INNER JOIN S_DOC_AGREE a1 ON a1.ROW_ID = item1.DOC_AGREE_ID\n",
    "                        INNER JOIN S_PROD_INT PROD ON (item1.PROD_INT_ID = PROD.ROW_ID)\n",
    "                  WHERE\n",
    "                      item1.ASSET_ID = ITEM.ASSET_ID\n",
    "                        AND item1.DOC_AGREE_ID <> AGR.ROW_ID\n",
    "                        AND (a1.EFF_END_DT <= DATEADD(day, 5, INIT_AGR.EFF_START_DT) OR INIT_AGR.EFF_START_DT IS NULL)\n",
    "                        AND a1.EFF_END_DT <= DATEADD(day, 5, AGR.EFF_START_DT)\n",
    "                        AND a1.AGREE_CD != 'Introductory Support' AND a1.STAT_CD != 'Pending' AND a1.STAT_CD != 'Upgraded'\n",
    "                        AND ((item1.NET_PRI * item1.QTY_REQ) > 0 OR LOWER(PROD.NAME) LIKE '%365 support%')\n",
    "            )\n",
    "      END AS PREV_END_DT_V2\n",
    "      ,/* get the previous agreement row id*/\n",
    "      CASE WHEN ITEM.ROW_ID IS NULL THEN '2000-1-1' ELSE\n",
    "      (select top 1 a1.ROW_ID\n",
    "      from S_AGREE_ITEM item1 with (NOLOCK)\n",
    "      INNER JOIN S_DOC_AGREE a1 on a1.ROW_ID=item1.DOC_AGREE_ID\n",
    "      where item1.ASSET_ID = ITEM.ASSET_ID\n",
    "      and item1.DOC_AGREE_ID <> AGR.ROW_ID\n",
    "      and (a1.EFF_END_DT <= DATEADD(day, 5, INIT_AGR.EFF_START_DT) OR INIT_AGR.EFF_START_DT IS NULL)\n",
    "      and a1.EFF_END_DT <= DATEADD(day, 5, AGR.EFF_START_DT)\n",
    "      and a1.AGREE_CD != 'Introductory Support' AND a1.STAT_CD != 'Pending' AND a1.STAT_CD != 'Upgraded'\n",
    "      order by a1.EFF_END_DT desc,a1.STAT_CD desc) END AS PREV_AGREE_ROW_ID\n",
    "      ,/* Get the previous agreement row id ignoring 0 agreement except for bundle 365 product */\n",
    "      CASE WHEN ITEM.ROW_ID IS NULL\n",
    "          THEN '2000-1-1'\n",
    "            ELSE (\n",
    "                SELECT TOP 1 a1.ROW_ID\n",
    "                  FROM\n",
    "                      S_AGREE_ITEM item1 with (NOLOCK)\n",
    "                        INNER JOIN S_DOC_AGREE a1 ON (a1.ROW_ID = item1.DOC_AGREE_ID)\n",
    "                        INNER JOIN S_PROD_INT PROD ON (item1.PROD_INT_ID = PROD.ROW_ID)\n",
    "                  WHERE\n",
    "                      item1.ASSET_ID = ITEM.ASSET_ID\n",
    "                        AND item1.DOC_AGREE_ID <> AGR.ROW_ID\n",
    "                        AND (a1.EFF_END_DT <= DATEADD(day, 5, INIT_AGR.EFF_START_DT) OR INIT_AGR.EFF_START_DT IS NULL)\n",
    "                        AND a1.EFF_END_DT <= DATEADD(day, 5, AGR.EFF_START_DT)\n",
    "                        AND a1.AGREE_CD != 'Introductory Support' AND a1.STAT_CD != 'Pending' AND a1.STAT_CD != 'Upgraded'\n",
    "                        AND ((item1.NET_PRI * item1.QTY_REQ) > 0 OR LOWER(PROD.NAME) LIKE '%365 support%')\n",
    "                  ORDER BY\n",
    "                      a1.EFF_END_DT DESC, a1.STAT_CD DESC\n",
    "            )\n",
    "      END AS PREV_AGREE_ROW_ID_V2\n",
    "\n",
    "\t , /* Hard code the previous agreement item id for non-Essentials because:\n",
    "\t    - we do not want to match on product id (product in order might be different with agreement product)\n",
    "\t\t- there can be multiple line items in non-essentials agreement. Essentials should be unlikely.\n",
    "\t\t- Previous product group for AR is not requested by CommOps atm\n",
    "\t\t*/\n",
    "\t NULL AS PREV_AGREE_ITEM_ID\n",
    "\n",
    ",CASE WHEN ITEM.ROW_ID IS NULL THEN NULL ELSE\n",
    "      CASE WHEN INIT_AGR.EFF_START_DT IS NOT NULL THEN DATEADD(hh, 10, INIT_AGR.EFF_START_DT) ELSE DATEADD(hh, 10, AGR.EFF_START_DT) END\n",
    "END AS AGR_START_DT\n",
    ", /* get the previous one time end date*/\n",
    "(select max(DATEADD(hour, 10, a1.EFF_END_DT)) end_dt\n",
    "      from S_AGREE_ITEM item1 with (NOLOCK)\n",
    "      INNER JOIN S_DOC_AGREE a1 on a1.ROW_ID=item1.DOC_AGREE_ID\n",
    "      inner join S_PROD_INT PROD ON item1.PROD_INT_ID = PROD.ROW_ID\n",
    "      where item1.ASSET_ID = ITEM.ASSET_ID\n",
    "      and item1.DOC_AGREE_ID <> AGR.ROW_ID\n",
    "      and a1.EFF_END_DT <= DATEADD(day, 5, AGR.EFF_START_DT)\n",
    "      and (a1.EFF_END_DT <= DATEADD(day, 5, INIT_AGR.EFF_START_DT) OR INIT_AGR.EFF_START_DT IS NULL)\n",
    "      and a1.AGREE_CD != 'Introductory Support'\n",
    "      and PROD.PRICE_TYPE_CD = 'One-Time'\n",
    "      and a1.STAT_CD != 'Pending' AND a1.STAT_CD != 'Upgraded' ) PREV_ANNUAL_END_DT\n",
    "\n",
    "      , /* count the number of parallel active agreements*/\n",
    "(select COUNT(a1.ROW_ID)\n",
    "      from S_AGREE_ITEM item1 with (NOLOCK)\n",
    "      INNER JOIN S_DOC_AGREE a1 on a1.ROW_ID=item1.DOC_AGREE_ID\n",
    "      inner join S_PROD_INT PROD ON item1.PROD_INT_ID = PROD.ROW_ID\n",
    "      where item1.ASSET_ID = ITEM.ASSET_ID\n",
    "      and item1.DOC_AGREE_ID <> AGR.ROW_ID\n",
    "      and a1.EFF_START_DT <= AGR.EFF_START_DT /*agreement has started before or equal to the current agreement*/\n",
    "      and (a1.EFF_END_DT >= AGR.EFF_START_DT OR a1.EFF_END_DT IS NULL) /*agreement has ended after to the current agreement*/\n",
    "      and a1.AGREE_CD != 'Introductory Support'\n",
    "      and item1.NET_PRI > 0 /*Paid agreement*/\n",
    "      AND a1.STAT_CD != 'Pending' AND a1.STAT_CD != 'Upgraded') COUNT_OTHER_ACTIVE_PAID_AGREE\n",
    ",/* get the previous recurring end date*/\n",
    "(select max(DATEADD(hour, 10, a1.EFF_END_DT)) end_dt\n",
    "      from S_AGREE_ITEM item1 with (NOLOCK)\n",
    "      INNER JOIN S_DOC_AGREE a1 on a1.ROW_ID=item1.DOC_AGREE_ID\n",
    "      inner join S_PROD_INT PROD ON item1.PROD_INT_ID = PROD.ROW_ID\n",
    "      where item1.ASSET_ID = ITEM.ASSET_ID\n",
    "      and item1.DOC_AGREE_ID <> AGR.ROW_ID\n",
    "      and a1.EFF_END_DT <= DATEADD(day, 5, AGR.EFF_START_DT)\n",
    "      and (a1.EFF_END_DT <= DATEADD(day, 5, INIT_AGR.EFF_START_DT) OR INIT_AGR.EFF_START_DT IS NULL)\n",
    "      and a1.AGREE_CD != 'Introductory Support'\n",
    "      and PROD.PRICE_TYPE_CD = 'Recurring' AND a1.STAT_CD != 'Pending' AND a1.STAT_CD != 'Upgraded') PREV_RECURRING_END_DT\n",
    ",DIV.NAME AS TEAM\n",
    ",CAMP.NAME AS CAMPAIGN\n",
    ",REF.INTEGRATION_ID AS REF_CLIENT_ID\n",
    ",REF.X_DIVISION AS REF_DIVISION\n",
    ",REF.X_SEGMENT AS REF_SEGMENT\n",
    ",REF.NAME AS REF_NAME\n",
    ",CASE WHEN (ACC.X_DIVISION IN ('Accountants Division') AND EVANG.LOGIN IS NULL)  THEN ACCOUNT_EVANG.LOGIN ELSE EVANG.LOGIN END AS EVANGELIST\n",
    ",QUOTE.X_COMM_OPTION AS REF_COMM_OPTION\n",
    ",PROD.UOM_CD AS UOM\n",
    ",PROD.PART_NUM AS PART_NUM\n",
    ",REG.SERIAL_NUM AS REG_SERIAL\n",
    ",ACCOUNT_ACCOUNT_MANAGER_CON.FST_NAME + ' ' +  ACCOUNT_ACCOUNT_MANAGER_CON.LAST_NAME AS ACCOUNT_ACCOUNT_MANAGER\n",
    ",REF_ACCOUNT_MANAGER_CON.FST_NAME + ' ' +  REF_ACCOUNT_MANAGER_CON.LAST_NAME AS REF_ACCOUNT_MANAGER\n",
    ",PROD.X_IGNORE_CURR_AGREE_FLG AS IGNORE_CURR_AGREE_FLG\n",
    ",ITEM.X_USED_BY_ASSET_ID AS AGREE_ITEM_CDF_ROW_ID\n",
    ",RENEWED_ITEM.ROW_ID AS RENEWED_ITEM_ROW_ID\n",
    ", /* get the previous end date matched on CDF Id*/\n",
    "(select max(DATEADD(hour, 10, a1.EFF_END_DT)) end_dt\n",
    "      from S_AGREE_ITEM item1 with (NOLOCK)\n",
    "      INNER JOIN S_DOC_AGREE a1 on a1.ROW_ID=item1.DOC_AGREE_ID\n",
    "      inner join S_PROD_INT PROD ON item1.PROD_INT_ID = PROD.ROW_ID\n",
    "      where item1.ASSET_ID = ITEM.ASSET_ID\n",
    "      and item1.DOC_AGREE_ID <> AGR.ROW_ID\n",
    "      and a1.EFF_END_DT <= DATEADD(day, 5, AGR.EFF_START_DT)\n",
    "      and (a1.EFF_END_DT <= DATEADD(day, 5, INIT_AGR.EFF_START_DT) OR INIT_AGR.EFF_START_DT IS NULL)\n",
    "      and a1.AGREE_CD != 'Introductory Support'\n",
    "      and  a1.STAT_CD != 'Pending' AND a1.STAT_CD != 'Upgraded'\n",
    "      and item1.X_USED_BY_ASSET_ID = ITEM.X_USED_BY_ASSET_ID) PREV_END_DT_CDF_MATCHED\n",
    "      ,CASE WHEN PRIMARY_ITEM.DOC_AGREE_ID = AGR.ROW_ID THEN 'Y' ELSE 'N' END AS PRIMARY_AGREE_FLAG\n",
    "      ,QUOTE.CREATED_BY AS QUOTE_CREATED_BY_ID\n",
    "      ,QUOTE.QUOTE_NUM AS QUOTE_NUMBER\n",
    "      ,QUOTE_CREATOR.FST_NAME + ' ' + QUOTE_CREATOR.LAST_NAME AS QUOTE_CREATOR\n",
    "      ,QUOTE_SALES_REP.FST_NAME + ' ' + QUOTE_SALES_REP.LAST_NAME  AS QUOTE_SALES_REP\n",
    "      ,POS.NAME AS QUOTE_SALES_REP_POSITION\n",
    "      ,TEAM.NAME AS SALES_REP_TEAM\n",
    "      ,ACC.NAME AS CLIENT_NAME\n",
    "      ,ACC.CREATED AS ACCOUNT_CREATED_DATE,\n",
    "       (SELECT TOP 1\n",
    "   QUOTE_CREATOR_TEAM.NAME AS CONTACT_TEAM\n",
    "   FROM S_POSTN QUOTE_CREATOR_POSTN\n",
    "   INNER JOIN S_CONTACT QUOTE_CREATOR ON  QUOTE_CREATOR.ROW_ID =  QUOTE_CREATOR_POSTN.PR_EMP_ID\n",
    "   INNER JOIN S_ORG_EXT QUOTE_CREATOR_TEAM ON QUOTE_CREATOR_POSTN.OU_ID  =  QUOTE_CREATOR_TEAM.ROW_ID\n",
    "   WHERE QUOTE_CREATOR.ROW_ID = QUOTE.CREATED_BY\n",
    "   GROUP BY  QUOTE_CREATOR_POSTN.CREATED, QUOTE_CREATOR_TEAM.NAME\n",
    "   ORDER BY QUOTE_CREATOR_POSTN.CREATED DESC ) AS QUOTE_CREATOR_TEAM\n",
    "   --,CASE WHEN AGR.STAT_CD IN ('Active', 'Arrears', 'Suspended') THEN 'N' ELSE CASE WHEN (AGR.STAT_CD IS NULL OR PROD.PRICE_TYPE_CD = 'Recurring') THEN 'N/A' ELSE 'Y' END END AS SALE_AGREE_CHURN_FLAG\n",
    "   ,AGR.AGREE_NUM AS SALE_AGREE_NUM\n",
    "   ,AGR.EFF_END_DT AS SALE_AGREE_END_DATE\n",
    "   ,isNull(PROMO.PART_NUM,'') AS BUNDLE_PARTCODE,\n",
    "   ITEM_OWNER_ACC.INTEGRATION_ID AS CLIENT_ACCOUNT_CLIENT_ID,\n",
    "      ITEM_OWNER_ACC.NAME AS CLIENT_ACCOUNT_NAME,\n",
    "      ITEM_OWNER_ACC.X_DIVISION AS CLIENT_ACCOUNT_DIVISION,\n",
    "      ITEM_OWNER_ACC.X_SEGMENT AS CLIENT_ACCOUNT_SEGMENT,\n",
    "      ORDER_BILL_ACC.INTEGRATION_ID AS BILL_ACCOUNT_CLIENT_ID,\n",
    "      ORDER_BILL_ACC.ROW_ID AS BILL_ACCOUNT_ROW_ID,\n",
    "      ORDER_BILL_ACC.NAME AS BILL_ACCOUNT_NAME,\n",
    "      ORDER_BILL_ACC.X_DIVISION AS BILL_ACCOUNT_DIVISION,\n",
    "      ORDER_BILL_ACC.X_SEGMENT AS BILL_ACCOUNT_SEGMENT,\n",
    "      CASE WHEN ORD.X_REF_ACCT_ID IS NOT NULL THEN 'Y' ELSE 'N' END AS REF_ACCOUNT_ON_ORDER_FLAG,\n",
    "      CASE WHEN ( SELECT TOP 1 S_ORDER_ITEM.ORDER_ID\n",
    "      FROM S_ORDER_ITEM\n",
    "      WHERE S_ORDER_ITEM.X_REL_ASSET_ID IS NOT NULL AND S_ORDER_ITEM.ORDER_ID = ORDITEM.ORDER_ID)  IS NOT NULL THEN 'Y' ELSE 'N' END AS HAS_RELATED_ASSET_FLG,\n",
    "      ORDER_SALES_REP.FST_NAME + ' ' + ORDER_SALES_REP.LAST_NAME AS ORDER_SALES_REP,\n",
    "      ORDER_TEAM.NAME AS ORDER_TEAM,\n",
    "      CASE WHEN AD_PARTNER_SUB_ORDER_CONFIRMED.TARGET_OU_ID IS NULL THEN 'N' ELSE 'Y' END AS AD_PARTNER_SUB_ORDER_CONFIRMED_FLAG,\n",
    "      AGR.AGREE_NUM AS ORDER_AGREE_NUM,\n",
    "      AGR.EFF_START_DT AS  ORDER_AGREE_START_DATE,\n",
    "      AGR.EFF_END_DT AS ORDER_AGREE_END_DATE,\n",
    "      AGR.STAT_CD AS ORDER_AGREE_STATUS\n",
    "      ,CONVERT(money, ORDITEM.ADJ_UNIT_PRI) AS START_PRICE\n",
    "      ,CONVERT(money,(ORDITEM.ADJ_UNIT_PRI - ORDITEM.NET_PRI)) AS DISCOUNT_AMOUNT_CALC\n",
    "      ,ITEM.ROW_ID AS ORDER_AGRITEM_ID\n",
    "      ,ACC.ROW_ID AS CLIENT_ROW_ID\n",
    "      ,REF_EVANG.LOGIN AS REF_REF_EVANGELIST\n",
    "      ,AGREE_EVANG.LOGIN AS AGREE_EVANGELIST\n",
    "      ,ORDREF.INTEGRATION_ID AS ORDREF_CLIENT_ID\n",
    "      ,ORDREF.NAME AS ORDREF_NAME\n",
    "      ,ORDREF.X_DIVISION AS ORDREF_DIVISION\n",
    "      ,ORDREF.X_SEGMENT AS ORDREF_SEGMENT\n",
    "      ,AGREEREF.INTEGRATION_ID AS AGREEREF_CLIENT_ID\n",
    "      ,AGREEREF.NAME AS AGREEREF_NAME\n",
    "      ,AGREEREF.X_DIVISION AS AGREEREF_DIVISION\n",
    "      ,AGREEREF.X_SEGMENT AS AGREEREF_SEGMENT\n",
    "      ,QUOTE_EVANG_CON.FST_NAME + ' ' + QUOTE_EVANG_CON.LAST_NAME AS QUOTE_EVANG_CON_NAME\n",
    "      ,EVANG.LOGIN AS QUOTE_EVANG_LOGIN\n",
    "      ,QUOTE_EVANG_CON_POSTN.NAME AS QUOTE_EVANG_CON_POSTN\n",
    "      ,QUOTE_EVANG_TEAM.NAME AS QUOTE_EVANG_TEAM\n",
    "    ,REFACCOUNT_EVANG_CON.FST_NAME + ' ' + REFACCOUNT_EVANG_CON.LAST_NAME AS     REFACCOUNT_EVANG_CON_NAME\n",
    "      ,REF_EVANG.LOGIN AS REFACCOUNT_EVANG_LOGIN\n",
    "      ,REFACCOUNT_EVANG_CON_POSTN.NAME AS REFACCOUNT_EVANG_CON_POSTN\n",
    "      ,REFACCOUNT_EVANG_TEAM.NAME AS REFACCOUNT_EVANG_TEAM\n",
    "      ,AGREE_EVANG_CON.FST_NAME + ' ' + AGREE_EVANG_CON.LAST_NAME AS AGREE_EVANG_CON_NAME\n",
    "      , AGREE_EVANG.LOGIN AS AGREE_EVANG_LOGIN\n",
    "      ,AGREE_EVANG_CON_POS.NAME AS AGREE_EVANG_CON_POS\n",
    "      ,TEAM_AGREE_EVANG.NAME AS TEAM_AGREE_EVANG_NAME\n",
    "      ,ACC_EVANG.LOGIN AS ACC_EVANG_LOGIN\n",
    "      ,REF_CONTACT.FST_NAME + ' ' + REF_CONTACT.LAST_NAME AS REFERRED_BY_CONTACT\n",
    "\t  ,CASE WHEN BUREAU_ASSET.ROW_ID IS NULL THEN 'N' ELSE 'Y' END AS BUREAU_FLG\n",
    "\t  ,AST.ROW_ID AS ASSET_ID\n",
    "\t  ,AST.X_PR_AGREE_ITEM_ID\n",
    "\t  ,AGREE_ITEM.AGREE_ITEM_ID\n",
    "\t  ,CASE WHEN AGREE_ITEM.AGREE_ITEM_ID IS NULL THEN NULL\n",
    "\t\tELSE CASE WHEN (AST.X_PR_AGREE_ITEM_ID = AGREE_ITEM.AGREE_ITEM_ID) THEN 'Y' ELSE 'N' END END AS PRIMARY_AGREE_ITEM_FLG\n",
    "from S_ORDER_ITEM ORDITEM\n",
    "        left outer join S_ASSET ITEMAST ON ORDITEM.ASSET_ID = ITEMAST.ROW_ID\n",
    "            left outer join S_INVOICE_ITEM CHILD ON CHILD.ORDER_ITEM_ID = ORDITEM.ROW_ID\n",
    "            inner join S_ORDER ORD ON ORDITEM.ORDER_ID = ORD.ROW_ID\n",
    "            inner join S_ORDER_TYPE ORDTYPE ON ORD.ORDER_TYPE_ID = ORDTYPE.ROW_ID\n",
    "            left outer join S_ORDER_ITEM PARITEM ON ORDITEM.PAR_ORDER_ITEM_ID = PARITEM.ROW_ID\n",
    "            inner join S_PROD_INT PROD ON ORDITEM.PROD_ID = PROD.ROW_ID AND PROD.TYPE IS NOT NULL\n",
    "            inner join S_PROD_LN PRODLN ON PROD.PR_PROD_LN_ID = PRODLN.ROW_ID\n",
    "            left outer join S_PROD_INT PARPROD ON PARITEM.PROD_ID = PARPROD.ROW_ID\n",
    "            left outer join S_PROD_LN PARPROD_LN ON PARPROD.PR_PROD_LN_ID = PARPROD_LN.ROW_ID\n",
    "            left outer join S_INVOICE INV ON CHILD.INVOICE_ID = INV.ROW_ID\n",
    "            left outer join S_PROD_INT PROMO ON ORDITEM.PROMOTION_ID = PROMO.ROW_ID\n",
    "            left outer join (SELECT PROMOTION_ID AS PROMO_ID, count(*) AS UPG_COUNT\n",
    "                                    from S_PROM_ITEM with(NOLOCK)\n",
    "                                    inner join S_PROD_INT ON S_PROM_ITEM.PROD_ID = S_PROD_INT.ROW_ID\n",
    "                                    where S_PROD_INT.TYPE = 'Upgrade'\n",
    "                                    group by PROMOTION_ID\n",
    "                                    )PROMOCOMP ON PROMO.ROW_ID = PROMOCOMP.PROMO_ID\n",
    "            inner join S_ORG_EXT ACC ON ORD.BILL_ACCNT_ID = ACC.ROW_ID\n",
    "\t\t\tinner join S_ORG_EXT ACCI ON ORD.ACCNT_ID = ACCI.ROW_ID\n",
    "            left outer join S_ASSET AST ON PARITEM.ASSET_ID = AST.ROW_ID\n",
    "            inner join S_ORG_EXT LE ON ORD.BU_ID = LE.ROW_ID\n",
    "            /* MATCH TO ORDER AGREEMENT - USE RANK TO GET 1 AGREEMENT ITEM ONLY */\n",
    "            left outer join ( SELECT AGR.ORDER_ID AS AGR_ORDER_ID, ITEM.ROW_ID AS ITEM_ID, ITEM.ASSET_ID, ITEM.PROD_INT_ID AS ITEM_PROD_ID\n",
    "                                   ,RANK() OVER(PARTITION BY AGR.ORDER_ID,ITEM.ASSET_ID,ITEM.PROD_INT_ID ORDER BY AGR.CREATED DESC) RANKS\n",
    "                                    ,RANK() OVER(PARTITION BY ITEM.DOC_AGREE_ID,ITEM.PROD_INT_ID,ITEM.ASSET_ID ORDER BY ITEM.ROW_ID) RANKS2\n",
    "                                    from S_AGREE_ITEM ITEM with(NOLOCK)\n",
    "                                    inner join S_DOC_AGREE AGR ON ITEM.DOC_AGREE_ID = AGR.ROW_ID\n",
    "                                    ) AGRITEM\n",
    "                                    ON ORD.ROW_ID = AGRITEM.AGR_ORDER_ID AND\n",
    "                                    ORDITEM.PROD_ID = AGRITEM.ITEM_PROD_ID AND\n",
    "                                    AST.ROW_ID = AGRITEM.ASSET_ID AND\n",
    "                                    AGRITEM.RANKS = 1 AND AGRITEM.RANKS2 = 1\n",
    "          left outer join S_AGREE_ITEM ITEM ON ( AGRITEM.ITEM_ID = ITEM.ROW_ID)\n",
    "            left outer join S_DOC_AGREE AGR ON ITEM.DOC_AGREE_ID = AGR.ROW_ID\n",
    "            /* MATCH TO INITIAL AGREEMENT - USE RANK TO GET 1 AGREEMENT ITEM ONLY */\n",
    "            left outer join (\n",
    "                                      SELECT DISTINCT\n",
    "                                      INIT_AGREE.EFF_START_DT,\n",
    "                                      INIT_AGREE.ORDER_ID,\n",
    "                                      INIT_AGREE.ROW_ID AS AGREE_ROW_ID,\n",
    "                                      INIT_AGREE.AGREE_NUM,\n",
    "                                      S_ASSET.ROW_ID AS ASSET_ROW_ID,\n",
    "                                      RANK() OVER(PARTITION BY INIT_AGREE.ORDER_ID, S_ASSET.ROW_ID ORDER BY INIT_AGREE.EFF_START_DT ASC) RANKS\n",
    "                                      FROM S_DOC_AGREE INIT_AGREE\n",
    "                                      INNER JOIN S_AGREE_ITEM ON S_AGREE_ITEM.DOC_AGREE_ID = INIT_AGREE.ROW_ID\n",
    "                                      INNER JOIN S_ASSET ON S_ASSET.ROW_ID = S_AGREE_ITEM.ASSET_ID\n",
    "                                      INNER JOIN S_PROD_INT ON S_AGREE_ITEM.PROD_INT_ID = S_PROD_INT.ROW_ID\n",
    "                                      WHERE DATEDIFF(day, INIT_AGREE.EFF_START_DT, INIT_AGREE.EFF_END_DT) < 183\n",
    "                                      AND INIT_AGREE.AGREE_CD != 'Introductory Support'\n",
    "                                      AND INIT_AGREE.ORDER_ID IS NOT NULL\n",
    "                                      AND S_PROD_INT.PRICE_TYPE_CD ='One-Time'\n",
    "                                    ) INIT_AGR\n",
    "                                      ON ORD.ROW_ID = INIT_AGR.ORDER_ID\n",
    "                                      AND INIT_AGR.AGREE_ROW_ID != AGR.ROW_ID\n",
    "                                      AND ITEM.ASSET_ID = INIT_AGR.ASSET_ROW_ID\n",
    "                                      AND INIT_AGR.RANKS = 1\n",
    "\n",
    "            left outer join S_DOC_QUOTE QUOTE ON ORD.QUOTE_ID = QUOTE.ROW_ID\n",
    "            left outer join S_POSTN ACCOUNT_ACCOUNT_MANAGER_POS ON ACCOUNT_ACCOUNT_MANAGER_POS.ROW_ID =  ACC.PR_POSTN_ID\n",
    "            left outer join S_CONTACT ACCOUNT_ACCOUNT_MANAGER_CON ON ACCOUNT_ACCOUNT_MANAGER_CON.ROW_ID = ACCOUNT_ACCOUNT_MANAGER_POS.PR_EMP_ID\n",
    "            left outer join S_POSTN POS ON QUOTE.SALES_REP_POSTN_ID = POS.ROW_ID\n",
    "            left outer join S_ORG_EXT DIV ON POS.OU_ID = DIV.ROW_ID\n",
    "            left outer join S_SRC CAMP ON ORD.PROMO_ID = CAMP.ROW_ID\n",
    "            left outer join S_PTY_PAY_PRFL PAYPRFL ON ORD.X_PAYMENT_PROFILE_ID = PAYPRFL.ROW_ID\n",
    "            left outer join S_AGREE_ITEM RENEWED_ITEM ON RENEWED_ITEM.X_RENEWED_BY_ITEM_ID = ITEM.ROW_ID /*PRIOR RENEWED ITEM*/\n",
    "            left outer join S_ORG_EXT REF ON QUOTE.X_REF_ACCT_ID = REF.ROW_ID\n",
    "            left outer join S_USER EVANG ON QUOTE.X_PROD_EVNGLIST_ID = EVANG.ROW_ID\n",
    "            left outer join REGGIE_COVER_SERIALS REG ON AST.SERIAL_NUM = REG.SERIAL_NUM\n",
    "            left outer join S_POSTN REF_ACCOUNT_MANAGER_POS ON REF_ACCOUNT_MANAGER_POS.ROW_ID =  REF.PR_POSTN_ID\n",
    "            left outer join S_CONTACT REF_ACCOUNT_MANAGER_CON ON REF_ACCOUNT_MANAGER_CON.ROW_ID = REF_ACCOUNT_MANAGER_POS.PR_EMP_ID\n",
    "            left outer join S_AGREE_ITEM PRIMARY_ITEM on PRIMARY_ITEM.ROW_ID = AST.X_PR_AGREE_ITEM_ID\n",
    "            left outer join S_USER ACCOUNT_EVANG ON ACCOUNT_EVANG.ROW_ID = ACC.X_PROD_EVNGLIST_ID\n",
    "            left outer join S_CONTACT QUOTE_SALES_REP ON QUOTE_SALES_REP.ROW_ID = POS.PR_EMP_ID\n",
    "            left outer join S_CONTACT QUOTE_CREATOR ON QUOTE_CREATOR.ROW_ID = QUOTE.CREATED_BY\n",
    "            left outer join S_ORG_EXT TEAM ON TEAM.PAR_ROW_ID =  POS.OU_ID\n",
    "            LEFT OUTER JOIN S_ORG_EXT ORDER_BILL_ACC ON ORD.BILL_ACCNT_ID = ORDER_BILL_ACC.ROW_ID\n",
    "        LEFT OUTER JOIN S_ORG_EXT ITEM_OWNER_ACC ON ORDITEM.OWNER_ACCOUNT_ID = ITEM_OWNER_ACC.ROW_ID\n",
    "        left outer join S_POSTN ORDER_POS ON ORD.PR_POSTN_ID  = ORDER_POS.ROW_ID\n",
    "        left outer join S_CONTACT ORDER_SALES_REP ON ORDER_SALES_REP.ROW_ID = ORDER_POS.PR_EMP_ID\n",
    "        left outer join S_ORG_EXT ORDER_TEAM ON ORDER_POS.OU_ID = ORDER_TEAM.ROW_ID\n",
    "        LEFT OUTER JOIN (SELECT  A.TARGET_OU_ID, MAX(A.CREATED) AS CREATED FROM S_EVT_ACT A\n",
    "                                    WHERE A.X_INTERACTION_CD = 'AD Partner Team' AND A.X_INTERACTION2_CD = 'Sub Order Confirm Received'\n",
    "                                    GROUP BY A.TARGET_OU_ID) AD_PARTNER_SUB_ORDER_CONFIRMED ON AD_PARTNER_SUB_ORDER_CONFIRMED.TARGET_OU_ID = ORDER_BILL_ACC.ROW_ID\n",
    "            /*QUOTE REFERRED BY CONTACT; OFF QUOTE DIRECTLY */\n",
    "            left outer join S_CONTACT REF_CONTACT ON REF_CONTACT.ROW_ID = QUOTE.X_REF_CON_ID\n",
    "            /*EVANGELIST CONTACT, OFF QUOTE DIRECTLY, RATHER THAN ACCOUNT */\n",
    "            left outer join S_CONTACT QUOTE_EVANG_CON ON QUOTE.X_PROD_EVNGLIST_ID = QUOTE_EVANG_CON.ROW_ID\n",
    "            left outer join S_POSTN QUOTE_EVANG_CON_POSTN ON QUOTE_EVANG_CON.PR_HELD_POSTN_ID = QUOTE_EVANG_CON_POSTN.ROW_ID\n",
    "            LEFT OUTER JOIN S_PARTY QUOTE_EVANG_TEAM ON QUOTE_EVANG_CON_POSTN.OU_ID = QUOTE_EVANG_TEAM.PARTY_UID\n",
    "            /*ORDER REF ACCOUNT; AND EVANGELIST */\n",
    "            left outer join S_ORG_EXT ORDREF ON ORD.X_REF_ACCT_ID = ORDREF.ROW_ID\n",
    "            left outer join S_USER REF_EVANG ON ORDREF.X_PROD_EVNGLIST_ID = REF_EVANG.ROW_ID\n",
    "            left outer join S_CONTACT REFACCOUNT_EVANG_CON ON ORDREF.X_PROD_EVNGLIST_ID = REFACCOUNT_EVANG_CON.ROW_ID\n",
    "            left outer join S_POSTN REFACCOUNT_EVANG_CON_POSTN ON REFACCOUNT_EVANG_CON_POSTN.ROW_ID = REFACCOUNT_EVANG_CON.PR_HELD_POSTN_ID\n",
    "            LEFT OUTER JOIN S_PARTY REFACCOUNT_EVANG_TEAM ON REFACCOUNT_EVANG_CON_POSTN.OU_ID = REFACCOUNT_EVANG_TEAM.PARTY_UID\n",
    "            /*AGREEMENT REF ACCOUNT ; AND EVANGELIST */\n",
    "            left outer join S_ORG_EXT AGREEREF ON AGR.X_REF_ACCT_ID = AGREEREF.ROW_ID\n",
    "            left outer join S_USER AGREE_EVANG ON AGREEREF.X_PROD_EVNGLIST_ID = AGREE_EVANG.ROW_ID\n",
    "            left outer join S_CONTACT AGREE_EVANG_CON ON AGREEREF.X_PROD_EVNGLIST_ID = AGREE_EVANG_CON.ROW_ID\n",
    "            left outer join S_POSTN AGREE_EVANG_CON_POS ON AGREE_EVANG_CON.PR_HELD_POSTN_ID = AGREE_EVANG_CON_POS.ROW_ID\n",
    "            LEFT OUTER JOIN S_PARTY TEAM_AGREE_EVANG ON AGREE_EVANG_CON_POS.OU_ID = TEAM_AGREE_EVANG.PARTY_UID\n",
    "            /*ACCOUNT EVANGELIST */\n",
    "            LEFT OUTER JOIN S_USER ACC_EVANG ON ACC.X_PROD_EVNGLIST_ID  = ACC_EVANG.ROW_ID\n",
    "\t\t\tLEFT OUTER JOIN S_ASSET_REL BUREAU_ASSET ON AST.ROW_ID = BUREAU_ASSET.ASSET_ID AND BUREAU_ASSET.RELATION_TYPE_CD = 'Relates To'\n",
    "\t\t\tLEFT OUTER JOIN (SELECT S_DOC_AGREE.ORDER_ID AS AGREE_ORDER_ID, S_AGREE_ITEM.X_ORDER_ITEM_ID, S_AGREE_ITEM.ROW_ID AS AGREE_ITEM_ID\n",
    "\t\t\tFROM S_AGREE_ITEM\n",
    "\t\t\tINNER JOIN S_DOC_AGREE ON S_AGREE_ITEM.DOC_AGREE_ID = S_DOC_AGREE.ROW_ID ) AGREE_ITEM ON ORDITEM.ROW_ID = AGREE_ITEM.X_ORDER_ITEM_ID AND ORD.ROW_ID = AGREE_ITEM.AGREE_ORDER_ID\n",
    "\n",
    "where  ORD.ORDER_DT > @month_to_date AND ORD.ORDER_DT  < @month_to_date2\n",
    "            AND ORDTYPE.NAME IN ('Sales Order', 'Web Order')\n",
    "            AND ORDITEM.NET_PRI > 0\n",
    "            AND ORD.STATUS_CD != 'Pending' AND ORD.STATUS_CD != 'Cancelled'\n",
    "            AND LE.ROW_ID IN ('1-14J-0','1-14J-1')\n",
    "            AND (PROD.PRICE_TYPE_CD IN ('Recurring',  'One-Time') OR PROD.X_GL_POSTING_GRP = 'MAINTAR')\n",
    "\n",
    "                                                /*EXCLUDE Referred By Accounts whose account type is 'Internal Customer'  */\n",
    "                                                AND (ISNULL(REF.OU_TYPE_CD,'NA') <> 'Internal Customer' AND  ISNULL(ORDREF.OU_TYPE_CD,'NA') <> 'Internal Customer'\n",
    "                                                      AND ISNULL(AGREEREF.OU_TYPE_CD,'NA') <> 'Internal Customer')\n",
    "\n",
    "            AND PRODLN.NAME IN ('AccountEdge'\n",
    "                                          ,'Accounting'\n",
    "                                          ,'AccountingPlus'\n",
    "                                          ,'Additional Bookkeeper'\n",
    "                                          ,'Approved Bookkeeper'\n",
    "                                          ,'AssetManager Pro'\n",
    "                                          ,'Bookkeeper'\n",
    "                                          ,'Business Basics'\n",
    "                                          ,'Certified Consultants'\n",
    "                                          ,'Developer Program'\n",
    "                                          ,'Educators'\n",
    "                                          ,'FirstEdge'\n",
    "                                          ,'JustInvoices'\n",
    "                                          ,'Powerpay'\n",
    "                                          ,'Premier'\n",
    "                                          ,'Premier Enterprise'\n",
    "                                          ,'Publishers'\n",
    "                                          ,'RetailBasics'\n",
    "                                          ,'RetailHospitality'\n",
    "                                          ,'RetailManager'\n",
    "                                          ,'RetailManager Enterprise'\n",
    "                                          ,'RetailManager Professional'\n",
    "                                          ,'RetailReady'\n",
    "                                        ,'AccountEdge NE'\n",
    "                                        ,'PACs'\n",
    "                                        ,'Payroll Software'\n",
    "                                          ,'Cashbook'\n",
    "                                          ,'Training & Consulting Services'\n",
    "                                          ,'Training & Consulting Services, Other'\n",
    "                                          ,'Training - All Classroom Training'\n",
    "\t\t\t\t\t\t\t\t\t\t  ,'Training & Consulting Services - Other'\n",
    "                                          ,'MYOB Kounta'\n",
    "                                          ,'Mobile Payments'\n",
    "\t\t\t\t\t\t\t\t\t\t\t\t\t\t\t\t\t\t\t\t\t\t\t\t\t\t\t\t\t\t\t\t\t\t\t\t\t\t\t\t\t\t\t\t\t\t\t\t\t\t,'Cashbook Online'\n",
    "\t\t\t\t\t\t\t\t\t\t\t\t\t\t\t\t\t\t\t\t\t\t\t\t\t\t\t\t\t\t\t\t\t\t\t\t\t\t\t\t\t\t\t\t\t\t\t\t        ,'ACE Payroll'\n",
    "\t\t\t\t\t\t\t\t\t\t,'IMS Payroll'\n",
    "                                          )\n",
    "\n",
    "                                                                AND (PROD.PART_NUM NOT LIKE '%-POR-%' OR PROD.PART_NUM LIKE '%-POR-INV-%')"
   ]
  },
  {
   "cell_type": "markdown",
   "metadata": {},
   "source": [
    "## Sales Monitor, this is the first part which extracts the data from OLTP using the store proc.\n",
    "This is from Line 464 till 898 of the GET_SALES_MONITOR_QUERY_v3"
   ]
  },
  {
   "cell_type": "code",
   "execution_count": 1,
   "metadata": {},
   "outputs": [],
   "source": [
    "#To extract sales montior data\n",
    "\n",
    "import numpy as np\n",
    "import pyodbc\n",
    "import pandas as pd\n",
    "\n",
    "\n",
    "#Connection String\n",
    "cnxn = pyodbc.connect('DRIVER={ODBC Driver 17 for SQL Server};SERVER=my_server;DATABASE=my_db;UID=my_user;PWD=my_pwd')\n",
    "cursor = cnxn.cursor()"
   ]
  },
  {
   "cell_type": "markdown",
   "metadata": {},
   "source": [
    "## Set Extraction date range"
   ]
  },
  {
   "cell_type": "code",
   "execution_count": 2,
   "metadata": {},
   "outputs": [
    {
     "name": "stdout",
     "output_type": "stream",
     "text": [
      "EXTRACT ORDERS FROM DATE '2018-11-30 14:00:00'\n"
     ]
    }
   ],
   "source": [
    "query_from_dt = (\"SELECT dateadd(hh,-10,CAST(DATEPART(year, DATEADD(month, -1, GETDATE())) AS VARCHAR) + '-' + CAST(DATEPART(month, DATEADD(month, -1, GETDATE())) AS VARCHAR) + '-1') as FROM_DT\")\n",
    "\n",
    "\n",
    "df_from_dt = pd.read_sql(query_from_dt, cnxn)\n",
    "from_dt = df_from_dt.iloc[0]['FROM_DT']\n",
    "\n",
    "str_from_dt = \"{:%Y-%m-%d %H:%M:%S}\".format(from_dt)\n",
    "print (\"EXTRACT ORDERS FROM DATE '%s'\" %str_from_dt)"
   ]
  },
  {
   "cell_type": "code",
   "execution_count": 3,
   "metadata": {},
   "outputs": [
    {
     "name": "stdout",
     "output_type": "stream",
     "text": [
      "EXTRACT ORDERS to DATE '2019-01-04 04:32:22'\n"
     ]
    }
   ],
   "source": [
    "query_to_dt = (\"SELECT dateadd(hh,-10,GETDATE()) as TO_DT\")\n",
    "\n",
    "\n",
    "df_to_dt = pd.read_sql(query_to_dt, cnxn)\n",
    "to_dt = df_to_dt.iloc[0]['TO_DT']\n",
    "\n",
    "str_to_dt = \"{:%Y-%m-%d %H:%M:%S}\".format(to_dt)\n",
    "print (\"EXTRACT ORDERS to DATE '%s'\" %str_to_dt)"
   ]
  },
  {
   "cell_type": "markdown",
   "metadata": {},
   "source": [
    "## Order Date filter"
   ]
  },
  {
   "cell_type": "code",
   "execution_count": 4,
   "metadata": {},
   "outputs": [
    {
     "name": "stdout",
     "output_type": "stream",
     "text": [
      "ORD.ORDER_DT >'2018-11-30 14:00:00' AND ORD.ORDER_DT <'2019-01-04 04:32:22'\n"
     ]
    }
   ],
   "source": [
    "order_dt_filter = \"ORD.ORDER_DT >'%s' AND ORD.ORDER_DT <'%s'\" %(str_from_dt, str_to_dt)\n",
    "print (order_dt_filter)"
   ]
  },
  {
   "cell_type": "markdown",
   "metadata": {},
   "source": [
    "## Order Status filter"
   ]
  },
  {
   "cell_type": "code",
   "execution_count": 5,
   "metadata": {},
   "outputs": [
    {
     "name": "stdout",
     "output_type": "stream",
     "text": [
      "ORD.STATUS_CD != 'Pending' AND ORD.STATUS_CD != 'Cancelled'\n"
     ]
    }
   ],
   "source": [
    "order_status_filter = \"ORD.STATUS_CD != 'Pending' AND ORD.STATUS_CD != 'Cancelled'\"\n",
    "print (order_status_filter)"
   ]
  },
  {
   "cell_type": "markdown",
   "metadata": {},
   "source": [
    "## Order Item filter"
   ]
  },
  {
   "cell_type": "code",
   "execution_count": 6,
   "metadata": {},
   "outputs": [
    {
     "name": "stdout",
     "output_type": "stream",
     "text": [
      "ORDITEM.NET_PRI > 0\n"
     ]
    }
   ],
   "source": [
    "order_item_filter = \"ORDITEM.NET_PRI > 0\"\n",
    "print (order_item_filter)"
   ]
  },
  {
   "cell_type": "markdown",
   "metadata": {},
   "source": [
    "## Order Type filter"
   ]
  },
  {
   "cell_type": "code",
   "execution_count": 7,
   "metadata": {},
   "outputs": [
    {
     "name": "stdout",
     "output_type": "stream",
     "text": [
      "ORDTYPE.NAME IN ('Sales Order' , 'Web order')\n"
     ]
    }
   ],
   "source": [
    "order_type_filter = \"ORDTYPE.NAME IN ('Sales Order' , 'Web order')\"\n",
    "print (order_type_filter)"
   ]
  },
  {
   "cell_type": "markdown",
   "metadata": {},
   "source": [
    "## Product Price type filter\n",
    "1. EXCLUDE Referred By Accounts whose account type is 'Internal Customer'"
   ]
  },
  {
   "cell_type": "code",
   "execution_count": 8,
   "metadata": {},
   "outputs": [
    {
     "name": "stdout",
     "output_type": "stream",
     "text": [
      "PROD.PRICE_TYPE_CD IN ('Recurring',  'One-Time')\n"
     ]
    }
   ],
   "source": [
    "product_price_type_filter = \"PROD.PRICE_TYPE_CD IN ('Recurring',  'One-Time')\"\n",
    "print (product_price_type_filter)"
   ]
  },
  {
   "cell_type": "markdown",
   "metadata": {},
   "source": [
    "## Product X_GL_POSTING_GRP filter"
   ]
  },
  {
   "cell_type": "code",
   "execution_count": 9,
   "metadata": {},
   "outputs": [
    {
     "name": "stdout",
     "output_type": "stream",
     "text": [
      "PROD.X_GL_POSTING_GRP = 'MAINTAR')\n"
     ]
    }
   ],
   "source": [
    "prod_x_gl_posting_grp_filter = \"PROD.X_GL_POSTING_GRP = 'MAINTAR')\"\n",
    "print (prod_x_gl_posting_grp_filter)"
   ]
  },
  {
   "cell_type": "markdown",
   "metadata": {},
   "source": [
    "## Referred by Accounts filter"
   ]
  },
  {
   "cell_type": "code",
   "execution_count": 10,
   "metadata": {},
   "outputs": [
    {
     "name": "stdout",
     "output_type": "stream",
     "text": [
      "(ISNULL(REF.OU_TYPE_CD,'NA') <> 'Internal Customer'\n"
     ]
    }
   ],
   "source": [
    "ref_by_accnt_filter = \"(ISNULL(REF.OU_TYPE_CD,'NA') <> 'Internal Customer'\"\n",
    "print (ref_by_accnt_filter)"
   ]
  },
  {
   "cell_type": "markdown",
   "metadata": {},
   "source": [
    "## Order referred by Account filter"
   ]
  },
  {
   "cell_type": "code",
   "execution_count": 11,
   "metadata": {},
   "outputs": [
    {
     "name": "stdout",
     "output_type": "stream",
     "text": [
      "ISNULL(ORDREF.OU_TYPE_CD,'NA') <> 'Internal Customer'\n"
     ]
    }
   ],
   "source": [
    "ord_ref_by_accnt_filter = \"ISNULL(ORDREF.OU_TYPE_CD,'NA') <> 'Internal Customer'\"\n",
    "print (ord_ref_by_accnt_filter)"
   ]
  },
  {
   "cell_type": "markdown",
   "metadata": {},
   "source": [
    "## Agree referred by Account filter"
   ]
  },
  {
   "cell_type": "code",
   "execution_count": 12,
   "metadata": {},
   "outputs": [
    {
     "name": "stdout",
     "output_type": "stream",
     "text": [
      "ISNULL(ARGEEREF.OU_TYPE_CD,'NA') <> 'Internal Customer'\n"
     ]
    }
   ],
   "source": [
    "arg_ref_by_accnt_filter = \"ISNULL(ARGEEREF.OU_TYPE_CD,'NA') <> 'Internal Customer'\"\n",
    "print (arg_ref_by_accnt_filter)"
   ]
  },
  {
   "cell_type": "markdown",
   "metadata": {},
   "source": [
    "## Order Item Product Line filter"
   ]
  },
  {
   "cell_type": "code",
   "execution_count": 13,
   "metadata": {},
   "outputs": [
    {
     "name": "stdout",
     "output_type": "stream",
     "text": [
      "PRODLN.NAME IN ('AccountEdge','Accounting','AccountingPlus','Additional Bookkeeper','Approved Bookkeeper','AssetManager Pro','Bookkeeper','Business Basics','Certified Consultants','Developer Program','Educators','FirstEdge','JustInvoices','Powerpay','Premier','Premier Enterprise','Publishers','RetailBasics','RetailHospitality','RetailManager','RetailManager Enterprise','RetailManager Professional','RetailReady','AccountEdge NE','PACs','Payroll Software','Cashbook','Training & Consulting Services','Training & Consulting Services, Other','Training - All Classroom Training','Training & Consulting Services - Other','MYOB Kounta','Mobile Payments','Cashbook Online','ACE Payroll','IMS Payroll')\n"
     ]
    }
   ],
   "source": [
    "orditem_prod_ln_filter = \"PRODLN.NAME IN ('AccountEdge','Accounting','AccountingPlus','Additional Bookkeeper','Approved Bookkeeper','AssetManager Pro','Bookkeeper','Business Basics','Certified Consultants','Developer Program','Educators','FirstEdge','JustInvoices','Powerpay','Premier','Premier Enterprise','Publishers','RetailBasics','RetailHospitality','RetailManager','RetailManager Enterprise','RetailManager Professional','RetailReady','AccountEdge NE','PACs','Payroll Software','Cashbook','Training & Consulting Services','Training & Consulting Services, Other','Training - All Classroom Training','Training & Consulting Services - Other','MYOB Kounta','Mobile Payments','Cashbook Online','ACE Payroll','IMS Payroll')\"\n",
    "print (orditem_prod_ln_filter)"
   ]
  },
  {
   "cell_type": "markdown",
   "metadata": {},
   "source": [
    "## Order Item Product Part number filter"
   ]
  },
  {
   "cell_type": "code",
   "execution_count": 14,
   "metadata": {},
   "outputs": [
    {
     "name": "stdout",
     "output_type": "stream",
     "text": [
      "(PROD.PART_NUM NOT LIKE '%-POR-%' OR PROD.PART_NUM LIKE '%-POR-INV-%')\n"
     ]
    }
   ],
   "source": [
    "orditem_prod_part_num_filter = \"(PROD.PART_NUM NOT LIKE '%-POR-%' OR PROD.PART_NUM LIKE '%-POR-INV-%')\"\n",
    "print (orditem_prod_part_num_filter)"
   ]
  },
  {
   "cell_type": "markdown",
   "metadata": {},
   "source": [
    "## S_ORDER_ITEM table ORDITM\n",
    "\n",
    "1. Restricted the number of rows by limiting orders based on order dates, order status, order item product_type, order item prod line and order item prod part num."
   ]
  },
  {
   "cell_type": "code",
   "execution_count": 15,
   "metadata": {},
   "outputs": [
    {
     "data": {
      "text/html": [
       "<div>\n",
       "<style>\n",
       "    .dataframe thead tr:only-child th {\n",
       "        text-align: right;\n",
       "    }\n",
       "\n",
       "    .dataframe thead th {\n",
       "        text-align: left;\n",
       "    }\n",
       "\n",
       "    .dataframe tbody tr th {\n",
       "        vertical-align: top;\n",
       "    }\n",
       "</style>\n",
       "<table border=\"1\" class=\"dataframe\">\n",
       "  <thead>\n",
       "    <tr style=\"text-align: right;\">\n",
       "      <th></th>\n",
       "      <th>ORDITM_ROW_ID</th>\n",
       "      <th>ORDITM_ADJ_UNIT_PRI</th>\n",
       "      <th>ORDITM_NET_PRI</th>\n",
       "      <th>ORDITM_ASSET_ID</th>\n",
       "      <th>ORDITM_ORDER_ID</th>\n",
       "      <th>ORDITM_PAR_ORDER_ITEM_ID</th>\n",
       "      <th>ORDITM_PROD_ID</th>\n",
       "      <th>ORDITM_PROMOTION_ID</th>\n",
       "      <th>ORDITM_OWNER_ACCOUNT_ID</th>\n",
       "      <th>ORDITM_QTY_REQ</th>\n",
       "    </tr>\n",
       "  </thead>\n",
       "  <tbody>\n",
       "    <tr>\n",
       "      <th>0</th>\n",
       "      <td>1-KP1ZHAD</td>\n",
       "      <td>120.000</td>\n",
       "      <td>120.000</td>\n",
       "      <td>None</td>\n",
       "      <td>1-KP1ZHAB</td>\n",
       "      <td>None</td>\n",
       "      <td>1-KP1WPJZ</td>\n",
       "      <td>None</td>\n",
       "      <td>1-KP1YMMI</td>\n",
       "      <td>1.0</td>\n",
       "    </tr>\n",
       "    <tr>\n",
       "      <th>1</th>\n",
       "      <td>1-KP31TLS</td>\n",
       "      <td>0.000</td>\n",
       "      <td>0.000</td>\n",
       "      <td>1-KP31BFT</td>\n",
       "      <td>1-KP31TLQ</td>\n",
       "      <td>None</td>\n",
       "      <td>1-11XL7K5</td>\n",
       "      <td>None</td>\n",
       "      <td>1-KP30OAA</td>\n",
       "      <td>1.0</td>\n",
       "    </tr>\n",
       "    <tr>\n",
       "      <th>2</th>\n",
       "      <td>1-KP31TLT</td>\n",
       "      <td>90.909</td>\n",
       "      <td>90.909</td>\n",
       "      <td>None</td>\n",
       "      <td>1-KP31TLQ</td>\n",
       "      <td>1-KP31TLS</td>\n",
       "      <td>1-11XL76S</td>\n",
       "      <td>None</td>\n",
       "      <td>1-KP30OAA</td>\n",
       "      <td>1.0</td>\n",
       "    </tr>\n",
       "  </tbody>\n",
       "</table>\n",
       "</div>"
      ],
      "text/plain": [
       "  ORDITM_ROW_ID  ORDITM_ADJ_UNIT_PRI  ORDITM_NET_PRI ORDITM_ASSET_ID  \\\n",
       "0     1-KP1ZHAD              120.000         120.000            None   \n",
       "1     1-KP31TLS                0.000           0.000       1-KP31BFT   \n",
       "2     1-KP31TLT               90.909          90.909            None   \n",
       "\n",
       "  ORDITM_ORDER_ID ORDITM_PAR_ORDER_ITEM_ID ORDITM_PROD_ID ORDITM_PROMOTION_ID  \\\n",
       "0       1-KP1ZHAB                     None      1-KP1WPJZ                None   \n",
       "1       1-KP31TLQ                     None      1-11XL7K5                None   \n",
       "2       1-KP31TLQ                1-KP31TLS      1-11XL76S                None   \n",
       "\n",
       "  ORDITM_OWNER_ACCOUNT_ID  ORDITM_QTY_REQ  \n",
       "0               1-KP1YMMI             1.0  \n",
       "1               1-KP30OAA             1.0  \n",
       "2               1-KP30OAA             1.0  "
      ]
     },
     "execution_count": 15,
     "metadata": {},
     "output_type": "execute_result"
    }
   ],
   "source": [
    "query_S_ORDER_ITM = (\"SELECT ORDITEM.ROW_ID ORDITM_ROW_ID, ORDITEM.ADJ_UNIT_PRI ORDITM_ADJ_UNIT_PRI, ORDITEM.NET_PRI ORDITM_NET_PRI, ORDITEM.ASSET_ID ORDITM_ASSET_ID, ORDITEM.ORDER_ID ORDITM_ORDER_ID, ORDITEM.PAR_ORDER_ITEM_ID ORDITM_PAR_ORDER_ITEM_ID, ORDITEM.PROD_ID ORDITM_PROD_ID, ORDITEM.PROMOTION_ID ORDITM_PROMOTION_ID, ORDITEM.OWNER_ACCOUNT_ID ORDITM_OWNER_ACCOUNT_ID, ORDITEM.QTY_REQ ORDITM_QTY_REQ FROM S_ORDER_ITEM ORDITEM INNER JOIN S_ORDER ORD ON ORD.ROW_ID = ORDITEM.ORDER_ID INNER JOIN S_PROD_INT PROD ON ORDITEM.PROD_ID = PROD.ROW_ID AND PROD.TYPE IS NOT NULL INNER JOIN S_PROD_LN PRODLN ON PROD.PR_PROD_LN_ID = PRODLN.ROW_ID WHERE %s AND %s AND %s AND %s AND %s\" %(order_dt_filter, order_status_filter, product_price_type_filter, orditem_prod_ln_filter,orditem_prod_part_num_filter))\n",
    "\n",
    "df_S_ORDER_ITEM = pd.read_sql(query_S_ORDER_ITM, cnxn)\n",
    "df_S_ORDER_ITEM.head(3)"
   ]
  },
  {
   "cell_type": "code",
   "execution_count": 16,
   "metadata": {},
   "outputs": [
    {
     "data": {
      "text/plain": [
       "ORDITM_ROW_ID               6820\n",
       "ORDITM_ADJ_UNIT_PRI         5746\n",
       "ORDITM_NET_PRI              5804\n",
       "ORDITM_ASSET_ID             2140\n",
       "ORDITM_ORDER_ID             6820\n",
       "ORDITM_PAR_ORDER_ITEM_ID    4407\n",
       "ORDITM_PROD_ID              6820\n",
       "ORDITM_PROMOTION_ID         1236\n",
       "ORDITM_OWNER_ACCOUNT_ID     6820\n",
       "ORDITM_QTY_REQ              6820\n",
       "dtype: int64"
      ]
     },
     "execution_count": 16,
     "metadata": {},
     "output_type": "execute_result"
    }
   ],
   "source": [
    "df_S_ORDER_ITEM.count()"
   ]
  },
  {
   "cell_type": "markdown",
   "metadata": {},
   "source": [
    "## S_ORDER_ITEM - Parent Order Item PARORDITM\n",
    "1. Includes Product, Product Line"
   ]
  },
  {
   "cell_type": "code",
   "execution_count": 17,
   "metadata": {},
   "outputs": [
    {
     "data": {
      "text/html": [
       "<div>\n",
       "<style>\n",
       "    .dataframe thead tr:only-child th {\n",
       "        text-align: right;\n",
       "    }\n",
       "\n",
       "    .dataframe thead th {\n",
       "        text-align: left;\n",
       "    }\n",
       "\n",
       "    .dataframe tbody tr th {\n",
       "        vertical-align: top;\n",
       "    }\n",
       "</style>\n",
       "<table border=\"1\" class=\"dataframe\">\n",
       "  <thead>\n",
       "    <tr style=\"text-align: right;\">\n",
       "      <th></th>\n",
       "      <th>PARORDITM_ORDITEM_ROW_ID</th>\n",
       "      <th>PARORDITM_PAR_ORDER_ITEM_ID</th>\n",
       "      <th>PARORDITM_PROD_ID</th>\n",
       "      <th>PARORDITM_PROMOTION_ID</th>\n",
       "      <th>PARORDITM_PR_PROD_LN_ID</th>\n",
       "      <th>PARORDITM_PARENT_PROD_NAME</th>\n",
       "      <th>PARORDITM_PARPROD_ROW_ID</th>\n",
       "      <th>PARORDITM_PARENT_PROD_PROD_LINE</th>\n",
       "    </tr>\n",
       "  </thead>\n",
       "  <tbody>\n",
       "    <tr>\n",
       "      <th>0</th>\n",
       "      <td>1-KP55PTU</td>\n",
       "      <td>1-KP55PTT</td>\n",
       "      <td>1-G5MG</td>\n",
       "      <td>None</td>\n",
       "      <td>1-170ZCT</td>\n",
       "      <td>MYOB AccountEdge Basic - AU</td>\n",
       "      <td>1-11B5SXW</td>\n",
       "      <td>FirstEdge</td>\n",
       "    </tr>\n",
       "    <tr>\n",
       "      <th>1</th>\n",
       "      <td>1-KP57B30</td>\n",
       "      <td>1-KP57B2Z</td>\n",
       "      <td>1-13H6RP7</td>\n",
       "      <td>1-LDOGKF</td>\n",
       "      <td>1-170ZCT</td>\n",
       "      <td>MYOB AccountEdge Basic - AU</td>\n",
       "      <td>1-11B5SXW</td>\n",
       "      <td>FirstEdge</td>\n",
       "    </tr>\n",
       "    <tr>\n",
       "      <th>2</th>\n",
       "      <td>1-KP57B31</td>\n",
       "      <td>1-KP57B2Z</td>\n",
       "      <td>1-ARAA</td>\n",
       "      <td>1-LDOGKF</td>\n",
       "      <td>1-170ZCT</td>\n",
       "      <td>MYOB AccountEdge Basic - AU</td>\n",
       "      <td>1-11B5SXW</td>\n",
       "      <td>FirstEdge</td>\n",
       "    </tr>\n",
       "  </tbody>\n",
       "</table>\n",
       "</div>"
      ],
      "text/plain": [
       "  PARORDITM_ORDITEM_ROW_ID PARORDITM_PAR_ORDER_ITEM_ID PARORDITM_PROD_ID  \\\n",
       "0                1-KP55PTU                   1-KP55PTT            1-G5MG   \n",
       "1                1-KP57B30                   1-KP57B2Z         1-13H6RP7   \n",
       "2                1-KP57B31                   1-KP57B2Z            1-ARAA   \n",
       "\n",
       "  PARORDITM_PROMOTION_ID PARORDITM_PR_PROD_LN_ID   PARORDITM_PARENT_PROD_NAME  \\\n",
       "0                   None                1-170ZCT  MYOB AccountEdge Basic - AU   \n",
       "1               1-LDOGKF                1-170ZCT  MYOB AccountEdge Basic - AU   \n",
       "2               1-LDOGKF                1-170ZCT  MYOB AccountEdge Basic - AU   \n",
       "\n",
       "  PARORDITM_PARPROD_ROW_ID PARORDITM_PARENT_PROD_PROD_LINE  \n",
       "0                1-11B5SXW                       FirstEdge  \n",
       "1                1-11B5SXW                       FirstEdge  \n",
       "2                1-11B5SXW                       FirstEdge  "
      ]
     },
     "execution_count": 17,
     "metadata": {},
     "output_type": "execute_result"
    }
   ],
   "source": [
    "query_S_ORDER_ITM_PAR_ITEM = (\"SELECT ORDITEM.ROW_ID PARORDITM_ORDITEM_ROW_ID, ORDITEM.PAR_ORDER_ITEM_ID PARORDITM_PAR_ORDER_ITEM_ID, ORDITEM.PROD_ID PARORDITM_PROD_ID, ORDITEM.PROMOTION_ID PARORDITM_PROMOTION_ID, PARPROD.PR_PROD_LN_ID PARORDITM_PR_PROD_LN_ID, PARPROD.NAME PARORDITM_PARENT_PROD_NAME, PARPROD.ROW_ID PARORDITM_PARPROD_ROW_ID, PARPROD_LN.NAME PARORDITM_PARENT_PROD_PROD_LINE FROM S_ORDER_ITEM ORDITEM INNER JOIN S_ORDER_ITEM PAR_ORDITEM ON PAR_ORDITEM.ROW_ID = ORDITEM.PAR_ORDER_ITEM_ID left outer join S_PROD_INT PARPROD ON PAR_ORDITEM.PROD_ID = PARPROD.ROW_ID left outer join S_PROD_LN PARPROD_LN ON PARPROD.PR_PROD_LN_ID = PARPROD_LN.ROW_ID INNER JOIN S_ORDER ORD ON ORD.ROW_ID = ORDITEM.ORDER_ID INNER JOIN S_PROD_INT PROD ON ORDITEM.PROD_ID = PROD.ROW_ID AND PROD.TYPE IS NOT NULL INNER JOIN S_PROD_LN PRODLN ON PROD.PR_PROD_LN_ID = PRODLN.ROW_ID WHERE %s AND %s AND %s AND %s AND %s\" %(order_dt_filter, order_status_filter, product_price_type_filter, orditem_prod_ln_filter,orditem_prod_part_num_filter))\n",
    "\n",
    "df_S_ORDER_ITEM_PAR_ITEM = pd.read_sql(query_S_ORDER_ITM_PAR_ITEM, cnxn)\n",
    "df_S_ORDER_ITEM_PAR_ITEM.head(3)"
   ]
  },
  {
   "cell_type": "code",
   "execution_count": 18,
   "metadata": {},
   "outputs": [
    {
     "data": {
      "text/plain": [
       "PARORDITM_ORDITEM_ROW_ID           4407\n",
       "PARORDITM_PAR_ORDER_ITEM_ID        4407\n",
       "PARORDITM_PROD_ID                  4407\n",
       "PARORDITM_PROMOTION_ID             1112\n",
       "PARORDITM_PR_PROD_LN_ID            4407\n",
       "PARORDITM_PARENT_PROD_NAME         4407\n",
       "PARORDITM_PARPROD_ROW_ID           4407\n",
       "PARORDITM_PARENT_PROD_PROD_LINE    4407\n",
       "dtype: int64"
      ]
     },
     "execution_count": 18,
     "metadata": {},
     "output_type": "execute_result"
    }
   ],
   "source": [
    "df_S_ORDER_ITEM_PAR_ITEM.count()"
   ]
  },
  {
   "cell_type": "markdown",
   "metadata": {},
   "source": [
    "## S_ASSET table - Order Item Asset ORDITMASSET"
   ]
  },
  {
   "cell_type": "code",
   "execution_count": 19,
   "metadata": {},
   "outputs": [
    {
     "data": {
      "text/html": [
       "<div>\n",
       "<style>\n",
       "    .dataframe thead tr:only-child th {\n",
       "        text-align: right;\n",
       "    }\n",
       "\n",
       "    .dataframe thead th {\n",
       "        text-align: left;\n",
       "    }\n",
       "\n",
       "    .dataframe tbody tr th {\n",
       "        vertical-align: top;\n",
       "    }\n",
       "</style>\n",
       "<table border=\"1\" class=\"dataframe\">\n",
       "  <thead>\n",
       "    <tr style=\"text-align: right;\">\n",
       "      <th></th>\n",
       "      <th>ORDITMASSET_ASSET_ROW_ID</th>\n",
       "      <th>ORDITMASSET_REG_DATE</th>\n",
       "      <th>ORDITMASSET_ORDITEM_ID</th>\n",
       "    </tr>\n",
       "  </thead>\n",
       "  <tbody>\n",
       "    <tr>\n",
       "      <th>0</th>\n",
       "      <td>1-10VB7VQ</td>\n",
       "      <td>13/09/2013</td>\n",
       "      <td>1-L9UQQ98</td>\n",
       "    </tr>\n",
       "    <tr>\n",
       "      <th>1</th>\n",
       "      <td>1-10VB7VQ</td>\n",
       "      <td>13/09/2013</td>\n",
       "      <td>1-L34J5H9</td>\n",
       "    </tr>\n",
       "    <tr>\n",
       "      <th>2</th>\n",
       "      <td>1-10VB7VQ</td>\n",
       "      <td>13/09/2013</td>\n",
       "      <td>1-KX1PU2F</td>\n",
       "    </tr>\n",
       "  </tbody>\n",
       "</table>\n",
       "</div>"
      ],
      "text/plain": [
       "  ORDITMASSET_ASSET_ROW_ID ORDITMASSET_REG_DATE ORDITMASSET_ORDITEM_ID\n",
       "0                1-10VB7VQ           13/09/2013              1-L9UQQ98\n",
       "1                1-10VB7VQ           13/09/2013              1-L34J5H9\n",
       "2                1-10VB7VQ           13/09/2013              1-KX1PU2F"
      ]
     },
     "execution_count": 19,
     "metadata": {},
     "output_type": "execute_result"
    }
   ],
   "source": [
    "query_S_ASSET = (\"SELECT ASSET.ROW_ID ORDITMASSET_ASSET_ROW_ID, IsNull(CONVERT (VARCHAR (10), REGISTERED_DT, 103),'') ORDITMASSET_REG_DATE, ORDITEM.ROW_ID ORDITMASSET_ORDITEM_ID FROM S_ASSET ASSET INNER JOIN S_ORDER_ITEM ORDITEM ON ORDITEM.ASSET_ID = ASSET.ROW_ID INNER JOIN S_ORDER ORD ON ORD.ROW_ID = ORDITEM.ORDER_ID WHERE %s\" %(order_dt_filter))\n",
    "\n",
    "df_S_ASSET = pd.read_sql(query_S_ASSET, cnxn)\n",
    "df_S_ASSET.head(3)"
   ]
  },
  {
   "cell_type": "code",
   "execution_count": 20,
   "metadata": {},
   "outputs": [
    {
     "data": {
      "text/plain": [
       "ORDITMASSET_ASSET_ROW_ID    3184\n",
       "ORDITMASSET_REG_DATE        3184\n",
       "ORDITMASSET_ORDITEM_ID      3184\n",
       "dtype: int64"
      ]
     },
     "execution_count": 20,
     "metadata": {},
     "output_type": "execute_result"
    }
   ],
   "source": [
    "df_S_ASSET.count()"
   ]
  },
  {
   "cell_type": "markdown",
   "metadata": {},
   "source": [
    "## S_ORDER table ORD\n",
    "### Restricted the number of rows by limiting orders based on order dates"
   ]
  },
  {
   "cell_type": "code",
   "execution_count": 21,
   "metadata": {},
   "outputs": [
    {
     "data": {
      "text/html": [
       "<div>\n",
       "<style>\n",
       "    .dataframe thead tr:only-child th {\n",
       "        text-align: right;\n",
       "    }\n",
       "\n",
       "    .dataframe thead th {\n",
       "        text-align: left;\n",
       "    }\n",
       "\n",
       "    .dataframe tbody tr th {\n",
       "        vertical-align: top;\n",
       "    }\n",
       "</style>\n",
       "<table border=\"1\" class=\"dataframe\">\n",
       "  <thead>\n",
       "    <tr style=\"text-align: right;\">\n",
       "      <th></th>\n",
       "      <th>ORD_ORDER_ID</th>\n",
       "      <th>ORD_BU_ID</th>\n",
       "      <th>ORD_ORDER_TYPE_ID</th>\n",
       "      <th>ORD_BILL_ACCNT_ID</th>\n",
       "      <th>ORD_ACCNT_ID</th>\n",
       "      <th>ORD_QUOTE_ID</th>\n",
       "      <th>ORD_PROMO_ID</th>\n",
       "      <th>ORD_X_PAYMENT_PROFILE_ID</th>\n",
       "      <th>ORD_PR_POSTN_ID</th>\n",
       "      <th>ORD_ORDER_DT</th>\n",
       "      <th>ORD_STATUS_CD</th>\n",
       "    </tr>\n",
       "  </thead>\n",
       "  <tbody>\n",
       "    <tr>\n",
       "      <th>0</th>\n",
       "      <td>1-KOW5PLQ</td>\n",
       "      <td>1-14J-0</td>\n",
       "      <td>0-JFE3</td>\n",
       "      <td>1-J7U4SBC</td>\n",
       "      <td>1-J7U4SBC</td>\n",
       "      <td>None</td>\n",
       "      <td>None</td>\n",
       "      <td>1-KLA005N</td>\n",
       "      <td>0-55RNY</td>\n",
       "      <td>2018-11-30 14:06:17</td>\n",
       "      <td>Pending</td>\n",
       "    </tr>\n",
       "    <tr>\n",
       "      <th>1</th>\n",
       "      <td>1-KOW5Q6U</td>\n",
       "      <td>1-14J-0</td>\n",
       "      <td>0-JFE3</td>\n",
       "      <td>1-J7U4SBC</td>\n",
       "      <td>1-J7U4SBC</td>\n",
       "      <td>None</td>\n",
       "      <td>None</td>\n",
       "      <td>1-KLA005N</td>\n",
       "      <td>0-55RNY</td>\n",
       "      <td>2018-11-30 14:16:18</td>\n",
       "      <td>Pending</td>\n",
       "    </tr>\n",
       "    <tr>\n",
       "      <th>2</th>\n",
       "      <td>1-KOWIZMM</td>\n",
       "      <td>1-14J-0</td>\n",
       "      <td>0-JFE3</td>\n",
       "      <td>1-J7U4SBC</td>\n",
       "      <td>1-J7U4SBC</td>\n",
       "      <td>None</td>\n",
       "      <td>None</td>\n",
       "      <td>1-KLA005N</td>\n",
       "      <td>0-55RNY</td>\n",
       "      <td>2018-11-30 14:26:16</td>\n",
       "      <td>Pending</td>\n",
       "    </tr>\n",
       "  </tbody>\n",
       "</table>\n",
       "</div>"
      ],
      "text/plain": [
       "  ORD_ORDER_ID ORD_BU_ID ORD_ORDER_TYPE_ID ORD_BILL_ACCNT_ID ORD_ACCNT_ID  \\\n",
       "0    1-KOW5PLQ   1-14J-0            0-JFE3         1-J7U4SBC    1-J7U4SBC   \n",
       "1    1-KOW5Q6U   1-14J-0            0-JFE3         1-J7U4SBC    1-J7U4SBC   \n",
       "2    1-KOWIZMM   1-14J-0            0-JFE3         1-J7U4SBC    1-J7U4SBC   \n",
       "\n",
       "  ORD_QUOTE_ID ORD_PROMO_ID ORD_X_PAYMENT_PROFILE_ID ORD_PR_POSTN_ID  \\\n",
       "0         None         None                1-KLA005N         0-55RNY   \n",
       "1         None         None                1-KLA005N         0-55RNY   \n",
       "2         None         None                1-KLA005N         0-55RNY   \n",
       "\n",
       "         ORD_ORDER_DT ORD_STATUS_CD  \n",
       "0 2018-11-30 14:06:17       Pending  \n",
       "1 2018-11-30 14:16:18       Pending  \n",
       "2 2018-11-30 14:26:16       Pending  "
      ]
     },
     "execution_count": 21,
     "metadata": {},
     "output_type": "execute_result"
    }
   ],
   "source": [
    "query_S_ORDER = (\"SELECT ORD.ROW_ID ORD_ORDER_ID, ORD.BU_ID ORD_BU_ID, ORD.ORDER_TYPE_ID ORD_ORDER_TYPE_ID, ORD.BILL_ACCNT_ID ORD_BILL_ACCNT_ID, ORD.ACCNT_ID ORD_ACCNT_ID, ORD.QUOTE_ID ORD_QUOTE_ID, ORD.PROMO_ID ORD_PROMO_ID, ORD.X_PAYMENT_PROFILE_ID ORD_X_PAYMENT_PROFILE_ID, ORD.PR_POSTN_ID ORD_PR_POSTN_ID, ORD.ORDER_DT ORD_ORDER_DT, ORD.STATUS_CD ORD_STATUS_CD FROM S_ORDER ORD WHERE %s\" %(order_dt_filter))\n",
    "\n",
    "df_S_ORDER = pd.read_sql(query_S_ORDER, cnxn)\n",
    "df_S_ORDER.head(3)"
   ]
  },
  {
   "cell_type": "code",
   "execution_count": 22,
   "metadata": {},
   "outputs": [
    {
     "data": {
      "text/plain": [
       "ORD_ORDER_ID                23062\n",
       "ORD_BU_ID                   23062\n",
       "ORD_ORDER_TYPE_ID           23062\n",
       "ORD_BILL_ACCNT_ID           23061\n",
       "ORD_ACCNT_ID                23061\n",
       "ORD_QUOTE_ID                 1615\n",
       "ORD_PROMO_ID                    0\n",
       "ORD_X_PAYMENT_PROFILE_ID    22440\n",
       "ORD_PR_POSTN_ID             23062\n",
       "ORD_ORDER_DT                23062\n",
       "ORD_STATUS_CD               23062\n",
       "dtype: int64"
      ]
     },
     "execution_count": 22,
     "metadata": {},
     "output_type": "execute_result"
    }
   ],
   "source": [
    "df_S_ORDER.count()"
   ]
  },
  {
   "cell_type": "markdown",
   "metadata": {},
   "source": [
    "## S_ORDER_TYPE table ORDTYPE\n",
    "### This filters the Orders which has the sales type of Sales Order or Web Order."
   ]
  },
  {
   "cell_type": "code",
   "execution_count": 23,
   "metadata": {},
   "outputs": [
    {
     "data": {
      "text/html": [
       "<div>\n",
       "<style>\n",
       "    .dataframe thead tr:only-child th {\n",
       "        text-align: right;\n",
       "    }\n",
       "\n",
       "    .dataframe thead th {\n",
       "        text-align: left;\n",
       "    }\n",
       "\n",
       "    .dataframe tbody tr th {\n",
       "        vertical-align: top;\n",
       "    }\n",
       "</style>\n",
       "<table border=\"1\" class=\"dataframe\">\n",
       "  <thead>\n",
       "    <tr style=\"text-align: right;\">\n",
       "      <th></th>\n",
       "      <th>ORDTYPE_ID</th>\n",
       "      <th>ORDTYPE_NAME</th>\n",
       "      <th>ORDTYPE_ORDER_ID</th>\n",
       "    </tr>\n",
       "  </thead>\n",
       "  <tbody>\n",
       "    <tr>\n",
       "      <th>0</th>\n",
       "      <td>0-JFE3</td>\n",
       "      <td>Web Order</td>\n",
       "      <td>1-KOW5PLQ</td>\n",
       "    </tr>\n",
       "    <tr>\n",
       "      <th>1</th>\n",
       "      <td>0-JFE3</td>\n",
       "      <td>Web Order</td>\n",
       "      <td>1-KOW5Q6U</td>\n",
       "    </tr>\n",
       "    <tr>\n",
       "      <th>2</th>\n",
       "      <td>0-JFE3</td>\n",
       "      <td>Web Order</td>\n",
       "      <td>1-KOWIZMM</td>\n",
       "    </tr>\n",
       "  </tbody>\n",
       "</table>\n",
       "</div>"
      ],
      "text/plain": [
       "  ORDTYPE_ID ORDTYPE_NAME ORDTYPE_ORDER_ID\n",
       "0     0-JFE3    Web Order        1-KOW5PLQ\n",
       "1     0-JFE3    Web Order        1-KOW5Q6U\n",
       "2     0-JFE3    Web Order        1-KOWIZMM"
      ]
     },
     "execution_count": 23,
     "metadata": {},
     "output_type": "execute_result"
    }
   ],
   "source": [
    "query_S_ORDER_TYPE = (\"SELECT ORDTYPE.ROW_ID ORDTYPE_ID, ORDTYPE.NAME ORDTYPE_NAME, ORD.ROW_ID ORDTYPE_ORDER_ID FROM S_ORDER_TYPE ORDTYPE INNER JOIN S_ORDER ORD ON ORDTYPE.ROW_ID = ORD.ORDER_TYPE_ID WHERE ORDTYPE.NAME IN ('Sales Order', 'Web Order') AND %s\" %(order_dt_filter))\n",
    "\n",
    "df_S_ORDER_TYPE = pd.read_sql(query_S_ORDER_TYPE, cnxn)\n",
    "df_S_ORDER_TYPE.head(3)"
   ]
  },
  {
   "cell_type": "code",
   "execution_count": 24,
   "metadata": {},
   "outputs": [
    {
     "data": {
      "text/plain": [
       "ORDTYPE_ID          23009\n",
       "ORDTYPE_NAME        23009\n",
       "ORDTYPE_ORDER_ID    23009\n",
       "dtype: int64"
      ]
     },
     "execution_count": 24,
     "metadata": {},
     "output_type": "execute_result"
    }
   ],
   "source": [
    "df_S_ORDER_TYPE.count()"
   ]
  },
  {
   "cell_type": "markdown",
   "metadata": {},
   "source": [
    "## S_PROD_INT table PROD"
   ]
  },
  {
   "cell_type": "code",
   "execution_count": 25,
   "metadata": {},
   "outputs": [
    {
     "data": {
      "text/html": [
       "<div>\n",
       "<style>\n",
       "    .dataframe thead tr:only-child th {\n",
       "        text-align: right;\n",
       "    }\n",
       "\n",
       "    .dataframe thead th {\n",
       "        text-align: left;\n",
       "    }\n",
       "\n",
       "    .dataframe tbody tr th {\n",
       "        vertical-align: top;\n",
       "    }\n",
       "</style>\n",
       "<table border=\"1\" class=\"dataframe\">\n",
       "  <thead>\n",
       "    <tr style=\"text-align: right;\">\n",
       "      <th></th>\n",
       "      <th>PROD_ID</th>\n",
       "      <th>PROD_PRICE_TYPE</th>\n",
       "      <th>PROD_GL_POSTING_GRP</th>\n",
       "      <th>PROD_PART_NUM</th>\n",
       "      <th>PROD_UOM</th>\n",
       "      <th>PROD_IGNORE_CURR_AGREE_FLG</th>\n",
       "      <th>PROD_PRICE_TYPE_CD</th>\n",
       "      <th>PROD_NAME</th>\n",
       "      <th>PROD_LN_ID</th>\n",
       "    </tr>\n",
       "  </thead>\n",
       "  <tbody>\n",
       "    <tr>\n",
       "      <th>0</th>\n",
       "      <td>0-11PCR</td>\n",
       "      <td>None</td>\n",
       "      <td>None</td>\n",
       "      <td>SEBLRSVLP1</td>\n",
       "      <td>Each</td>\n",
       "      <td>None</td>\n",
       "      <td>None</td>\n",
       "      <td>Package</td>\n",
       "      <td>1-1QG2U</td>\n",
       "    </tr>\n",
       "    <tr>\n",
       "      <th>1</th>\n",
       "      <td>0-DE5J</td>\n",
       "      <td>One-Time</td>\n",
       "      <td>MANUALS</td>\n",
       "      <td>SEBLRSVWIP1</td>\n",
       "      <td>Each</td>\n",
       "      <td>None</td>\n",
       "      <td>One-Time</td>\n",
       "      <td>Write-In Product</td>\n",
       "      <td>1-AG5FVM</td>\n",
       "    </tr>\n",
       "    <tr>\n",
       "      <th>2</th>\n",
       "      <td>04-EPZ0H</td>\n",
       "      <td>One-Time</td>\n",
       "      <td>MAINTAR</td>\n",
       "      <td>Z</td>\n",
       "      <td>Day</td>\n",
       "      <td>N</td>\n",
       "      <td>One-Time</td>\n",
       "      <td>Penalty Charges</td>\n",
       "      <td>1-1QG2U</td>\n",
       "    </tr>\n",
       "  </tbody>\n",
       "</table>\n",
       "</div>"
      ],
      "text/plain": [
       "    PROD_ID PROD_PRICE_TYPE PROD_GL_POSTING_GRP PROD_PART_NUM PROD_UOM  \\\n",
       "0   0-11PCR            None                None    SEBLRSVLP1     Each   \n",
       "1    0-DE5J        One-Time             MANUALS   SEBLRSVWIP1     Each   \n",
       "2  04-EPZ0H        One-Time             MAINTAR             Z      Day   \n",
       "\n",
       "  PROD_IGNORE_CURR_AGREE_FLG PROD_PRICE_TYPE_CD         PROD_NAME PROD_LN_ID  \n",
       "0                       None               None           Package    1-1QG2U  \n",
       "1                       None           One-Time  Write-In Product   1-AG5FVM  \n",
       "2                          N           One-Time   Penalty Charges    1-1QG2U  "
      ]
     },
     "execution_count": 25,
     "metadata": {},
     "output_type": "execute_result"
    }
   ],
   "source": [
    "query_S_PROD_INT = (\"SELECT PROD.ROW_ID PROD_ID, PROD.PRICE_TYPE_CD PROD_PRICE_TYPE, PROD.X_GL_POSTING_GRP PROD_GL_POSTING_GRP, PROD.PART_NUM PROD_PART_NUM, PROD.UOM_CD PROD_UOM, PROD.X_IGNORE_CURR_AGREE_FLG PROD_IGNORE_CURR_AGREE_FLG, PROD.PRICE_TYPE_CD PROD_PRICE_TYPE_CD, PROD.NAME PROD_NAME, PROD.PR_PROD_LN_ID PROD_LN_ID FROM S_PROD_INT PROD WHERE PROD.TYPE IS NOT NULL\")\n",
    "\n",
    "df_S_PROD_INT = pd.read_sql(query_S_PROD_INT, cnxn)\n",
    "df_S_PROD_INT.head(3)"
   ]
  },
  {
   "cell_type": "code",
   "execution_count": 26,
   "metadata": {},
   "outputs": [
    {
     "data": {
      "text/plain": [
       "PROD_ID                       15581\n",
       "PROD_PRICE_TYPE               15580\n",
       "PROD_GL_POSTING_GRP           15511\n",
       "PROD_PART_NUM                 15568\n",
       "PROD_UOM                      15565\n",
       "PROD_IGNORE_CURR_AGREE_FLG     1585\n",
       "PROD_PRICE_TYPE_CD            15580\n",
       "PROD_NAME                     15581\n",
       "PROD_LN_ID                    15581\n",
       "dtype: int64"
      ]
     },
     "execution_count": 26,
     "metadata": {},
     "output_type": "execute_result"
    }
   ],
   "source": [
    "df_S_PROD_INT.count()"
   ]
  },
  {
   "cell_type": "markdown",
   "metadata": {},
   "source": [
    "## S_PROD_INT - Order Item Promo Product ORDITMPPROD"
   ]
  },
  {
   "cell_type": "code",
   "execution_count": 27,
   "metadata": {},
   "outputs": [
    {
     "data": {
      "text/html": [
       "<div>\n",
       "<style>\n",
       "    .dataframe thead tr:only-child th {\n",
       "        text-align: right;\n",
       "    }\n",
       "\n",
       "    .dataframe thead th {\n",
       "        text-align: left;\n",
       "    }\n",
       "\n",
       "    .dataframe tbody tr th {\n",
       "        vertical-align: top;\n",
       "    }\n",
       "</style>\n",
       "<table border=\"1\" class=\"dataframe\">\n",
       "  <thead>\n",
       "    <tr style=\"text-align: right;\">\n",
       "      <th></th>\n",
       "      <th>ORDITMPPROD_PROD_ID</th>\n",
       "      <th>ORDITMPPROD_PROD_PART_NUM</th>\n",
       "      <th>ORDITMPPROD_NAME</th>\n",
       "    </tr>\n",
       "  </thead>\n",
       "  <tbody>\n",
       "    <tr>\n",
       "      <th>0</th>\n",
       "      <td>0-11PCR</td>\n",
       "      <td>SEBLRSVLP1</td>\n",
       "      <td>Package</td>\n",
       "    </tr>\n",
       "    <tr>\n",
       "      <th>1</th>\n",
       "      <td>0-DE5J</td>\n",
       "      <td>SEBLRSVWIP1</td>\n",
       "      <td>Write-In Product</td>\n",
       "    </tr>\n",
       "    <tr>\n",
       "      <th>2</th>\n",
       "      <td>0-DE5L</td>\n",
       "      <td>SEBLRSVNP1</td>\n",
       "      <td>Customer Note</td>\n",
       "    </tr>\n",
       "  </tbody>\n",
       "</table>\n",
       "</div>"
      ],
      "text/plain": [
       "  ORDITMPPROD_PROD_ID ORDITMPPROD_PROD_PART_NUM  ORDITMPPROD_NAME\n",
       "0             0-11PCR                SEBLRSVLP1           Package\n",
       "1              0-DE5J               SEBLRSVWIP1  Write-In Product\n",
       "2              0-DE5L                SEBLRSVNP1     Customer Note"
      ]
     },
     "execution_count": 27,
     "metadata": {},
     "output_type": "execute_result"
    }
   ],
   "source": [
    "query_S_PROD_INT_ORDITEM_PROMO = (\"SELECT PROD.ROW_ID ORDITMPPROD_PROD_ID, PROD.PART_NUM ORDITMPPROD_PROD_PART_NUM, PROD.NAME ORDITMPPROD_NAME FROM S_PROD_INT PROD\")\n",
    "\n",
    "df_S_PROD_INT_ORDITEM_PROMO = pd.read_sql(query_S_PROD_INT_ORDITEM_PROMO, cnxn)\n",
    "df_S_PROD_INT_ORDITEM_PROMO.head(3)"
   ]
  },
  {
   "cell_type": "code",
   "execution_count": 28,
   "metadata": {},
   "outputs": [
    {
     "data": {
      "text/plain": [
       "ORDITMPPROD_PROD_ID          18725\n",
       "ORDITMPPROD_PROD_PART_NUM    18681\n",
       "ORDITMPPROD_NAME             18725\n",
       "dtype: int64"
      ]
     },
     "execution_count": 28,
     "metadata": {},
     "output_type": "execute_result"
    }
   ],
   "source": [
    "df_S_PROD_INT_ORDITEM_PROMO.count()"
   ]
  },
  {
   "cell_type": "markdown",
   "metadata": {},
   "source": [
    "## S_PROD_LN TABLE PRODLN"
   ]
  },
  {
   "cell_type": "code",
   "execution_count": 29,
   "metadata": {},
   "outputs": [
    {
     "data": {
      "text/html": [
       "<div>\n",
       "<style>\n",
       "    .dataframe thead tr:only-child th {\n",
       "        text-align: right;\n",
       "    }\n",
       "\n",
       "    .dataframe thead th {\n",
       "        text-align: left;\n",
       "    }\n",
       "\n",
       "    .dataframe tbody tr th {\n",
       "        vertical-align: top;\n",
       "    }\n",
       "</style>\n",
       "<table border=\"1\" class=\"dataframe\">\n",
       "  <thead>\n",
       "    <tr style=\"text-align: right;\">\n",
       "      <th></th>\n",
       "      <th>PRODLN_ROW_ID</th>\n",
       "      <th>PRODLN_NAME</th>\n",
       "    </tr>\n",
       "  </thead>\n",
       "  <tbody>\n",
       "    <tr>\n",
       "      <th>0</th>\n",
       "      <td>1-740CD6O</td>\n",
       "      <td>ACE Payroll</td>\n",
       "    </tr>\n",
       "    <tr>\n",
       "      <th>1</th>\n",
       "      <td>1-CPEJ4C</td>\n",
       "      <td>AD Other Family</td>\n",
       "    </tr>\n",
       "    <tr>\n",
       "      <th>2</th>\n",
       "      <td>1-CPEJ4A</td>\n",
       "      <td>AE Client Accounting Family</td>\n",
       "    </tr>\n",
       "  </tbody>\n",
       "</table>\n",
       "</div>"
      ],
      "text/plain": [
       "  PRODLN_ROW_ID                  PRODLN_NAME\n",
       "0     1-740CD6O                  ACE Payroll\n",
       "1      1-CPEJ4C              AD Other Family\n",
       "2      1-CPEJ4A  AE Client Accounting Family"
      ]
     },
     "execution_count": 29,
     "metadata": {},
     "output_type": "execute_result"
    }
   ],
   "source": [
    "query_S_PROD_LN = (\"SELECT PRODLN.ROW_ID PRODLN_ROW_ID, PRODLN.NAME PRODLN_NAME FROM S_PROD_LN PRODLN\")\n",
    "\n",
    "df_S_PROD_LN = pd.read_sql(query_S_PROD_LN, cnxn)\n",
    "df_S_PROD_LN.head(3)"
   ]
  },
  {
   "cell_type": "code",
   "execution_count": 30,
   "metadata": {},
   "outputs": [
    {
     "data": {
      "text/plain": [
       "PRODLN_ROW_ID    232\n",
       "PRODLN_NAME      232\n",
       "dtype: int64"
      ]
     },
     "execution_count": 30,
     "metadata": {},
     "output_type": "execute_result"
    }
   ],
   "source": [
    "df_S_PROD_LN.count()"
   ]
  },
  {
   "cell_type": "markdown",
   "metadata": {},
   "source": [
    "## S_INVOICE_ITEM - Order Item Invoice ORDITMINV"
   ]
  },
  {
   "cell_type": "code",
   "execution_count": 31,
   "metadata": {},
   "outputs": [
    {
     "data": {
      "text/html": [
       "<div>\n",
       "<style>\n",
       "    .dataframe thead tr:only-child th {\n",
       "        text-align: right;\n",
       "    }\n",
       "\n",
       "    .dataframe thead th {\n",
       "        text-align: left;\n",
       "    }\n",
       "\n",
       "    .dataframe tbody tr th {\n",
       "        vertical-align: top;\n",
       "    }\n",
       "</style>\n",
       "<table border=\"1\" class=\"dataframe\">\n",
       "  <thead>\n",
       "    <tr style=\"text-align: right;\">\n",
       "      <th></th>\n",
       "      <th>ORDITMINV_ORDITEM_ROW_ID</th>\n",
       "      <th>ORDITMINV_INVOICE_ID</th>\n",
       "      <th>ORDITMINV_ITEM_ID</th>\n",
       "    </tr>\n",
       "  </thead>\n",
       "  <tbody>\n",
       "    <tr>\n",
       "      <th>0</th>\n",
       "      <td>1-KP1ZHAD</td>\n",
       "      <td>1-KOOSCGD</td>\n",
       "      <td>1-KOOSCGJ</td>\n",
       "    </tr>\n",
       "    <tr>\n",
       "      <th>1</th>\n",
       "      <td>1-KP234C6</td>\n",
       "      <td>1-KOOSCT2</td>\n",
       "      <td>1-KOOSCT8</td>\n",
       "    </tr>\n",
       "    <tr>\n",
       "      <th>2</th>\n",
       "      <td>1-KP234C7</td>\n",
       "      <td>1-KOOSCT2</td>\n",
       "      <td>1-KOOSCTK</td>\n",
       "    </tr>\n",
       "  </tbody>\n",
       "</table>\n",
       "</div>"
      ],
      "text/plain": [
       "  ORDITMINV_ORDITEM_ROW_ID ORDITMINV_INVOICE_ID ORDITMINV_ITEM_ID\n",
       "0                1-KP1ZHAD            1-KOOSCGD         1-KOOSCGJ\n",
       "1                1-KP234C6            1-KOOSCT2         1-KOOSCT8\n",
       "2                1-KP234C7            1-KOOSCT2         1-KOOSCTK"
      ]
     },
     "execution_count": 31,
     "metadata": {},
     "output_type": "execute_result"
    }
   ],
   "source": [
    "query_S_INVOICE_ITEM = (\"SELECT ITEM.ROW_ID ORDITMINV_ORDITEM_ROW_ID, INVOICE_ID ORDITMINV_INVOICE_ID, INV_ITEM.ROW_ID ORDITMINV_ITEM_ID FROM S_INVOICE_ITEM INV_ITEM INNER JOIN S_ORDER_ITEM ITEM ON ITEM.ROW_ID = INV_ITEM.ORDER_ITEM_ID INNER JOIN S_ORDER ORD ON ORD.ROW_ID = ITEM.ORDER_ID WHERE %s\" %(order_dt_filter))\n",
    "\n",
    "df_S_INVOICE_ITEM = pd.read_sql(query_S_INVOICE_ITEM, cnxn)\n",
    "df_S_INVOICE_ITEM.head(3)"
   ]
  },
  {
   "cell_type": "code",
   "execution_count": 32,
   "metadata": {},
   "outputs": [
    {
     "data": {
      "text/plain": [
       "ORDITMINV_ORDITEM_ROW_ID    5241\n",
       "ORDITMINV_INVOICE_ID        5241\n",
       "ORDITMINV_ITEM_ID           5241\n",
       "dtype: int64"
      ]
     },
     "execution_count": 32,
     "metadata": {},
     "output_type": "execute_result"
    }
   ],
   "source": [
    "df_S_INVOICE_ITEM.count()"
   ]
  },
  {
   "cell_type": "markdown",
   "metadata": {},
   "source": [
    "## S_INVOICE TABLE INV\n",
    "### Restricted the number of rows by limiting invoices based on order dates"
   ]
  },
  {
   "cell_type": "code",
   "execution_count": 33,
   "metadata": {},
   "outputs": [
    {
     "data": {
      "text/html": [
       "<div>\n",
       "<style>\n",
       "    .dataframe thead tr:only-child th {\n",
       "        text-align: right;\n",
       "    }\n",
       "\n",
       "    .dataframe thead th {\n",
       "        text-align: left;\n",
       "    }\n",
       "\n",
       "    .dataframe tbody tr th {\n",
       "        vertical-align: top;\n",
       "    }\n",
       "</style>\n",
       "<table border=\"1\" class=\"dataframe\">\n",
       "  <thead>\n",
       "    <tr style=\"text-align: right;\">\n",
       "      <th></th>\n",
       "      <th>INV_ORDITEM_ROW_ID</th>\n",
       "      <th>INV_ROW_ID</th>\n",
       "      <th>INV_NUMBER</th>\n",
       "      <th>INV_DATE</th>\n",
       "    </tr>\n",
       "  </thead>\n",
       "  <tbody>\n",
       "    <tr>\n",
       "      <th>0</th>\n",
       "      <td>1-KP1ZHAD</td>\n",
       "      <td>1-KOOSCGD</td>\n",
       "      <td>1-45028468237</td>\n",
       "      <td>01/12/2018</td>\n",
       "    </tr>\n",
       "    <tr>\n",
       "      <th>1</th>\n",
       "      <td>1-KP234C6</td>\n",
       "      <td>1-KOOSCT2</td>\n",
       "      <td>1-45028468694</td>\n",
       "      <td>01/12/2018</td>\n",
       "    </tr>\n",
       "    <tr>\n",
       "      <th>2</th>\n",
       "      <td>1-KP234C7</td>\n",
       "      <td>1-KOOSCT2</td>\n",
       "      <td>1-45028468694</td>\n",
       "      <td>01/12/2018</td>\n",
       "    </tr>\n",
       "  </tbody>\n",
       "</table>\n",
       "</div>"
      ],
      "text/plain": [
       "  INV_ORDITEM_ROW_ID INV_ROW_ID     INV_NUMBER    INV_DATE\n",
       "0          1-KP1ZHAD  1-KOOSCGD  1-45028468237  01/12/2018\n",
       "1          1-KP234C6  1-KOOSCT2  1-45028468694  01/12/2018\n",
       "2          1-KP234C7  1-KOOSCT2  1-45028468694  01/12/2018"
      ]
     },
     "execution_count": 33,
     "metadata": {},
     "output_type": "execute_result"
    }
   ],
   "source": [
    "query_S_INVOICE = (\"SELECT ORD_ITEM.ROW_ID INV_ORDITEM_ROW_ID, INV.ROW_ID AS INV_ROW_ID, INV.INVC_NUM AS INV_NUMBER, IsNull(CONVERT (VARCHAR (10), DATEADD(hh, 10, INV.INVC_DT), 103),'') AS INV_DATE FROM S_INVOICE INV INNER JOIN S_INVOICE_ITEM INV_ITEM ON INV_ITEM.INVOICE_ID = INV.ROW_ID INNER JOIN S_ORDER_ITEM ORD_ITEM ON ORD_ITEM.ROW_ID = INV_ITEM.ORDER_ITEM_ID INNER JOIN S_ORDER ORD ON ORD.ROW_ID = ORD_ITEM.ORDER_ID WHERE %s\" %(order_dt_filter))\n",
    "\n",
    "df_S_INVOICE = pd.read_sql(query_S_INVOICE, cnxn)\n",
    "df_S_INVOICE.head(3)"
   ]
  },
  {
   "cell_type": "code",
   "execution_count": 34,
   "metadata": {},
   "outputs": [
    {
     "data": {
      "text/plain": [
       "INV_ORDITEM_ROW_ID    5241\n",
       "INV_ROW_ID            5241\n",
       "INV_NUMBER            5241\n",
       "INV_DATE              5241\n",
       "dtype: int64"
      ]
     },
     "execution_count": 34,
     "metadata": {},
     "output_type": "execute_result"
    }
   ],
   "source": [
    "df_S_INVOICE.count()"
   ]
  },
  {
   "cell_type": "markdown",
   "metadata": {},
   "source": [
    "## S_PROMO_ITEM TABLE PROMO"
   ]
  },
  {
   "cell_type": "code",
   "execution_count": 35,
   "metadata": {},
   "outputs": [
    {
     "data": {
      "text/html": [
       "<div>\n",
       "<style>\n",
       "    .dataframe thead tr:only-child th {\n",
       "        text-align: right;\n",
       "    }\n",
       "\n",
       "    .dataframe thead th {\n",
       "        text-align: left;\n",
       "    }\n",
       "\n",
       "    .dataframe tbody tr th {\n",
       "        vertical-align: top;\n",
       "    }\n",
       "</style>\n",
       "<table border=\"1\" class=\"dataframe\">\n",
       "  <thead>\n",
       "    <tr style=\"text-align: right;\">\n",
       "      <th></th>\n",
       "      <th>PROMO_ID</th>\n",
       "      <th>PROMO_UPG_COUNT</th>\n",
       "    </tr>\n",
       "  </thead>\n",
       "  <tbody>\n",
       "    <tr>\n",
       "      <th>0</th>\n",
       "      <td>1-IBPK1</td>\n",
       "      <td>2</td>\n",
       "    </tr>\n",
       "    <tr>\n",
       "      <th>1</th>\n",
       "      <td>1-16ODG9G</td>\n",
       "      <td>1</td>\n",
       "    </tr>\n",
       "    <tr>\n",
       "      <th>2</th>\n",
       "      <td>1-AV7I</td>\n",
       "      <td>1</td>\n",
       "    </tr>\n",
       "  </tbody>\n",
       "</table>\n",
       "</div>"
      ],
      "text/plain": [
       "    PROMO_ID  PROMO_UPG_COUNT\n",
       "0    1-IBPK1                2\n",
       "1  1-16ODG9G                1\n",
       "2     1-AV7I                1"
      ]
     },
     "execution_count": 35,
     "metadata": {},
     "output_type": "execute_result"
    }
   ],
   "source": [
    "query_S_PROMO_ITEM = (\"SELECT PROMOTION_ID AS PROMO_ID, count(*) AS PROMO_UPG_COUNT from S_PROM_ITEM inner join S_PROD_INT ON S_PROM_ITEM.PROD_ID = S_PROD_INT.ROW_ID where S_PROD_INT.TYPE = 'Upgrade' group by PROMOTION_ID\")\n",
    "\n",
    "df_S_PROMO_ITEM = pd.read_sql(query_S_PROMO_ITEM, cnxn)\n",
    "df_S_PROMO_ITEM.head(3)"
   ]
  },
  {
   "cell_type": "code",
   "execution_count": 36,
   "metadata": {},
   "outputs": [
    {
     "data": {
      "text/plain": [
       "PROMO_ID           1691\n",
       "PROMO_UPG_COUNT    1691\n",
       "dtype: int64"
      ]
     },
     "execution_count": 36,
     "metadata": {},
     "output_type": "execute_result"
    }
   ],
   "source": [
    "df_S_PROMO_ITEM.count()"
   ]
  },
  {
   "cell_type": "markdown",
   "metadata": {},
   "source": [
    "# S_ORG_EXT TABLE - BILLING ACCOUNT BILLACC"
   ]
  },
  {
   "cell_type": "code",
   "execution_count": 37,
   "metadata": {},
   "outputs": [
    {
     "data": {
      "text/html": [
       "<div>\n",
       "<style>\n",
       "    .dataframe thead tr:only-child th {\n",
       "        text-align: right;\n",
       "    }\n",
       "\n",
       "    .dataframe thead th {\n",
       "        text-align: left;\n",
       "    }\n",
       "\n",
       "    .dataframe tbody tr th {\n",
       "        vertical-align: top;\n",
       "    }\n",
       "</style>\n",
       "<table border=\"1\" class=\"dataframe\">\n",
       "  <thead>\n",
       "    <tr style=\"text-align: right;\">\n",
       "      <th></th>\n",
       "      <th>BILLACC_ORD_ROW_ID</th>\n",
       "      <th>BILLACC_ROW_ID</th>\n",
       "      <th>BILLACC_OU_TYPE_CD</th>\n",
       "      <th>BILLACC_INTEGRATION_ID</th>\n",
       "      <th>BILLACC_X_SEGMENT</th>\n",
       "      <th>BILLACC_EVNGLIST_ID</th>\n",
       "      <th>BILLACC_DIVISION</th>\n",
       "      <th>BILLACC_CREATED</th>\n",
       "      <th>BILLACC_NAME</th>\n",
       "      <th>BILLACC_PR_POSTN_ID</th>\n",
       "      <th>BILLACC_LOGIN</th>\n",
       "    </tr>\n",
       "  </thead>\n",
       "  <tbody>\n",
       "    <tr>\n",
       "      <th>0</th>\n",
       "      <td>1-L29I9H8</td>\n",
       "      <td>1-10073XV</td>\n",
       "      <td>Customer</td>\n",
       "      <td>8209598</td>\n",
       "      <td>Prime</td>\n",
       "      <td>None</td>\n",
       "      <td>Accountants Division</td>\n",
       "      <td>2013-09-09 12:27:53</td>\n",
       "      <td>Tester's Partner Business</td>\n",
       "      <td>0-55RNY</td>\n",
       "      <td>None</td>\n",
       "    </tr>\n",
       "    <tr>\n",
       "      <th>1</th>\n",
       "      <td>1-L2999AE</td>\n",
       "      <td>1-10073XV</td>\n",
       "      <td>Customer</td>\n",
       "      <td>8209598</td>\n",
       "      <td>Prime</td>\n",
       "      <td>None</td>\n",
       "      <td>Accountants Division</td>\n",
       "      <td>2013-09-09 12:27:53</td>\n",
       "      <td>Tester's Partner Business</td>\n",
       "      <td>0-55RNY</td>\n",
       "      <td>None</td>\n",
       "    </tr>\n",
       "    <tr>\n",
       "      <th>2</th>\n",
       "      <td>1-L4VBTIU</td>\n",
       "      <td>1-100CPR4</td>\n",
       "      <td>Customer</td>\n",
       "      <td>8209631</td>\n",
       "      <td>Growing Business</td>\n",
       "      <td>None</td>\n",
       "      <td>Business Division</td>\n",
       "      <td>2013-09-09 12:33:35</td>\n",
       "      <td>ANZ</td>\n",
       "      <td>0-55RNY</td>\n",
       "      <td>None</td>\n",
       "    </tr>\n",
       "  </tbody>\n",
       "</table>\n",
       "</div>"
      ],
      "text/plain": [
       "  BILLACC_ORD_ROW_ID BILLACC_ROW_ID BILLACC_OU_TYPE_CD BILLACC_INTEGRATION_ID  \\\n",
       "0          1-L29I9H8      1-10073XV           Customer                8209598   \n",
       "1          1-L2999AE      1-10073XV           Customer                8209598   \n",
       "2          1-L4VBTIU      1-100CPR4           Customer                8209631   \n",
       "\n",
       "  BILLACC_X_SEGMENT BILLACC_EVNGLIST_ID      BILLACC_DIVISION  \\\n",
       "0             Prime                None  Accountants Division   \n",
       "1             Prime                None  Accountants Division   \n",
       "2  Growing Business                None     Business Division   \n",
       "\n",
       "      BILLACC_CREATED               BILLACC_NAME BILLACC_PR_POSTN_ID  \\\n",
       "0 2013-09-09 12:27:53  Tester's Partner Business             0-55RNY   \n",
       "1 2013-09-09 12:27:53  Tester's Partner Business             0-55RNY   \n",
       "2 2013-09-09 12:33:35                        ANZ             0-55RNY   \n",
       "\n",
       "  BILLACC_LOGIN  \n",
       "0          None  \n",
       "1          None  \n",
       "2          None  "
      ]
     },
     "execution_count": 37,
     "metadata": {},
     "output_type": "execute_result"
    }
   ],
   "source": [
    "query_S_ORG_EXT_BILL = (\"SELECT ORD.ROW_ID BILLACC_ORD_ROW_ID, ACCNT_BILL.ROW_ID BILLACC_ROW_ID, ACCNT_BILL.OU_TYPE_CD BILLACC_OU_TYPE_CD, ACCNT_BILL.INTEGRATION_ID BILLACC_INTEGRATION_ID, ACCNT_BILL.X_SEGMENT BILLACC_X_SEGMENT, ACCNT_BILL.X_PROD_EVNGLIST_ID BILLACC_EVNGLIST_ID, ACCNT_BILL.X_DIVISION BILLACC_DIVISION, ACCNT_BILL.CREATED BILLACC_CREATED, ACCNT_BILL.NAME BILLACC_NAME, ACCNT_BILL.PR_POSTN_ID BILLACC_PR_POSTN_ID,ACC_EVANG.LOGIN BILLACC_LOGIN FROM S_ORG_EXT ACCNT_BILL INNER JOIN S_ORDER ORD ON ORD.BILL_ACCNT_ID = ACCNT_BILL.ROW_ID LEFT OUTER JOIN S_USER ACC_EVANG ON ACCNT_BILL.X_PROD_EVNGLIST_ID  = ACC_EVANG.ROW_ID WHERE %s\" %(order_dt_filter))\n",
    "\n",
    "df_S_ORG_EXT_BILL = pd.read_sql(query_S_ORG_EXT_BILL, cnxn)\n",
    "df_S_ORG_EXT_BILL.head(3)"
   ]
  },
  {
   "cell_type": "code",
   "execution_count": 38,
   "metadata": {},
   "outputs": [
    {
     "data": {
      "text/plain": [
       "BILLACC_ORD_ROW_ID        23061\n",
       "BILLACC_ROW_ID            23061\n",
       "BILLACC_OU_TYPE_CD        23061\n",
       "BILLACC_INTEGRATION_ID    23061\n",
       "BILLACC_X_SEGMENT         23061\n",
       "BILLACC_EVNGLIST_ID          13\n",
       "BILLACC_DIVISION          23061\n",
       "BILLACC_CREATED           23061\n",
       "BILLACC_NAME              23061\n",
       "BILLACC_PR_POSTN_ID       23061\n",
       "BILLACC_LOGIN                13\n",
       "dtype: int64"
      ]
     },
     "execution_count": 38,
     "metadata": {},
     "output_type": "execute_result"
    }
   ],
   "source": [
    "df_S_ORG_EXT_BILL.count()"
   ]
  },
  {
   "cell_type": "markdown",
   "metadata": {},
   "source": [
    "## S_ORG_EXT table - ORDER_ACCNT ORDACC"
   ]
  },
  {
   "cell_type": "code",
   "execution_count": 39,
   "metadata": {},
   "outputs": [
    {
     "data": {
      "text/html": [
       "<div>\n",
       "<style>\n",
       "    .dataframe thead tr:only-child th {\n",
       "        text-align: right;\n",
       "    }\n",
       "\n",
       "    .dataframe thead th {\n",
       "        text-align: left;\n",
       "    }\n",
       "\n",
       "    .dataframe tbody tr th {\n",
       "        vertical-align: top;\n",
       "    }\n",
       "</style>\n",
       "<table border=\"1\" class=\"dataframe\">\n",
       "  <thead>\n",
       "    <tr style=\"text-align: right;\">\n",
       "      <th></th>\n",
       "      <th>ORDACC_ORDER_ID</th>\n",
       "      <th>ORDACC_ID</th>\n",
       "      <th>ORDACC_OU_TYPE_CD_INT</th>\n",
       "    </tr>\n",
       "  </thead>\n",
       "  <tbody>\n",
       "    <tr>\n",
       "      <th>0</th>\n",
       "      <td>1-KW6EQ1A</td>\n",
       "      <td>1-WYWR17</td>\n",
       "      <td>Business Partner</td>\n",
       "    </tr>\n",
       "    <tr>\n",
       "      <th>1</th>\n",
       "      <td>1-KW8D6P9</td>\n",
       "      <td>1-WYWR17</td>\n",
       "      <td>Business Partner</td>\n",
       "    </tr>\n",
       "    <tr>\n",
       "      <th>2</th>\n",
       "      <td>1-KW9348B</td>\n",
       "      <td>1-WYWR17</td>\n",
       "      <td>Business Partner</td>\n",
       "    </tr>\n",
       "  </tbody>\n",
       "</table>\n",
       "</div>"
      ],
      "text/plain": [
       "  ORDACC_ORDER_ID ORDACC_ID ORDACC_OU_TYPE_CD_INT\n",
       "0       1-KW6EQ1A  1-WYWR17      Business Partner\n",
       "1       1-KW8D6P9  1-WYWR17      Business Partner\n",
       "2       1-KW9348B  1-WYWR17      Business Partner"
      ]
     },
     "execution_count": 39,
     "metadata": {},
     "output_type": "execute_result"
    }
   ],
   "source": [
    "query_S_ORG_EXT_ORD_ACCNT = (\"SELECT ORD.ROW_ID ORDACC_ORDER_ID, ORD_ACCNT.ROW_ID AS ORDACC_ID, ORD_ACCNT.OU_TYPE_CD AS ORDACC_OU_TYPE_CD_INT FROM S_ORG_EXT ORD_ACCNT INNER JOIN S_ORDER ORD ON ORD.ACCNT_ID = ORD_ACCNT.ROW_ID WHERE %s\" %(order_dt_filter))\n",
    "\n",
    "df_S_ORG_EXT_ORD_ACCNT = pd.read_sql(query_S_ORG_EXT_ORD_ACCNT, cnxn)\n",
    "df_S_ORG_EXT_ORD_ACCNT.head(3)"
   ]
  },
  {
   "cell_type": "code",
   "execution_count": 40,
   "metadata": {},
   "outputs": [
    {
     "data": {
      "text/plain": [
       "ORDACC_ORDER_ID          23061\n",
       "ORDACC_ID                23061\n",
       "ORDACC_OU_TYPE_CD_INT    23061\n",
       "dtype: int64"
      ]
     },
     "execution_count": 40,
     "metadata": {},
     "output_type": "execute_result"
    }
   ],
   "source": [
    "df_S_ORG_EXT_ORD_ACCNT.count()"
   ]
  },
  {
   "cell_type": "markdown",
   "metadata": {},
   "source": [
    "## S_ASSET TABLE - PARENT ORDER ITEM ASSET PARORDITMAST\n",
    "1. PRIMARY AGREE ITEM"
   ]
  },
  {
   "cell_type": "code",
   "execution_count": 41,
   "metadata": {},
   "outputs": [
    {
     "data": {
      "text/html": [
       "<div>\n",
       "<style>\n",
       "    .dataframe thead tr:only-child th {\n",
       "        text-align: right;\n",
       "    }\n",
       "\n",
       "    .dataframe thead th {\n",
       "        text-align: left;\n",
       "    }\n",
       "\n",
       "    .dataframe tbody tr th {\n",
       "        vertical-align: top;\n",
       "    }\n",
       "</style>\n",
       "<table border=\"1\" class=\"dataframe\">\n",
       "  <thead>\n",
       "    <tr style=\"text-align: right;\">\n",
       "      <th></th>\n",
       "      <th>PARORDITMAST_ORDITEM_ROW_ID</th>\n",
       "      <th>PARORDITMAST_ROW_ID</th>\n",
       "      <th>PARORDITMAST_SERIAL_NUM</th>\n",
       "      <th>PARORDITMAST_PR_AGREE_ITEM_ID</th>\n",
       "      <th>PARORDITMAST_PRIMARY_AGR_ID</th>\n",
       "      <th>PARORDITMAST_BUREAU_FLG</th>\n",
       "    </tr>\n",
       "  </thead>\n",
       "  <tbody>\n",
       "    <tr>\n",
       "      <th>0</th>\n",
       "      <td>1-LGAHZEP</td>\n",
       "      <td>1-10VB7VQ</td>\n",
       "      <td>None</td>\n",
       "      <td>None</td>\n",
       "      <td>None</td>\n",
       "      <td>N</td>\n",
       "    </tr>\n",
       "    <tr>\n",
       "      <th>1</th>\n",
       "      <td>1-L9UQQ1H</td>\n",
       "      <td>1-10VB7VQ</td>\n",
       "      <td>None</td>\n",
       "      <td>None</td>\n",
       "      <td>None</td>\n",
       "      <td>N</td>\n",
       "    </tr>\n",
       "    <tr>\n",
       "      <th>2</th>\n",
       "      <td>1-L34ISM8</td>\n",
       "      <td>1-10VB7VQ</td>\n",
       "      <td>None</td>\n",
       "      <td>None</td>\n",
       "      <td>None</td>\n",
       "      <td>N</td>\n",
       "    </tr>\n",
       "  </tbody>\n",
       "</table>\n",
       "</div>"
      ],
      "text/plain": [
       "  PARORDITMAST_ORDITEM_ROW_ID PARORDITMAST_ROW_ID PARORDITMAST_SERIAL_NUM  \\\n",
       "0                   1-LGAHZEP           1-10VB7VQ                    None   \n",
       "1                   1-L9UQQ1H           1-10VB7VQ                    None   \n",
       "2                   1-L34ISM8           1-10VB7VQ                    None   \n",
       "\n",
       "  PARORDITMAST_PR_AGREE_ITEM_ID PARORDITMAST_PRIMARY_AGR_ID  \\\n",
       "0                          None                        None   \n",
       "1                          None                        None   \n",
       "2                          None                        None   \n",
       "\n",
       "  PARORDITMAST_BUREAU_FLG  \n",
       "0                       N  \n",
       "1                       N  \n",
       "2                       N  "
      ]
     },
     "execution_count": 41,
     "metadata": {},
     "output_type": "execute_result"
    }
   ],
   "source": [
    "query_S_ASSET_PAR_ORD_ITEM = (\"SELECT ORDITEM.ROW_ID PARORDITMAST_ORDITEM_ROW_ID, PAR_ORD_ITEM_ASSET.ROW_ID PARORDITMAST_ROW_ID, PAR_ORD_ITEM_ASSET.SERIAL_NUM AS PARORDITMAST_SERIAL_NUM, PAR_ORD_ITEM_ASSET.X_PR_AGREE_ITEM_ID PARORDITMAST_PR_AGREE_ITEM_ID, PRIMARY_ITEM.DOC_AGREE_ID PARORDITMAST_PRIMARY_AGR_ID,CASE WHEN BUREAU_ASSET.ROW_ID IS NULL THEN 'N' ELSE 'Y' END AS PARORDITMAST_BUREAU_FLG FROM S_ASSET PAR_ORD_ITEM_ASSET INNER JOIN S_ORDER_ITEM PAR_ORD_ITEM ON PAR_ORD_ITEM.ASSET_ID = PAR_ORD_ITEM_ASSET.ROW_ID INNER JOIN S_ORDER_ITEM ORDITEM ON ORDITEM.PAR_ORDER_ITEM_ID = PAR_ORD_ITEM.ROW_ID LEFT OUTER JOIN S_AGREE_ITEM PRIMARY_ITEM ON PRIMARY_ITEM.ROW_ID = PAR_ORD_ITEM_ASSET.X_PR_AGREE_ITEM_ID LEFT OUTER JOIN S_ASSET_REL BUREAU_ASSET ON PAR_ORD_ITEM_ASSET.ROW_ID = BUREAU_ASSET.ASSET_ID AND BUREAU_ASSET.RELATION_TYPE_CD = 'Relates To' INNER JOIN S_ORDER ORD ON ORD.ROW_ID = ORDITEM.ORDER_ID WHERE %s\" %(order_dt_filter))\n",
    "\n",
    "df_S_ASSET_PAR_ORD_ITEM_ASSET = pd.read_sql(query_S_ASSET_PAR_ORD_ITEM, cnxn)\n",
    "df_S_ASSET_PAR_ORD_ITEM_ASSET.head(3)"
   ]
  },
  {
   "cell_type": "code",
   "execution_count": 42,
   "metadata": {},
   "outputs": [
    {
     "data": {
      "text/plain": [
       "PARORDITMAST_ORDITEM_ROW_ID      6358\n",
       "PARORDITMAST_ROW_ID              6358\n",
       "PARORDITMAST_SERIAL_NUM          6278\n",
       "PARORDITMAST_PR_AGREE_ITEM_ID    4385\n",
       "PARORDITMAST_PRIMARY_AGR_ID      4385\n",
       "PARORDITMAST_BUREAU_FLG          6358\n",
       "dtype: int64"
      ]
     },
     "execution_count": 42,
     "metadata": {},
     "output_type": "execute_result"
    }
   ],
   "source": [
    "df_S_ASSET_PAR_ORD_ITEM_ASSET.count()"
   ]
  },
  {
   "cell_type": "markdown",
   "metadata": {},
   "source": [
    "## S_ORG_EXT TABLE - LEGAL ENTITY"
   ]
  },
  {
   "cell_type": "code",
   "execution_count": 43,
   "metadata": {},
   "outputs": [
    {
     "data": {
      "text/html": [
       "<div>\n",
       "<style>\n",
       "    .dataframe thead tr:only-child th {\n",
       "        text-align: right;\n",
       "    }\n",
       "\n",
       "    .dataframe thead th {\n",
       "        text-align: left;\n",
       "    }\n",
       "\n",
       "    .dataframe tbody tr th {\n",
       "        vertical-align: top;\n",
       "    }\n",
       "</style>\n",
       "<table border=\"1\" class=\"dataframe\">\n",
       "  <thead>\n",
       "    <tr style=\"text-align: right;\">\n",
       "      <th></th>\n",
       "      <th>LEGAL_ENTITY_ID</th>\n",
       "    </tr>\n",
       "  </thead>\n",
       "  <tbody>\n",
       "    <tr>\n",
       "      <th>0</th>\n",
       "      <td>1-14J-0</td>\n",
       "    </tr>\n",
       "    <tr>\n",
       "      <th>1</th>\n",
       "      <td>1-14J-1</td>\n",
       "    </tr>\n",
       "  </tbody>\n",
       "</table>\n",
       "</div>"
      ],
      "text/plain": [
       "  LEGAL_ENTITY_ID\n",
       "0         1-14J-0\n",
       "1         1-14J-1"
      ]
     },
     "execution_count": 43,
     "metadata": {},
     "output_type": "execute_result"
    }
   ],
   "source": [
    "query_S_ORG_EXT_LE = (\"SELECT ROW_ID LEGAL_ENTITY_ID FROM S_ORG_EXT WHERE ROW_ID IN ('1-14J-0','1-14J-1')\")\n",
    "\n",
    "df_S_ORG_EXT_LE = pd.read_sql(query_S_ORG_EXT_LE, cnxn)\n",
    "df_S_ORG_EXT_LE.head(3)"
   ]
  },
  {
   "cell_type": "code",
   "execution_count": 44,
   "metadata": {},
   "outputs": [
    {
     "data": {
      "text/plain": [
       "LEGAL_ENTITY_ID    2\n",
       "dtype: int64"
      ]
     },
     "execution_count": 44,
     "metadata": {},
     "output_type": "execute_result"
    }
   ],
   "source": [
    "df_S_ORG_EXT_LE.count()"
   ]
  },
  {
   "cell_type": "markdown",
   "metadata": {},
   "source": [
    "## S_AGREE_ITEM - Order Agreement Item, use RANK TO GET 1 AGREEMENT ITEM ONLY, Agree Referred by Account, Evangelist. AGRITMEVG\n",
    "\n",
    "1. NEED TO DO THE RANK FILTER AFTER THE FIRST DF IS FORMED AS WE CANNOT ADD WINDOW FUNCTION IN THE WHERE CLAUSE.\n",
    "2. Obtain the previous agreement item using the X_RENEWED_BY_ITEM_ID.\n"
   ]
  },
  {
   "cell_type": "code",
   "execution_count": 45,
   "metadata": {},
   "outputs": [
    {
     "data": {
      "text/html": [
       "<div>\n",
       "<style>\n",
       "    .dataframe thead tr:only-child th {\n",
       "        text-align: right;\n",
       "    }\n",
       "\n",
       "    .dataframe thead th {\n",
       "        text-align: left;\n",
       "    }\n",
       "\n",
       "    .dataframe tbody tr th {\n",
       "        vertical-align: top;\n",
       "    }\n",
       "</style>\n",
       "<table border=\"1\" class=\"dataframe\">\n",
       "  <thead>\n",
       "    <tr style=\"text-align: right;\">\n",
       "      <th></th>\n",
       "      <th>AGRITMEVG_ORDER_ID</th>\n",
       "      <th>AGRITMEVG_ITEM_ID</th>\n",
       "      <th>AGRITMEVG_ASSET_ID</th>\n",
       "      <th>AGRITMEVG_ITEM_PROD_ID</th>\n",
       "      <th>AGRITMEVG_RANKS</th>\n",
       "      <th>AGRITMEVG_RANKS2</th>\n",
       "      <th>AGRITMEVG_ITEM_DOC_AGREE_ID</th>\n",
       "      <th>AGRITMEVG_AGREE_ITEM_CDF_ROW_ID</th>\n",
       "      <th>AGRITMEVG_RENEWED_ITEM_ROW_ID</th>\n",
       "      <th>AGRITMEVG_ORDITEM_ROW_ID</th>\n",
       "    </tr>\n",
       "  </thead>\n",
       "  <tbody>\n",
       "    <tr>\n",
       "      <th>0</th>\n",
       "      <td>1-KP1SS9G</td>\n",
       "      <td>1-KP1TOF1</td>\n",
       "      <td>1-KP1T1GR</td>\n",
       "      <td>1-1203J1J</td>\n",
       "      <td>1</td>\n",
       "      <td>1</td>\n",
       "      <td>1-KP1TOEL</td>\n",
       "      <td>None</td>\n",
       "      <td>None</td>\n",
       "      <td>1-KP1SS9J</td>\n",
       "    </tr>\n",
       "    <tr>\n",
       "      <th>1</th>\n",
       "      <td>1-KP1SS9G</td>\n",
       "      <td>1-KP1U29X</td>\n",
       "      <td>1-KP1T1GR</td>\n",
       "      <td>1-AREE</td>\n",
       "      <td>1</td>\n",
       "      <td>1</td>\n",
       "      <td>1-KP1U29H</td>\n",
       "      <td>1-KOOOPYG</td>\n",
       "      <td>None</td>\n",
       "      <td>1-KP1T104</td>\n",
       "    </tr>\n",
       "    <tr>\n",
       "      <th>2</th>\n",
       "      <td>1-KP1W521</td>\n",
       "      <td>1-KP1WJW9</td>\n",
       "      <td>1-KP1W5I5</td>\n",
       "      <td>1-1203J1J</td>\n",
       "      <td>1</td>\n",
       "      <td>1</td>\n",
       "      <td>1-KP1WJVT</td>\n",
       "      <td>None</td>\n",
       "      <td>None</td>\n",
       "      <td>1-KP1W524</td>\n",
       "    </tr>\n",
       "  </tbody>\n",
       "</table>\n",
       "</div>"
      ],
      "text/plain": [
       "  AGRITMEVG_ORDER_ID AGRITMEVG_ITEM_ID AGRITMEVG_ASSET_ID  \\\n",
       "0          1-KP1SS9G         1-KP1TOF1          1-KP1T1GR   \n",
       "1          1-KP1SS9G         1-KP1U29X          1-KP1T1GR   \n",
       "2          1-KP1W521         1-KP1WJW9          1-KP1W5I5   \n",
       "\n",
       "  AGRITMEVG_ITEM_PROD_ID  AGRITMEVG_RANKS  AGRITMEVG_RANKS2  \\\n",
       "0              1-1203J1J                1                 1   \n",
       "1                 1-AREE                1                 1   \n",
       "2              1-1203J1J                1                 1   \n",
       "\n",
       "  AGRITMEVG_ITEM_DOC_AGREE_ID AGRITMEVG_AGREE_ITEM_CDF_ROW_ID  \\\n",
       "0                   1-KP1TOEL                            None   \n",
       "1                   1-KP1U29H                       1-KOOOPYG   \n",
       "2                   1-KP1WJVT                            None   \n",
       "\n",
       "  AGRITMEVG_RENEWED_ITEM_ROW_ID AGRITMEVG_ORDITEM_ROW_ID  \n",
       "0                          None                1-KP1SS9J  \n",
       "1                          None                1-KP1T104  \n",
       "2                          None                1-KP1W524  "
      ]
     },
     "execution_count": 45,
     "metadata": {},
     "output_type": "execute_result"
    }
   ],
   "source": [
    "query_S_AGREE_ITEM_ORD_AGREE = (\"SELECT AGR.ORDER_ID AGRITMEVG_ORDER_ID, ITEM.ROW_ID AGRITMEVG_ITEM_ID, ITEM.ASSET_ID AGRITMEVG_ASSET_ID, ITEM.PROD_INT_ID AGRITMEVG_ITEM_PROD_ID,RANK() OVER(PARTITION BY AGR.ORDER_ID,ITEM.ASSET_ID,ITEM.PROD_INT_ID ORDER BY AGR.CREATED DESC) AGRITMEVG_RANKS,RANK() OVER(PARTITION BY ITEM.DOC_AGREE_ID,ITEM.PROD_INT_ID,ITEM.ASSET_ID ORDER BY ITEM.ROW_ID) AGRITMEVG_RANKS2, ITEM.DOC_AGREE_ID AGRITMEVG_ITEM_DOC_AGREE_ID, ITEM.X_USED_BY_ASSET_ID AGRITMEVG_AGREE_ITEM_CDF_ROW_ID, RENEWED_ITEM.ROW_ID AGRITMEVG_RENEWED_ITEM_ROW_ID, ORDITEM.ROW_ID AGRITMEVG_ORDITEM_ROW_ID from S_AGREE_ITEM ITEM inner join S_DOC_AGREE AGR ON ITEM.DOC_AGREE_ID = AGR.ROW_ID INNER JOIN S_ORDER ORD ON ORD.ROW_ID = AGR.ORDER_ID INNER JOIN S_ORDER_ITEM ORDITEM ON ORD.ROW_ID = ORDITEM.ORDER_ID AND ORDITEM.PROD_ID = ITEM.PROD_INT_ID INNER JOIN S_ORDER_ITEM PAR_ORD_ITEM ON ORDITEM.PAR_ORDER_ITEM_ID = PAR_ORD_ITEM.ROW_ID INNER JOIN S_ASSET PAR_ORD_ITEM_ASSET ON PAR_ORD_ITEM_ASSET.ROW_ID = ITEM.ASSET_ID LEFT OUTER JOIN S_AGREE_ITEM RENEWED_ITEM ON RENEWED_ITEM.X_RENEWED_BY_ITEM_ID = ITEM.ROW_ID WHERE %s\" %(order_dt_filter))\n",
    "\n",
    "df_S_AGREE_ITEM_ORD_AGREE = pd.read_sql(query_S_AGREE_ITEM_ORD_AGREE, cnxn)\n",
    "\n",
    "# Filter data based on RANKS as in original query\n",
    "df_S_AGREE_ITEM_ORD_AGREE = df_S_AGREE_ITEM_ORD_AGREE.loc[(df_S_AGREE_ITEM_ORD_AGREE['AGRITMEVG_RANKS'] == 1) & (df_S_AGREE_ITEM_ORD_AGREE['AGRITMEVG_RANKS2'] == 1)]\n",
    "df_S_AGREE_ITEM_ORD_AGREE.head(3)"
   ]
  },
  {
   "cell_type": "code",
   "execution_count": 46,
   "metadata": {},
   "outputs": [
    {
     "data": {
      "text/plain": [
       "AGRITMEVG_ORDER_ID                 5031\n",
       "AGRITMEVG_ITEM_ID                  5031\n",
       "AGRITMEVG_ASSET_ID                 5031\n",
       "AGRITMEVG_ITEM_PROD_ID             5031\n",
       "AGRITMEVG_RANKS                    5031\n",
       "AGRITMEVG_RANKS2                   5031\n",
       "AGRITMEVG_ITEM_DOC_AGREE_ID        5031\n",
       "AGRITMEVG_AGREE_ITEM_CDF_ROW_ID      47\n",
       "AGRITMEVG_RENEWED_ITEM_ROW_ID       809\n",
       "AGRITMEVG_ORDITEM_ROW_ID           5031\n",
       "dtype: int64"
      ]
     },
     "execution_count": 46,
     "metadata": {},
     "output_type": "execute_result"
    }
   ],
   "source": [
    "df_S_AGREE_ITEM_ORD_AGREE.count()"
   ]
  },
  {
   "cell_type": "markdown",
   "metadata": {},
   "source": [
    "## S_DOC_AGREE TABLE - INITIAL AGREEMENT, using RANK to get 1 Agree Item only INITAGR\n",
    "1. This will join need to join with the data from section: S_AGREE_ITEM - Order Agreement Item, use RANK TO GET 1 AGREEMENT ITEM ONLY. One is to provide the latest agreement and other is to provide the initial agreement."
   ]
  },
  {
   "cell_type": "code",
   "execution_count": 47,
   "metadata": {},
   "outputs": [
    {
     "data": {
      "text/html": [
       "<div>\n",
       "<style>\n",
       "    .dataframe thead tr:only-child th {\n",
       "        text-align: right;\n",
       "    }\n",
       "\n",
       "    .dataframe thead th {\n",
       "        text-align: left;\n",
       "    }\n",
       "\n",
       "    .dataframe tbody tr th {\n",
       "        vertical-align: top;\n",
       "    }\n",
       "</style>\n",
       "<table border=\"1\" class=\"dataframe\">\n",
       "  <thead>\n",
       "    <tr style=\"text-align: right;\">\n",
       "      <th></th>\n",
       "      <th>INITAGR_EFF_START_DT</th>\n",
       "      <th>INITAGR_ORDER_ID</th>\n",
       "      <th>INITAGR_AGREE_ROW_ID</th>\n",
       "      <th>INITAGR_NUM</th>\n",
       "      <th>INITAGR_ASSET_ROW_ID</th>\n",
       "      <th>INITAGR_RANKS_INIT</th>\n",
       "      <th>AGRITMEVG_ORDER_ID</th>\n",
       "      <th>AGRITMEVG_ITEM_ID</th>\n",
       "      <th>AGRITMEVG_ASSET_ID</th>\n",
       "      <th>AGRITMEVG_ITEM_PROD_ID</th>\n",
       "      <th>AGRITMEVG_RANKS</th>\n",
       "      <th>AGRITMEVG_RANKS2</th>\n",
       "      <th>AGRITMEVG_ITEM_DOC_AGREE_ID</th>\n",
       "      <th>AGRITMEVG_AGREE_ITEM_CDF_ROW_ID</th>\n",
       "      <th>AGRITMEVG_RENEWED_ITEM_ROW_ID</th>\n",
       "      <th>AGRITMEVG_ORDITEM_ROW_ID</th>\n",
       "    </tr>\n",
       "  </thead>\n",
       "  <tbody>\n",
       "    <tr>\n",
       "      <th>1</th>\n",
       "      <td>2018-11-30 18:44:20</td>\n",
       "      <td>1-KP496DK</td>\n",
       "      <td>1-KP49NUL</td>\n",
       "      <td>1-45054470397</td>\n",
       "      <td>1-KP49BPN</td>\n",
       "      <td>1</td>\n",
       "      <td>1-KP496DK</td>\n",
       "      <td>1-KP49TE1</td>\n",
       "      <td>1-KP49BPN</td>\n",
       "      <td>1-ARQ2</td>\n",
       "      <td>1</td>\n",
       "      <td>1</td>\n",
       "      <td>1-KP49TDL</td>\n",
       "      <td>None</td>\n",
       "      <td>None</td>\n",
       "      <td>1-KP49B9C</td>\n",
       "    </tr>\n",
       "    <tr>\n",
       "      <th>2</th>\n",
       "      <td>2018-11-30 18:44:20</td>\n",
       "      <td>1-KP496DK</td>\n",
       "      <td>1-KP49NUL</td>\n",
       "      <td>1-45054470397</td>\n",
       "      <td>1-KP49BPN</td>\n",
       "      <td>1</td>\n",
       "      <td>1-KP4A0L2</td>\n",
       "      <td>1-KP4BH9L</td>\n",
       "      <td>1-KP49BPN</td>\n",
       "      <td>1-ARQ2</td>\n",
       "      <td>1</td>\n",
       "      <td>1</td>\n",
       "      <td>1-KP4BH95</td>\n",
       "      <td>None</td>\n",
       "      <td>None</td>\n",
       "      <td>1-KP4A0L5</td>\n",
       "    </tr>\n",
       "    <tr>\n",
       "      <th>3</th>\n",
       "      <td>2018-11-30 18:44:20</td>\n",
       "      <td>1-KP496DK</td>\n",
       "      <td>1-KP49NUL</td>\n",
       "      <td>1-45054470397</td>\n",
       "      <td>1-KP49BPN</td>\n",
       "      <td>1</td>\n",
       "      <td>1-KP4A0L2</td>\n",
       "      <td>1-KP4BH9L</td>\n",
       "      <td>1-KP49BPN</td>\n",
       "      <td>1-ARQ2</td>\n",
       "      <td>1</td>\n",
       "      <td>1</td>\n",
       "      <td>1-KP4BH95</td>\n",
       "      <td>None</td>\n",
       "      <td>None</td>\n",
       "      <td>1-KP4A0L6</td>\n",
       "    </tr>\n",
       "  </tbody>\n",
       "</table>\n",
       "</div>"
      ],
      "text/plain": [
       "  INITAGR_EFF_START_DT INITAGR_ORDER_ID INITAGR_AGREE_ROW_ID    INITAGR_NUM  \\\n",
       "1  2018-11-30 18:44:20        1-KP496DK            1-KP49NUL  1-45054470397   \n",
       "2  2018-11-30 18:44:20        1-KP496DK            1-KP49NUL  1-45054470397   \n",
       "3  2018-11-30 18:44:20        1-KP496DK            1-KP49NUL  1-45054470397   \n",
       "\n",
       "  INITAGR_ASSET_ROW_ID  INITAGR_RANKS_INIT AGRITMEVG_ORDER_ID  \\\n",
       "1            1-KP49BPN                   1          1-KP496DK   \n",
       "2            1-KP49BPN                   1          1-KP4A0L2   \n",
       "3            1-KP49BPN                   1          1-KP4A0L2   \n",
       "\n",
       "  AGRITMEVG_ITEM_ID AGRITMEVG_ASSET_ID AGRITMEVG_ITEM_PROD_ID  \\\n",
       "1         1-KP49TE1          1-KP49BPN                 1-ARQ2   \n",
       "2         1-KP4BH9L          1-KP49BPN                 1-ARQ2   \n",
       "3         1-KP4BH9L          1-KP49BPN                 1-ARQ2   \n",
       "\n",
       "   AGRITMEVG_RANKS  AGRITMEVG_RANKS2 AGRITMEVG_ITEM_DOC_AGREE_ID  \\\n",
       "1                1                 1                   1-KP49TDL   \n",
       "2                1                 1                   1-KP4BH95   \n",
       "3                1                 1                   1-KP4BH95   \n",
       "\n",
       "  AGRITMEVG_AGREE_ITEM_CDF_ROW_ID AGRITMEVG_RENEWED_ITEM_ROW_ID  \\\n",
       "1                            None                          None   \n",
       "2                            None                          None   \n",
       "3                            None                          None   \n",
       "\n",
       "  AGRITMEVG_ORDITEM_ROW_ID  \n",
       "1                1-KP49B9C  \n",
       "2                1-KP4A0L5  \n",
       "3                1-KP4A0L6  "
      ]
     },
     "execution_count": 47,
     "metadata": {},
     "output_type": "execute_result"
    }
   ],
   "source": [
    "query_initial_agree = (\"SELECT DISTINCT INIT_AGREE.EFF_START_DT INITAGR_EFF_START_DT,INIT_AGREE.ORDER_ID INITAGR_ORDER_ID,INIT_AGREE.ROW_ID INITAGR_AGREE_ROW_ID,INIT_AGREE.AGREE_NUM INITAGR_NUM,S_ASSET.ROW_ID INITAGR_ASSET_ROW_ID,RANK() OVER(PARTITION BY INIT_AGREE.ORDER_ID, S_ASSET.ROW_ID ORDER BY INIT_AGREE.EFF_START_DT ASC) INITAGR_RANKS_INIT FROM S_DOC_AGREE INIT_AGREE INNER JOIN S_AGREE_ITEM ON S_AGREE_ITEM.DOC_AGREE_ID = INIT_AGREE.ROW_ID INNER JOIN S_ASSET ON S_ASSET.ROW_ID = S_AGREE_ITEM.ASSET_ID INNER JOIN S_PROD_INT ON S_AGREE_ITEM.PROD_INT_ID = S_PROD_INT.ROW_ID INNER JOIN S_ORDER ORD ON ORD.ROW_ID = INIT_AGREE.ORDER_ID WHERE DATEDIFF(day, INIT_AGREE.EFF_START_DT, INIT_AGREE.EFF_END_DT) < 183 AND INIT_AGREE.AGREE_CD != 'Introductory Support' AND INIT_AGREE.ORDER_ID IS NOT NULL AND S_PROD_INT.PRICE_TYPE_CD ='One-Time' AND %s\" %(order_dt_filter))\n",
    "\n",
    "df_S_AGREE_ITEM_ORD_INITIAL_AGREE = pd.read_sql(query_initial_agree, cnxn)\n",
    "\n",
    "df_S_AGREE_ITEM_ORD_INITIAL_AGREE.head(3)\n",
    "\n",
    "# join with the df_S_AGREE_ITEM_ORD_AGREE\n",
    "df_S_AGREE_ITEM_ORD_INITIAL_AGREE = pd.merge(df_S_AGREE_ITEM_ORD_INITIAL_AGREE, df_S_AGREE_ITEM_ORD_AGREE, how='left', left_on=['INITAGR_ASSET_ROW_ID'], right_on=['AGRITMEVG_ASSET_ID'])\n",
    "\n",
    "# Only rows that are not the same as the current agreement and its the earilest.\n",
    "df_S_AGREE_ITEM_ORD_INITIAL_AGREE = df_S_AGREE_ITEM_ORD_INITIAL_AGREE.loc[(df_S_AGREE_ITEM_ORD_INITIAL_AGREE['INITAGR_RANKS_INIT'] == 1) & (df_S_AGREE_ITEM_ORD_INITIAL_AGREE['INITAGR_AGREE_ROW_ID'] != df_S_AGREE_ITEM_ORD_INITIAL_AGREE['AGRITMEVG_ITEM_DOC_AGREE_ID'])]\n",
    "df_S_AGREE_ITEM_ORD_INITIAL_AGREE.head(3)"
   ]
  },
  {
   "cell_type": "code",
   "execution_count": 48,
   "metadata": {},
   "outputs": [
    {
     "data": {
      "text/plain": [
       "INITAGR_EFF_START_DT               294\n",
       "INITAGR_ORDER_ID                   294\n",
       "INITAGR_AGREE_ROW_ID               294\n",
       "INITAGR_NUM                        294\n",
       "INITAGR_ASSET_ROW_ID               294\n",
       "INITAGR_RANKS_INIT                 294\n",
       "AGRITMEVG_ORDER_ID                 294\n",
       "AGRITMEVG_ITEM_ID                  294\n",
       "AGRITMEVG_ASSET_ID                 294\n",
       "AGRITMEVG_ITEM_PROD_ID             294\n",
       "AGRITMEVG_RANKS                    294\n",
       "AGRITMEVG_RANKS2                   294\n",
       "AGRITMEVG_ITEM_DOC_AGREE_ID        294\n",
       "AGRITMEVG_AGREE_ITEM_CDF_ROW_ID      0\n",
       "AGRITMEVG_RENEWED_ITEM_ROW_ID       54\n",
       "AGRITMEVG_ORDITEM_ROW_ID           294\n",
       "dtype: int64"
      ]
     },
     "execution_count": 48,
     "metadata": {},
     "output_type": "execute_result"
    }
   ],
   "source": [
    "df_S_AGREE_ITEM_ORD_INITIAL_AGREE.count()"
   ]
  },
  {
   "cell_type": "markdown",
   "metadata": {},
   "source": [
    "## S_POSTN Account Manager position contact ACCMGR"
   ]
  },
  {
   "cell_type": "code",
   "execution_count": 49,
   "metadata": {},
   "outputs": [
    {
     "data": {
      "text/html": [
       "<div>\n",
       "<style>\n",
       "    .dataframe thead tr:only-child th {\n",
       "        text-align: right;\n",
       "    }\n",
       "\n",
       "    .dataframe thead th {\n",
       "        text-align: left;\n",
       "    }\n",
       "\n",
       "    .dataframe tbody tr th {\n",
       "        vertical-align: top;\n",
       "    }\n",
       "</style>\n",
       "<table border=\"1\" class=\"dataframe\">\n",
       "  <thead>\n",
       "    <tr style=\"text-align: right;\">\n",
       "      <th></th>\n",
       "      <th>ACCMGR_ORDER_ID</th>\n",
       "      <th>ACCMGR_NAME</th>\n",
       "    </tr>\n",
       "  </thead>\n",
       "  <tbody>\n",
       "    <tr>\n",
       "      <th>0</th>\n",
       "      <td>1-L27UV4O</td>\n",
       "      <td>Siebel Administrator</td>\n",
       "    </tr>\n",
       "    <tr>\n",
       "      <th>1</th>\n",
       "      <td>1-L298WOI</td>\n",
       "      <td>Siebel Administrator</td>\n",
       "    </tr>\n",
       "    <tr>\n",
       "      <th>2</th>\n",
       "      <td>1-L29944R</td>\n",
       "      <td>Siebel Administrator</td>\n",
       "    </tr>\n",
       "  </tbody>\n",
       "</table>\n",
       "</div>"
      ],
      "text/plain": [
       "  ACCMGR_ORDER_ID           ACCMGR_NAME\n",
       "0       1-L27UV4O  Siebel Administrator\n",
       "1       1-L298WOI  Siebel Administrator\n",
       "2       1-L29944R  Siebel Administrator"
      ]
     },
     "execution_count": 49,
     "metadata": {},
     "output_type": "execute_result"
    }
   ],
   "source": [
    "query_S_POSTN_ACCT_MGR = (\"SELECT ORD.ROW_ID ACCMGR_ORDER_ID, ACCNT_MANAGER_CON.FST_NAME + ' ' +  ACCNT_MANAGER_CON.LAST_NAME AS ACCMGR_NAME FROM S_POSTN ACCOUNT_MANAGER_POS INNER JOIN S_ORG_EXT ACC ON ACC.PR_POSTN_ID = ACCOUNT_MANAGER_POS.ROW_ID INNER JOIN S_CONTACT ACCNT_MANAGER_CON ON ACCNT_MANAGER_CON.ROW_ID = ACCOUNT_MANAGER_POS.PR_EMP_ID INNER JOIN S_ORDER ORD ON ORD.BILL_ACCNT_ID = ACC.ROW_ID WHERE %s\" %(order_dt_filter))\n",
    "\n",
    "df_S_POSTN_ACCT_MGR = pd.read_sql(query_S_POSTN_ACCT_MGR, cnxn)\n",
    "df_S_POSTN_ACCT_MGR.head(3)"
   ]
  },
  {
   "cell_type": "code",
   "execution_count": 50,
   "metadata": {},
   "outputs": [
    {
     "data": {
      "text/plain": [
       "ACCMGR_ORDER_ID    23062\n",
       "ACCMGR_NAME        23062\n",
       "dtype: int64"
      ]
     },
     "execution_count": 50,
     "metadata": {},
     "output_type": "execute_result"
    }
   ],
   "source": [
    "df_S_POSTN_ACCT_MGR.count()"
   ]
  },
  {
   "cell_type": "markdown",
   "metadata": {},
   "source": [
    "## S_DOC_QUOTE table QUOTE"
   ]
  },
  {
   "cell_type": "code",
   "execution_count": 51,
   "metadata": {},
   "outputs": [
    {
     "data": {
      "text/html": [
       "<div>\n",
       "<style>\n",
       "    .dataframe thead tr:only-child th {\n",
       "        text-align: right;\n",
       "    }\n",
       "\n",
       "    .dataframe thead th {\n",
       "        text-align: left;\n",
       "    }\n",
       "\n",
       "    .dataframe tbody tr th {\n",
       "        vertical-align: top;\n",
       "    }\n",
       "</style>\n",
       "<table border=\"1\" class=\"dataframe\">\n",
       "  <thead>\n",
       "    <tr style=\"text-align: right;\">\n",
       "      <th></th>\n",
       "      <th>QUOTE_ID</th>\n",
       "      <th>QUOTE_ORD_ROW_ID</th>\n",
       "      <th>QUOTE_SALES_REP_POSTN_ID</th>\n",
       "      <th>QUOTE_X_REF_ACCT_ID</th>\n",
       "      <th>QUOTE_PROD_EVNGLIST_ID</th>\n",
       "      <th>QUOTE_CREATED_BY</th>\n",
       "      <th>QUOTE_REF_CON_ID</th>\n",
       "      <th>QUOTE_NUM</th>\n",
       "      <th>QUOTE_X_COMM_OPTION</th>\n",
       "    </tr>\n",
       "  </thead>\n",
       "  <tbody>\n",
       "    <tr>\n",
       "      <th>0</th>\n",
       "      <td>1-KP58J6E</td>\n",
       "      <td>1-KP58JOY</td>\n",
       "      <td>0-55RNY</td>\n",
       "      <td>None</td>\n",
       "      <td>None</td>\n",
       "      <td>1-1PIO0</td>\n",
       "      <td>None</td>\n",
       "      <td>1-KP58J6E</td>\n",
       "      <td>None</td>\n",
       "    </tr>\n",
       "    <tr>\n",
       "      <th>1</th>\n",
       "      <td>1-KPZB9P7</td>\n",
       "      <td>1-KPZA6Z7</td>\n",
       "      <td>1-1PENB</td>\n",
       "      <td>None</td>\n",
       "      <td>None</td>\n",
       "      <td>1-1GUJ-651</td>\n",
       "      <td>None</td>\n",
       "      <td>1-KPZB9P7</td>\n",
       "      <td>None</td>\n",
       "    </tr>\n",
       "    <tr>\n",
       "      <th>2</th>\n",
       "      <td>1-KPZELMF</td>\n",
       "      <td>1-KPZDP4C</td>\n",
       "      <td>1-1PENB</td>\n",
       "      <td>None</td>\n",
       "      <td>None</td>\n",
       "      <td>1-1GUJ-651</td>\n",
       "      <td>None</td>\n",
       "      <td>1-KPZELMF</td>\n",
       "      <td>None</td>\n",
       "    </tr>\n",
       "  </tbody>\n",
       "</table>\n",
       "</div>"
      ],
      "text/plain": [
       "    QUOTE_ID QUOTE_ORD_ROW_ID QUOTE_SALES_REP_POSTN_ID QUOTE_X_REF_ACCT_ID  \\\n",
       "0  1-KP58J6E        1-KP58JOY                  0-55RNY                None   \n",
       "1  1-KPZB9P7        1-KPZA6Z7                  1-1PENB                None   \n",
       "2  1-KPZELMF        1-KPZDP4C                  1-1PENB                None   \n",
       "\n",
       "  QUOTE_PROD_EVNGLIST_ID QUOTE_CREATED_BY QUOTE_REF_CON_ID  QUOTE_NUM  \\\n",
       "0                   None          1-1PIO0             None  1-KP58J6E   \n",
       "1                   None       1-1GUJ-651             None  1-KPZB9P7   \n",
       "2                   None       1-1GUJ-651             None  1-KPZELMF   \n",
       "\n",
       "  QUOTE_X_COMM_OPTION  \n",
       "0                None  \n",
       "1                None  \n",
       "2                None  "
      ]
     },
     "execution_count": 51,
     "metadata": {},
     "output_type": "execute_result"
    }
   ],
   "source": [
    "query_S_DOC_QUOTE = (\"SELECT QUOTE.ROW_ID QUOTE_ID, ORD.ROW_ID QUOTE_ORD_ROW_ID, QUOTE.SALES_REP_POSTN_ID QUOTE_SALES_REP_POSTN_ID, QUOTE.X_REF_ACCT_ID QUOTE_X_REF_ACCT_ID, QUOTE.X_PROD_EVNGLIST_ID QUOTE_PROD_EVNGLIST_ID, QUOTE.CREATED_BY QUOTE_CREATED_BY, QUOTE.X_REF_CON_ID QUOTE_REF_CON_ID, QUOTE.QUOTE_NUM QUOTE_NUM, QUOTE.X_COMM_OPTION QUOTE_X_COMM_OPTION FROM S_DOC_QUOTE QUOTE INNER JOIN S_ORDER ORD ON ORD.QUOTE_ID = QUOTE.ROW_ID WHERE %s\" %(order_dt_filter))\n",
    "\n",
    "df_S_DOC_QUOTE = pd.read_sql(query_S_DOC_QUOTE, cnxn)\n",
    "df_S_DOC_QUOTE.head(3)"
   ]
  },
  {
   "cell_type": "code",
   "execution_count": 52,
   "metadata": {},
   "outputs": [
    {
     "data": {
      "text/plain": [
       "QUOTE_ID                    1615\n",
       "QUOTE_ORD_ROW_ID            1615\n",
       "QUOTE_SALES_REP_POSTN_ID    1615\n",
       "QUOTE_X_REF_ACCT_ID           53\n",
       "QUOTE_PROD_EVNGLIST_ID        34\n",
       "QUOTE_CREATED_BY            1615\n",
       "QUOTE_REF_CON_ID              53\n",
       "QUOTE_NUM                   1615\n",
       "QUOTE_X_COMM_OPTION           52\n",
       "dtype: int64"
      ]
     },
     "execution_count": 52,
     "metadata": {},
     "output_type": "execute_result"
    }
   ],
   "source": [
    "df_S_DOC_QUOTE.count()"
   ]
  },
  {
   "cell_type": "markdown",
   "metadata": {},
   "source": [
    "## S_POSTN Quote Sales Rep position, contact, team, Division QUOTEREP"
   ]
  },
  {
   "cell_type": "code",
   "execution_count": 53,
   "metadata": {},
   "outputs": [
    {
     "data": {
      "text/html": [
       "<div>\n",
       "<style>\n",
       "    .dataframe thead tr:only-child th {\n",
       "        text-align: right;\n",
       "    }\n",
       "\n",
       "    .dataframe thead th {\n",
       "        text-align: left;\n",
       "    }\n",
       "\n",
       "    .dataframe tbody tr th {\n",
       "        vertical-align: top;\n",
       "    }\n",
       "</style>\n",
       "<table border=\"1\" class=\"dataframe\">\n",
       "  <thead>\n",
       "    <tr style=\"text-align: right;\">\n",
       "      <th></th>\n",
       "      <th>QUOTEREP_ORD_ROW_ID</th>\n",
       "      <th>QUOTEREP_SALES_REP_POSITION</th>\n",
       "      <th>QUOTEREP_TEAM</th>\n",
       "      <th>QUOTEREP_SALES_REP</th>\n",
       "      <th>QUOTEREP_SALES_REP_TEAM</th>\n",
       "    </tr>\n",
       "  </thead>\n",
       "  <tbody>\n",
       "    <tr>\n",
       "      <th>0</th>\n",
       "      <td>1-KPMN85Q</td>\n",
       "      <td>Siebel Administrator</td>\n",
       "      <td>Siebel Administration</td>\n",
       "      <td>Siebel Administrator</td>\n",
       "      <td>Siebel Administration</td>\n",
       "    </tr>\n",
       "    <tr>\n",
       "      <th>1</th>\n",
       "      <td>1-KQYH94D</td>\n",
       "      <td>Siebel Administrator</td>\n",
       "      <td>Siebel Administration</td>\n",
       "      <td>Siebel Administrator</td>\n",
       "      <td>Siebel Administration</td>\n",
       "    </tr>\n",
       "    <tr>\n",
       "      <th>2</th>\n",
       "      <td>1-KQZGRAJ</td>\n",
       "      <td>Siebel Administrator</td>\n",
       "      <td>Siebel Administration</td>\n",
       "      <td>Siebel Administrator</td>\n",
       "      <td>Siebel Administration</td>\n",
       "    </tr>\n",
       "  </tbody>\n",
       "</table>\n",
       "</div>"
      ],
      "text/plain": [
       "  QUOTEREP_ORD_ROW_ID QUOTEREP_SALES_REP_POSITION          QUOTEREP_TEAM  \\\n",
       "0           1-KPMN85Q        Siebel Administrator  Siebel Administration   \n",
       "1           1-KQYH94D        Siebel Administrator  Siebel Administration   \n",
       "2           1-KQZGRAJ        Siebel Administrator  Siebel Administration   \n",
       "\n",
       "     QUOTEREP_SALES_REP QUOTEREP_SALES_REP_TEAM  \n",
       "0  Siebel Administrator   Siebel Administration  \n",
       "1  Siebel Administrator   Siebel Administration  \n",
       "2  Siebel Administrator   Siebel Administration  "
      ]
     },
     "execution_count": 53,
     "metadata": {},
     "output_type": "execute_result"
    }
   ],
   "source": [
    "query_S_POSTN_QUOTE_SALES_REP = (\"SELECT ORD.ROW_ID QUOTEREP_ORD_ROW_ID, POS.NAME QUOTEREP_SALES_REP_POSITION, DIV.NAME QUOTEREP_TEAM, QUOTE_SALES_REP.FST_NAME + ' ' + QUOTE_SALES_REP.LAST_NAME QUOTEREP_SALES_REP,TEAM.NAME QUOTEREP_SALES_REP_TEAM FROM S_POSTN POS INNER JOIN S_DOC_QUOTE QUOTE ON QUOTE.SALES_REP_POSTN_ID = POS.ROW_ID INNER JOIN S_ORDER ORD ON ORD.QUOTE_ID = QUOTE.ROW_ID LEFT OUTER JOIN S_ORG_EXT DIV ON POS.OU_ID = DIV.ROW_ID left outer join S_CONTACT QUOTE_SALES_REP ON QUOTE_SALES_REP.ROW_ID = POS.PR_EMP_ID left outer join S_ORG_EXT TEAM ON TEAM.PAR_ROW_ID = POS.OU_ID WHERE %s\" %(order_dt_filter))\n",
    "\n",
    "df_S_POSTN_QUOTE_SALES_REP = pd.read_sql(query_S_POSTN_QUOTE_SALES_REP, cnxn)\n",
    "df_S_POSTN_QUOTE_SALES_REP.head(3)"
   ]
  },
  {
   "cell_type": "code",
   "execution_count": 54,
   "metadata": {},
   "outputs": [
    {
     "data": {
      "text/plain": [
       "QUOTEREP_ORD_ROW_ID            1615\n",
       "QUOTEREP_SALES_REP_POSITION    1615\n",
       "QUOTEREP_TEAM                  1615\n",
       "QUOTEREP_SALES_REP             1615\n",
       "QUOTEREP_SALES_REP_TEAM        1615\n",
       "dtype: int64"
      ]
     },
     "execution_count": 54,
     "metadata": {},
     "output_type": "execute_result"
    }
   ],
   "source": [
    "df_S_POSTN_QUOTE_SALES_REP.count()"
   ]
  },
  {
   "cell_type": "markdown",
   "metadata": {},
   "source": [
    "## S_ORG_EXT - QUOTE Referred by Account QUOTEREFACC\n",
    "1. Referred by Account Manger Contact."
   ]
  },
  {
   "cell_type": "code",
   "execution_count": 55,
   "metadata": {},
   "outputs": [
    {
     "data": {
      "text/html": [
       "<div>\n",
       "<style>\n",
       "    .dataframe thead tr:only-child th {\n",
       "        text-align: right;\n",
       "    }\n",
       "\n",
       "    .dataframe thead th {\n",
       "        text-align: left;\n",
       "    }\n",
       "\n",
       "    .dataframe tbody tr th {\n",
       "        vertical-align: top;\n",
       "    }\n",
       "</style>\n",
       "<table border=\"1\" class=\"dataframe\">\n",
       "  <thead>\n",
       "    <tr style=\"text-align: right;\">\n",
       "      <th></th>\n",
       "      <th>QUOTEREFACC_ORD_ROW_ID</th>\n",
       "      <th>QUOTEREFACC_ID</th>\n",
       "      <th>QUOTEREFACC_POSTN_ID</th>\n",
       "      <th>QUOTEREFACC_OU_TYPE_CD</th>\n",
       "      <th>QUOTEREFACC_CLIENT_ID</th>\n",
       "      <th>QUOTEREFACC_DIVISION</th>\n",
       "      <th>QUOTEREFACC_SEGMENT</th>\n",
       "      <th>QUOTEREFACC_NAME</th>\n",
       "      <th>QUOTEREFACC_ACCOUNT_MANAGER</th>\n",
       "    </tr>\n",
       "  </thead>\n",
       "  <tbody>\n",
       "    <tr>\n",
       "      <th>0</th>\n",
       "      <td>1-KRQ2NJS</td>\n",
       "      <td>1-1D6KRQJ</td>\n",
       "      <td>1-40U-11</td>\n",
       "      <td>Customer</td>\n",
       "      <td>8308248</td>\n",
       "      <td>Business Division</td>\n",
       "      <td>Growing Business</td>\n",
       "      <td>XSEOAKJIHNNQXWQQHEITWLCIXAWBYDOBINUBTHQE</td>\n",
       "      <td>Anoop Chandran</td>\n",
       "    </tr>\n",
       "    <tr>\n",
       "      <th>1</th>\n",
       "      <td>1-KT1GUY7</td>\n",
       "      <td>1-1T9OMOC</td>\n",
       "      <td>1-GLY-7</td>\n",
       "      <td>Business Partner</td>\n",
       "      <td>8321915</td>\n",
       "      <td>Enterprise Division</td>\n",
       "      <td>Enterprise Business</td>\n",
       "      <td>Advanced Partner Pty Ltd</td>\n",
       "      <td>Hayley Punter</td>\n",
       "    </tr>\n",
       "    <tr>\n",
       "      <th>2</th>\n",
       "      <td>1-KT1ZHU7</td>\n",
       "      <td>1-1T9OMOC</td>\n",
       "      <td>1-GLY-7</td>\n",
       "      <td>Business Partner</td>\n",
       "      <td>8321915</td>\n",
       "      <td>Enterprise Division</td>\n",
       "      <td>Enterprise Business</td>\n",
       "      <td>Advanced Partner Pty Ltd</td>\n",
       "      <td>Hayley Punter</td>\n",
       "    </tr>\n",
       "  </tbody>\n",
       "</table>\n",
       "</div>"
      ],
      "text/plain": [
       "  QUOTEREFACC_ORD_ROW_ID QUOTEREFACC_ID QUOTEREFACC_POSTN_ID  \\\n",
       "0              1-KRQ2NJS      1-1D6KRQJ             1-40U-11   \n",
       "1              1-KT1GUY7      1-1T9OMOC              1-GLY-7   \n",
       "2              1-KT1ZHU7      1-1T9OMOC              1-GLY-7   \n",
       "\n",
       "  QUOTEREFACC_OU_TYPE_CD QUOTEREFACC_CLIENT_ID QUOTEREFACC_DIVISION  \\\n",
       "0               Customer               8308248    Business Division   \n",
       "1       Business Partner               8321915  Enterprise Division   \n",
       "2       Business Partner               8321915  Enterprise Division   \n",
       "\n",
       "   QUOTEREFACC_SEGMENT                          QUOTEREFACC_NAME  \\\n",
       "0     Growing Business  XSEOAKJIHNNQXWQQHEITWLCIXAWBYDOBINUBTHQE   \n",
       "1  Enterprise Business                  Advanced Partner Pty Ltd   \n",
       "2  Enterprise Business                  Advanced Partner Pty Ltd   \n",
       "\n",
       "  QUOTEREFACC_ACCOUNT_MANAGER  \n",
       "0              Anoop Chandran  \n",
       "1               Hayley Punter  \n",
       "2               Hayley Punter  "
      ]
     },
     "execution_count": 55,
     "metadata": {},
     "output_type": "execute_result"
    }
   ],
   "source": [
    "query_S_AGREE_ITEM_RENEWED_ITEM = (\"SELECT ORD.ROW_ID QUOTEREFACC_ORD_ROW_ID, REF.ROW_ID QUOTEREFACC_ID, REF.PR_POSTN_ID QUOTEREFACC_POSTN_ID, ISNULL(REF.OU_TYPE_CD,'NA') QUOTEREFACC_OU_TYPE_CD, REF.INTEGRATION_ID QUOTEREFACC_CLIENT_ID, REF.X_DIVISION QUOTEREFACC_DIVISION, REF.X_SEGMENT QUOTEREFACC_SEGMENT, REF.NAME QUOTEREFACC_NAME, REF_ACCOUNT_MANAGER_CON.FST_NAME + ' ' +  REF_ACCOUNT_MANAGER_CON.LAST_NAME AS QUOTEREFACC_ACCOUNT_MANAGER FROM S_ORG_EXT REF INNER JOIN S_DOC_QUOTE QUOTE ON QUOTE.X_REF_ACCT_ID = REF.ROW_ID INNER JOIN S_ORDER ORD ON ORD.QUOTE_ID = QUOTE.ROW_ID LEFT OUTER JOIN S_POSTN REF_ACCOUNT_MANAGER_POS ON REF_ACCOUNT_MANAGER_POS.ROW_ID = REF.PR_POSTN_ID LEFT OUTER JOIN S_CONTACT REF_ACCOUNT_MANAGER_CON ON REF_ACCOUNT_MANAGER_CON.ROW_ID = REF_ACCOUNT_MANAGER_POS.PR_EMP_ID WHERE %s\" %(order_dt_filter))\n",
    "\n",
    "df_S_AGREE_ITEM_RENEWED_ITEM = pd.read_sql(query_S_AGREE_ITEM_RENEWED_ITEM, cnxn)\n",
    "df_S_AGREE_ITEM_RENEWED_ITEM.head(3)"
   ]
  },
  {
   "cell_type": "code",
   "execution_count": 56,
   "metadata": {},
   "outputs": [
    {
     "data": {
      "text/plain": [
       "QUOTEREFACC_ORD_ROW_ID         53\n",
       "QUOTEREFACC_ID                 53\n",
       "QUOTEREFACC_POSTN_ID           53\n",
       "QUOTEREFACC_OU_TYPE_CD         53\n",
       "QUOTEREFACC_CLIENT_ID          53\n",
       "QUOTEREFACC_DIVISION           53\n",
       "QUOTEREFACC_SEGMENT            53\n",
       "QUOTEREFACC_NAME               53\n",
       "QUOTEREFACC_ACCOUNT_MANAGER    53\n",
       "dtype: int64"
      ]
     },
     "execution_count": 56,
     "metadata": {},
     "output_type": "execute_result"
    }
   ],
   "source": [
    "df_S_AGREE_ITEM_RENEWED_ITEM.count()"
   ]
  },
  {
   "cell_type": "markdown",
   "metadata": {},
   "source": [
    "## S_USER - QUOTE PROD EVNGLIST FROM ORDER. QUOTEEVN"
   ]
  },
  {
   "cell_type": "code",
   "execution_count": 57,
   "metadata": {},
   "outputs": [
    {
     "data": {
      "text/html": [
       "<div>\n",
       "<style>\n",
       "    .dataframe thead tr:only-child th {\n",
       "        text-align: right;\n",
       "    }\n",
       "\n",
       "    .dataframe thead th {\n",
       "        text-align: left;\n",
       "    }\n",
       "\n",
       "    .dataframe tbody tr th {\n",
       "        vertical-align: top;\n",
       "    }\n",
       "</style>\n",
       "<table border=\"1\" class=\"dataframe\">\n",
       "  <thead>\n",
       "    <tr style=\"text-align: right;\">\n",
       "      <th></th>\n",
       "      <th>QUOTEEVN_ORD_ROW_ID</th>\n",
       "      <th>QUOTEEVN_LOGIN</th>\n",
       "    </tr>\n",
       "  </thead>\n",
       "  <tbody>\n",
       "    <tr>\n",
       "      <th>0</th>\n",
       "      <td>1-KPMN85Q</td>\n",
       "      <td>SIT.ADSCH7@MYOBTEST.NET</td>\n",
       "    </tr>\n",
       "    <tr>\n",
       "      <th>1</th>\n",
       "      <td>1-KQB2U67</td>\n",
       "      <td>SIT.ADSCH7@MYOBTEST.NET</td>\n",
       "    </tr>\n",
       "    <tr>\n",
       "      <th>2</th>\n",
       "      <td>1-KQZGRAJ</td>\n",
       "      <td>SIT.ADSCH7@MYOBTEST.NET</td>\n",
       "    </tr>\n",
       "  </tbody>\n",
       "</table>\n",
       "</div>"
      ],
      "text/plain": [
       "  QUOTEEVN_ORD_ROW_ID           QUOTEEVN_LOGIN\n",
       "0           1-KPMN85Q  SIT.ADSCH7@MYOBTEST.NET\n",
       "1           1-KQB2U67  SIT.ADSCH7@MYOBTEST.NET\n",
       "2           1-KQZGRAJ  SIT.ADSCH7@MYOBTEST.NET"
      ]
     },
     "execution_count": 57,
     "metadata": {},
     "output_type": "execute_result"
    }
   ],
   "source": [
    "query_S_USER_QUOTE_EVANG = (\"SELECT ORD.ROW_ID QUOTEEVN_ORD_ROW_ID, EVANG.LOGIN QUOTEEVN_LOGIN FROM S_USER EVANG INNER JOIN S_DOC_QUOTE QUOTE ON QUOTE.X_PROD_EVNGLIST_ID = EVANG.ROW_ID INNER JOIN S_ORDER ORD ON ORD.QUOTE_ID = QUOTE.ROW_ID WHERE %s\" %(order_dt_filter))\n",
    "\n",
    "df_S_USER_QUOTE_EVANG = pd.read_sql(query_S_USER_QUOTE_EVANG, cnxn)\n",
    "df_S_USER_QUOTE_EVANG.head(3)"
   ]
  },
  {
   "cell_type": "code",
   "execution_count": 58,
   "metadata": {},
   "outputs": [
    {
     "data": {
      "text/plain": [
       "QUOTEEVN_ORD_ROW_ID    34\n",
       "QUOTEEVN_LOGIN         34\n",
       "dtype: int64"
      ]
     },
     "execution_count": 58,
     "metadata": {},
     "output_type": "execute_result"
    }
   ],
   "source": [
    "df_S_USER_QUOTE_EVANG.count()"
   ]
  },
  {
   "cell_type": "markdown",
   "metadata": {},
   "source": [
    "## S_CONTACT - Quote Creater contact QUOTECTR"
   ]
  },
  {
   "cell_type": "code",
   "execution_count": 59,
   "metadata": {},
   "outputs": [
    {
     "data": {
      "text/html": [
       "<div>\n",
       "<style>\n",
       "    .dataframe thead tr:only-child th {\n",
       "        text-align: right;\n",
       "    }\n",
       "\n",
       "    .dataframe thead th {\n",
       "        text-align: left;\n",
       "    }\n",
       "\n",
       "    .dataframe tbody tr th {\n",
       "        vertical-align: top;\n",
       "    }\n",
       "</style>\n",
       "<table border=\"1\" class=\"dataframe\">\n",
       "  <thead>\n",
       "    <tr style=\"text-align: right;\">\n",
       "      <th></th>\n",
       "      <th>QUOTECTR_ORD_ROW_ID</th>\n",
       "      <th>QUOTECTR_QUOTE_ROW_ID</th>\n",
       "      <th>QUOTECTR_CREATOR</th>\n",
       "    </tr>\n",
       "  </thead>\n",
       "  <tbody>\n",
       "    <tr>\n",
       "      <th>0</th>\n",
       "      <td>1-KPMN85Q</td>\n",
       "      <td>1-KPMN3LW</td>\n",
       "      <td>Siebel Administrator</td>\n",
       "    </tr>\n",
       "    <tr>\n",
       "      <th>1</th>\n",
       "      <td>1-KQB2U67</td>\n",
       "      <td>1-KQB2RAN</td>\n",
       "      <td>Siebel Administrator</td>\n",
       "    </tr>\n",
       "    <tr>\n",
       "      <th>2</th>\n",
       "      <td>1-KQYH94D</td>\n",
       "      <td>1-KQYH59R</td>\n",
       "      <td>Siebel Administrator</td>\n",
       "    </tr>\n",
       "  </tbody>\n",
       "</table>\n",
       "</div>"
      ],
      "text/plain": [
       "  QUOTECTR_ORD_ROW_ID QUOTECTR_QUOTE_ROW_ID      QUOTECTR_CREATOR\n",
       "0           1-KPMN85Q             1-KPMN3LW  Siebel Administrator\n",
       "1           1-KQB2U67             1-KQB2RAN  Siebel Administrator\n",
       "2           1-KQYH94D             1-KQYH59R  Siebel Administrator"
      ]
     },
     "execution_count": 59,
     "metadata": {},
     "output_type": "execute_result"
    }
   ],
   "source": [
    "query_S_CONTACT_Quote_Creater = (\"SELECT ORD.ROW_ID QUOTECTR_ORD_ROW_ID, QUOTE.ROW_ID QUOTECTR_QUOTE_ROW_ID, QUOTE_CREATOR.FST_NAME + ' ' + QUOTE_CREATOR.LAST_NAME AS QUOTECTR_CREATOR FROM S_CONTACT QUOTE_CREATOR INNER JOIN S_DOC_QUOTE QUOTE ON QUOTE.CREATED_BY = QUOTE_CREATOR.ROW_ID INNER JOIN S_ORDER ORD ON ORD.QUOTE_ID = QUOTE.ROW_ID WHERE %s\" %(order_dt_filter))\n",
    "                                 \n",
    "df_S_CONTACT_Quote_Creater = pd.read_sql(query_S_CONTACT_Quote_Creater, cnxn)\n",
    "df_S_CONTACT_Quote_Creater.head(3)"
   ]
  },
  {
   "cell_type": "code",
   "execution_count": 60,
   "metadata": {},
   "outputs": [
    {
     "data": {
      "text/plain": [
       "QUOTECTR_ORD_ROW_ID      1615\n",
       "QUOTECTR_QUOTE_ROW_ID    1615\n",
       "QUOTECTR_CREATOR         1615\n",
       "dtype: int64"
      ]
     },
     "execution_count": 60,
     "metadata": {},
     "output_type": "execute_result"
    }
   ],
   "source": [
    "df_S_CONTACT_Quote_Creater.count()"
   ]
  },
  {
   "cell_type": "markdown",
   "metadata": {},
   "source": [
    "## S_POSTN - Quote Creater Team QUOTECTRT\n",
    "1. The team of the Quote creater, if there is more than one team exists, pick the team with the earliest created date "
   ]
  },
  {
   "cell_type": "code",
   "execution_count": 61,
   "metadata": {},
   "outputs": [
    {
     "data": {
      "text/html": [
       "<div>\n",
       "<style>\n",
       "    .dataframe thead tr:only-child th {\n",
       "        text-align: right;\n",
       "    }\n",
       "\n",
       "    .dataframe thead th {\n",
       "        text-align: left;\n",
       "    }\n",
       "\n",
       "    .dataframe tbody tr th {\n",
       "        vertical-align: top;\n",
       "    }\n",
       "</style>\n",
       "<table border=\"1\" class=\"dataframe\">\n",
       "  <thead>\n",
       "    <tr style=\"text-align: right;\">\n",
       "      <th></th>\n",
       "      <th>QUOTECTRT_TEAM</th>\n",
       "      <th>QUOTECTRT_QUOTE_ID</th>\n",
       "      <th>QUOTECTRT_ORD_ROW_ID</th>\n",
       "      <th>QUOTECTRT_POSTN_RANK</th>\n",
       "    </tr>\n",
       "  </thead>\n",
       "  <tbody>\n",
       "    <tr>\n",
       "      <th>0</th>\n",
       "      <td>Default Organization</td>\n",
       "      <td>1-KO6A79R</td>\n",
       "      <td>1-KP2N1OU</td>\n",
       "      <td>1</td>\n",
       "    </tr>\n",
       "    <tr>\n",
       "      <th>1</th>\n",
       "      <td>Default Organization</td>\n",
       "      <td>1-KP2T2X9</td>\n",
       "      <td>1-KP2TAIQ</td>\n",
       "      <td>1</td>\n",
       "    </tr>\n",
       "    <tr>\n",
       "      <th>2</th>\n",
       "      <td>Default Organization</td>\n",
       "      <td>1-KP2T5TZ</td>\n",
       "      <td>1-KP2VLLC</td>\n",
       "      <td>1</td>\n",
       "    </tr>\n",
       "  </tbody>\n",
       "</table>\n",
       "</div>"
      ],
      "text/plain": [
       "         QUOTECTRT_TEAM QUOTECTRT_QUOTE_ID QUOTECTRT_ORD_ROW_ID  \\\n",
       "0  Default Organization          1-KO6A79R            1-KP2N1OU   \n",
       "1  Default Organization          1-KP2T2X9            1-KP2TAIQ   \n",
       "2  Default Organization          1-KP2T5TZ            1-KP2VLLC   \n",
       "\n",
       "   QUOTECTRT_POSTN_RANK  \n",
       "0                     1  \n",
       "1                     1  \n",
       "2                     1  "
      ]
     },
     "execution_count": 61,
     "metadata": {},
     "output_type": "execute_result"
    }
   ],
   "source": [
    "query_S_POSTN_QUOTE_CREATOR_TEAM = (\"SELECT QUOTE_CREATOR_TEAM.NAME AS QUOTECTRT_TEAM, QUOTE.ROW_ID QUOTECTRT_QUOTE_ID, ORD.ROW_ID QUOTECTRT_ORD_ROW_ID, RANK() OVER(PARTITION BY QUOTE.ROW_ID, ORD.ROW_ID ORDER BY QUOTE_CREATOR_POSTN.CREATED) QUOTECTRT_POSTN_RANK FROM S_DOC_QUOTE QUOTE INNER JOIN S_CONTACT QUOTE_CREATOR ON QUOTE_CREATOR.ROW_ID = QUOTE.CREATED_BY INNER JOIN S_POSTN QUOTE_CREATOR_POSTN ON QUOTE_CREATOR_POSTN.PR_EMP_ID = QUOTE_CREATOR.ROW_ID INNER JOIN S_ORG_EXT QUOTE_CREATOR_TEAM ON QUOTE_CREATOR_POSTN.OU_ID = QUOTE_CREATOR_TEAM.ROW_ID INNER JOIN S_ORDER ORD ON ORD.QUOTE_ID = QUOTE.ROW_ID WHERE %s\" % (order_dt_filter))\n",
    "                                 \n",
    "df_S_CONTACT_QUOTE_CREATOR_TEAM = pd.read_sql(query_S_POSTN_QUOTE_CREATOR_TEAM, cnxn)\n",
    "df_S_CONTACT_QUOTE_CREATOR_TEAM = df_S_CONTACT_QUOTE_CREATOR_TEAM.loc[(df_S_CONTACT_QUOTE_CREATOR_TEAM['QUOTECTRT_POSTN_RANK'] == 1)]\n",
    "df_S_CONTACT_QUOTE_CREATOR_TEAM.head(3)"
   ]
  },
  {
   "cell_type": "code",
   "execution_count": 62,
   "metadata": {},
   "outputs": [
    {
     "data": {
      "text/plain": [
       "QUOTECTRT_TEAM          840\n",
       "QUOTECTRT_QUOTE_ID      840\n",
       "QUOTECTRT_ORD_ROW_ID    840\n",
       "QUOTECTRT_POSTN_RANK    840\n",
       "dtype: int64"
      ]
     },
     "execution_count": 62,
     "metadata": {},
     "output_type": "execute_result"
    }
   ],
   "source": [
    "df_S_CONTACT_QUOTE_CREATOR_TEAM.count()"
   ]
  },
  {
   "cell_type": "markdown",
   "metadata": {},
   "source": [
    "## S_SRC Campaign name from Order ORDCAMP"
   ]
  },
  {
   "cell_type": "code",
   "execution_count": 63,
   "metadata": {},
   "outputs": [
    {
     "data": {
      "text/html": [
       "<div>\n",
       "<style>\n",
       "    .dataframe thead tr:only-child th {\n",
       "        text-align: right;\n",
       "    }\n",
       "\n",
       "    .dataframe thead th {\n",
       "        text-align: left;\n",
       "    }\n",
       "\n",
       "    .dataframe tbody tr th {\n",
       "        vertical-align: top;\n",
       "    }\n",
       "</style>\n",
       "<table border=\"1\" class=\"dataframe\">\n",
       "  <thead>\n",
       "    <tr style=\"text-align: right;\">\n",
       "      <th></th>\n",
       "      <th>ORDCAMP_ORD_ROW_ID</th>\n",
       "      <th>ORDCAMP_CAMPAIGN</th>\n",
       "    </tr>\n",
       "  </thead>\n",
       "  <tbody>\n",
       "  </tbody>\n",
       "</table>\n",
       "</div>"
      ],
      "text/plain": [
       "Empty DataFrame\n",
       "Columns: [ORDCAMP_ORD_ROW_ID, ORDCAMP_CAMPAIGN]\n",
       "Index: []"
      ]
     },
     "execution_count": 63,
     "metadata": {},
     "output_type": "execute_result"
    }
   ],
   "source": [
    "query_S_SRC_CAMPAIGN = (\"SELECT ORD.ROW_ID ORDCAMP_ORD_ROW_ID, CAMP.NAME ORDCAMP_CAMPAIGN FROM S_SRC CAMP INNER JOIN S_ORDER ORD ON ORD.PROMO_ID = CAMP.ROW_ID WHERE %s\" %(order_dt_filter))\n",
    "\n",
    "df_S_SRC_CAMPAIGN = pd.read_sql(query_S_SRC_CAMPAIGN, cnxn)\n",
    "df_S_SRC_CAMPAIGN.head(3)"
   ]
  },
  {
   "cell_type": "code",
   "execution_count": 64,
   "metadata": {},
   "outputs": [
    {
     "data": {
      "text/plain": [
       "ORDCAMP_ORD_ROW_ID    0\n",
       "ORDCAMP_CAMPAIGN      0\n",
       "dtype: int64"
      ]
     },
     "execution_count": 64,
     "metadata": {},
     "output_type": "execute_result"
    }
   ],
   "source": [
    "df_S_SRC_CAMPAIGN.count()"
   ]
  },
  {
   "cell_type": "markdown",
   "metadata": {},
   "source": [
    "## S_PTY_PAY_PREF Payment Preference from Order ORDPAYPREF"
   ]
  },
  {
   "cell_type": "code",
   "execution_count": 65,
   "metadata": {},
   "outputs": [
    {
     "data": {
      "text/html": [
       "<div>\n",
       "<style>\n",
       "    .dataframe thead tr:only-child th {\n",
       "        text-align: right;\n",
       "    }\n",
       "\n",
       "    .dataframe thead th {\n",
       "        text-align: left;\n",
       "    }\n",
       "\n",
       "    .dataframe tbody tr th {\n",
       "        vertical-align: top;\n",
       "    }\n",
       "</style>\n",
       "<table border=\"1\" class=\"dataframe\">\n",
       "  <thead>\n",
       "    <tr style=\"text-align: right;\">\n",
       "      <th></th>\n",
       "      <th>ORDPAYPREF_ORD_ROW_ID</th>\n",
       "      <th>ORDPAYPREF_PAY_METH</th>\n",
       "    </tr>\n",
       "  </thead>\n",
       "  <tbody>\n",
       "    <tr>\n",
       "      <th>0</th>\n",
       "      <td>1-L27UV4O</td>\n",
       "      <td>Credit Card</td>\n",
       "    </tr>\n",
       "    <tr>\n",
       "      <th>1</th>\n",
       "      <td>1-L298WOI</td>\n",
       "      <td>Credit Card</td>\n",
       "    </tr>\n",
       "    <tr>\n",
       "      <th>2</th>\n",
       "      <td>1-L29944R</td>\n",
       "      <td>Credit Card</td>\n",
       "    </tr>\n",
       "  </tbody>\n",
       "</table>\n",
       "</div>"
      ],
      "text/plain": [
       "  ORDPAYPREF_ORD_ROW_ID ORDPAYPREF_PAY_METH\n",
       "0             1-L27UV4O         Credit Card\n",
       "1             1-L298WOI         Credit Card\n",
       "2             1-L29944R         Credit Card"
      ]
     },
     "execution_count": 65,
     "metadata": {},
     "output_type": "execute_result"
    }
   ],
   "source": [
    "query_S_PTY_PAY_PREF_PAY_PREF = (\"SELECT ORD.ROW_ID ORDPAYPREF_ORD_ROW_ID, PAYPRFL.PAY_METH_CD ORDPAYPREF_PAY_METH FROM S_PTY_PAY_PRFL PAYPRFL INNER JOIN S_ORDER ORD ON ORD.X_PAYMENT_PROFILE_ID = PAYPRFL.ROW_ID WHERE %s\" %(order_dt_filter))\n",
    "\n",
    "df_S_PTY_PAY_PREF_PAY_PREF = pd.read_sql(query_S_PTY_PAY_PREF_PAY_PREF, cnxn)\n",
    "df_S_PTY_PAY_PREF_PAY_PREF.head(3)"
   ]
  },
  {
   "cell_type": "code",
   "execution_count": 66,
   "metadata": {},
   "outputs": [
    {
     "data": {
      "text/plain": [
       "ORDPAYPREF_ORD_ROW_ID    22252\n",
       "ORDPAYPREF_PAY_METH      22252\n",
       "dtype: int64"
      ]
     },
     "execution_count": 66,
     "metadata": {},
     "output_type": "execute_result"
    }
   ],
   "source": [
    "df_S_PTY_PAY_PREF_PAY_PREF.count()"
   ]
  },
  {
   "cell_type": "markdown",
   "metadata": {},
   "source": [
    "## REGGIE_COVER_SERIAL - Reggie serial numbers REGG"
   ]
  },
  {
   "cell_type": "code",
   "execution_count": 67,
   "metadata": {},
   "outputs": [
    {
     "data": {
      "text/html": [
       "<div>\n",
       "<style>\n",
       "    .dataframe thead tr:only-child th {\n",
       "        text-align: right;\n",
       "    }\n",
       "\n",
       "    .dataframe thead th {\n",
       "        text-align: left;\n",
       "    }\n",
       "\n",
       "    .dataframe tbody tr th {\n",
       "        vertical-align: top;\n",
       "    }\n",
       "</style>\n",
       "<table border=\"1\" class=\"dataframe\">\n",
       "  <thead>\n",
       "    <tr style=\"text-align: right;\">\n",
       "      <th></th>\n",
       "      <th>REGG_SERIAL_NUM</th>\n",
       "    </tr>\n",
       "  </thead>\n",
       "  <tbody>\n",
       "    <tr>\n",
       "      <th>0</th>\n",
       "      <td>0000117</td>\n",
       "    </tr>\n",
       "    <tr>\n",
       "      <th>1</th>\n",
       "      <td>0121479</td>\n",
       "    </tr>\n",
       "    <tr>\n",
       "      <th>2</th>\n",
       "      <td>0146149</td>\n",
       "    </tr>\n",
       "  </tbody>\n",
       "</table>\n",
       "</div>"
      ],
      "text/plain": [
       "  REGG_SERIAL_NUM\n",
       "0         0000117\n",
       "1         0121479\n",
       "2         0146149"
      ]
     },
     "execution_count": 67,
     "metadata": {},
     "output_type": "execute_result"
    }
   ],
   "source": [
    "query_REGGIE_COVER_SERIALS = (\"SELECT SERIAL_NUM REGG_SERIAL_NUM FROM REGGIE_COVER_SERIALS\")\n",
    "\n",
    "df_REGGIE_COVER_SERIALS = pd.read_sql(query_REGGIE_COVER_SERIALS, cnxn)\n",
    "df_REGGIE_COVER_SERIALS.head(3)"
   ]
  },
  {
   "cell_type": "code",
   "execution_count": 68,
   "metadata": {},
   "outputs": [
    {
     "data": {
      "text/plain": [
       "REGG_SERIAL_NUM    270681\n",
       "dtype: int64"
      ]
     },
     "execution_count": 68,
     "metadata": {},
     "output_type": "execute_result"
    }
   ],
   "source": [
    "df_REGGIE_COVER_SERIALS.count()"
   ]
  },
  {
   "cell_type": "markdown",
   "metadata": {},
   "source": [
    "## S_ORG_EXT - Order item owner account ORDITMOWNACC"
   ]
  },
  {
   "cell_type": "code",
   "execution_count": 69,
   "metadata": {},
   "outputs": [
    {
     "data": {
      "text/html": [
       "<div>\n",
       "<style>\n",
       "    .dataframe thead tr:only-child th {\n",
       "        text-align: right;\n",
       "    }\n",
       "\n",
       "    .dataframe thead th {\n",
       "        text-align: left;\n",
       "    }\n",
       "\n",
       "    .dataframe tbody tr th {\n",
       "        vertical-align: top;\n",
       "    }\n",
       "</style>\n",
       "<table border=\"1\" class=\"dataframe\">\n",
       "  <thead>\n",
       "    <tr style=\"text-align: right;\">\n",
       "      <th></th>\n",
       "      <th>ORDITMOWNACC_ORD_ROW_ID</th>\n",
       "      <th>ORDITMOWNACC_ORDITEM_ROW_ID</th>\n",
       "      <th>ORDITMOWNACC_CLIENT_ID</th>\n",
       "      <th>ORDITMOWNACC_NAME</th>\n",
       "      <th>ORDITMOWNACC_DIVISION</th>\n",
       "      <th>ORDITMOWNACC_SEGMENT</th>\n",
       "    </tr>\n",
       "  </thead>\n",
       "  <tbody>\n",
       "    <tr>\n",
       "      <th>0</th>\n",
       "      <td>1-L4XRBQ0</td>\n",
       "      <td>1-L4XRBQK</td>\n",
       "      <td>8209631</td>\n",
       "      <td>ANZ</td>\n",
       "      <td>Business Division</td>\n",
       "      <td>Growing Business</td>\n",
       "    </tr>\n",
       "    <tr>\n",
       "      <th>1</th>\n",
       "      <td>1-L50E2IU</td>\n",
       "      <td>1-L50E2JE</td>\n",
       "      <td>8209631</td>\n",
       "      <td>ANZ</td>\n",
       "      <td>Business Division</td>\n",
       "      <td>Growing Business</td>\n",
       "    </tr>\n",
       "    <tr>\n",
       "      <th>2</th>\n",
       "      <td>1-L50R1UM</td>\n",
       "      <td>1-L50R1V6</td>\n",
       "      <td>8209631</td>\n",
       "      <td>ANZ</td>\n",
       "      <td>Business Division</td>\n",
       "      <td>Growing Business</td>\n",
       "    </tr>\n",
       "  </tbody>\n",
       "</table>\n",
       "</div>"
      ],
      "text/plain": [
       "  ORDITMOWNACC_ORD_ROW_ID ORDITMOWNACC_ORDITEM_ROW_ID ORDITMOWNACC_CLIENT_ID  \\\n",
       "0               1-L4XRBQ0                   1-L4XRBQK                8209631   \n",
       "1               1-L50E2IU                   1-L50E2JE                8209631   \n",
       "2               1-L50R1UM                   1-L50R1V6                8209631   \n",
       "\n",
       "  ORDITMOWNACC_NAME ORDITMOWNACC_DIVISION ORDITMOWNACC_SEGMENT  \n",
       "0               ANZ     Business Division     Growing Business  \n",
       "1               ANZ     Business Division     Growing Business  \n",
       "2               ANZ     Business Division     Growing Business  "
      ]
     },
     "execution_count": 69,
     "metadata": {},
     "output_type": "execute_result"
    }
   ],
   "source": [
    "query_S_ORG_EXT_ITEM_OWNER_ACCNT = (\"SELECT ORD.ROW_ID ORDITMOWNACC_ORD_ROW_ID, ORDITEM.ROW_ID ORDITMOWNACC_ORDITEM_ROW_ID, ITEM_OWNER_ACC.INTEGRATION_ID ORDITMOWNACC_CLIENT_ID, ITEM_OWNER_ACC.NAME ORDITMOWNACC_NAME, ITEM_OWNER_ACC.X_DIVISION ORDITMOWNACC_DIVISION, ITEM_OWNER_ACC.X_SEGMENT ORDITMOWNACC_SEGMENT FROM S_ORG_EXT ITEM_OWNER_ACC INNER JOIN S_ORDER_ITEM ORDITEM ON ORDITEM.OWNER_ACCOUNT_ID = ITEM_OWNER_ACC.ROW_ID INNER JOIN S_ORDER ORD ON ORD.ROW_ID = ORDITEM.ORDER_ID INNER JOIN S_PROD_INT PROD ON ORDITEM.PROD_ID = PROD.ROW_ID AND PROD.TYPE IS NOT NULL INNER JOIN S_PROD_LN PRODLN ON PROD.PR_PROD_LN_ID = PRODLN.ROW_ID WHERE %s AND %s AND %s AND %s AND %s\" %(order_dt_filter, order_status_filter, product_price_type_filter, orditem_prod_ln_filter,orditem_prod_part_num_filter))\n",
    "\n",
    "df_S_ORG_EXT_ITEM_OWNER_ACCNT = pd.read_sql(query_S_ORG_EXT_ITEM_OWNER_ACCNT, cnxn)\n",
    "df_S_ORG_EXT_ITEM_OWNER_ACCNT.head(3)"
   ]
  },
  {
   "cell_type": "code",
   "execution_count": 70,
   "metadata": {},
   "outputs": [
    {
     "data": {
      "text/plain": [
       "ORDITMOWNACC_ORD_ROW_ID        6821\n",
       "ORDITMOWNACC_ORDITEM_ROW_ID    6821\n",
       "ORDITMOWNACC_CLIENT_ID         6821\n",
       "ORDITMOWNACC_NAME              6821\n",
       "ORDITMOWNACC_DIVISION          6821\n",
       "ORDITMOWNACC_SEGMENT           6821\n",
       "dtype: int64"
      ]
     },
     "execution_count": 70,
     "metadata": {},
     "output_type": "execute_result"
    }
   ],
   "source": [
    "df_S_ORG_EXT_ITEM_OWNER_ACCNT.count()"
   ]
  },
  {
   "cell_type": "markdown",
   "metadata": {},
   "source": [
    "## S_POSTN - Order primary Position ORDPRPOS\n",
    "1. Order position -> Order sales rep, team"
   ]
  },
  {
   "cell_type": "code",
   "execution_count": 71,
   "metadata": {},
   "outputs": [
    {
     "data": {
      "text/html": [
       "<div>\n",
       "<style>\n",
       "    .dataframe thead tr:only-child th {\n",
       "        text-align: right;\n",
       "    }\n",
       "\n",
       "    .dataframe thead th {\n",
       "        text-align: left;\n",
       "    }\n",
       "\n",
       "    .dataframe tbody tr th {\n",
       "        vertical-align: top;\n",
       "    }\n",
       "</style>\n",
       "<table border=\"1\" class=\"dataframe\">\n",
       "  <thead>\n",
       "    <tr style=\"text-align: right;\">\n",
       "      <th></th>\n",
       "      <th>ORDPRPOS_ORD_ROW_ID</th>\n",
       "      <th>ORDPRPOS_SALES_REP</th>\n",
       "      <th>ORDPRPOS_TEAM</th>\n",
       "    </tr>\n",
       "  </thead>\n",
       "  <tbody>\n",
       "    <tr>\n",
       "      <th>0</th>\n",
       "      <td>1-KOZQVJI</td>\n",
       "      <td>Siebel Administrator</td>\n",
       "      <td>Siebel Administration</td>\n",
       "    </tr>\n",
       "    <tr>\n",
       "      <th>1</th>\n",
       "      <td>1-KPFM7LY</td>\n",
       "      <td>Siebel Administrator</td>\n",
       "      <td>Siebel Administration</td>\n",
       "    </tr>\n",
       "    <tr>\n",
       "      <th>2</th>\n",
       "      <td>1-KPMJRM0</td>\n",
       "      <td>Siebel Administrator</td>\n",
       "      <td>Siebel Administration</td>\n",
       "    </tr>\n",
       "  </tbody>\n",
       "</table>\n",
       "</div>"
      ],
      "text/plain": [
       "  ORDPRPOS_ORD_ROW_ID    ORDPRPOS_SALES_REP          ORDPRPOS_TEAM\n",
       "0           1-KOZQVJI  Siebel Administrator  Siebel Administration\n",
       "1           1-KPFM7LY  Siebel Administrator  Siebel Administration\n",
       "2           1-KPMJRM0  Siebel Administrator  Siebel Administration"
      ]
     },
     "execution_count": 71,
     "metadata": {},
     "output_type": "execute_result"
    }
   ],
   "source": [
    "query_S_POSTN_ORDER = (\"SELECT ORD.ROW_ID ORDPRPOS_ORD_ROW_ID, ORDER_SALES_REP.FST_NAME + ' ' + ORDER_SALES_REP.LAST_NAME ORDPRPOS_SALES_REP, ORDER_TEAM.NAME ORDPRPOS_TEAM FROM S_ORDER ORD INNER JOIN S_POSTN ORDER_POS ON ORD.PR_POSTN_ID = ORDER_POS.ROW_ID left outer join S_CONTACT ORDER_SALES_REP ON ORDER_SALES_REP.ROW_ID = ORDER_POS.PR_EMP_ID left outer join S_ORG_EXT ORDER_TEAM ON ORDER_POS.OU_ID = ORDER_TEAM.ROW_ID WHERE %s\" %(order_dt_filter))\n",
    "\n",
    "df_S_POSTN_ORDER = pd.read_sql(query_S_POSTN_ORDER, cnxn)\n",
    "df_S_POSTN_ORDER.head(3)"
   ]
  },
  {
   "cell_type": "code",
   "execution_count": 72,
   "metadata": {},
   "outputs": [
    {
     "data": {
      "text/plain": [
       "ORDPRPOS_ORD_ROW_ID    23063\n",
       "ORDPRPOS_SALES_REP     23063\n",
       "ORDPRPOS_TEAM          23063\n",
       "dtype: int64"
      ]
     },
     "execution_count": 72,
     "metadata": {},
     "output_type": "execute_result"
    }
   ],
   "source": [
    "df_S_POSTN_ORDER.count()"
   ]
  },
  {
   "cell_type": "markdown",
   "metadata": {},
   "source": [
    "## S_EVT_ACT - Order confirmation ORDCON\n",
    "1. This is to state if the order has been confirmed by looking into Activities"
   ]
  },
  {
   "cell_type": "code",
   "execution_count": 73,
   "metadata": {},
   "outputs": [
    {
     "data": {
      "text/html": [
       "<div>\n",
       "<style>\n",
       "    .dataframe thead tr:only-child th {\n",
       "        text-align: right;\n",
       "    }\n",
       "\n",
       "    .dataframe thead th {\n",
       "        text-align: left;\n",
       "    }\n",
       "\n",
       "    .dataframe tbody tr th {\n",
       "        vertical-align: top;\n",
       "    }\n",
       "</style>\n",
       "<table border=\"1\" class=\"dataframe\">\n",
       "  <thead>\n",
       "    <tr style=\"text-align: right;\">\n",
       "      <th></th>\n",
       "      <th>ORDCON_ORDER_ID</th>\n",
       "      <th>ORDCON_TARGET_OU_ID</th>\n",
       "    </tr>\n",
       "  </thead>\n",
       "  <tbody>\n",
       "  </tbody>\n",
       "</table>\n",
       "</div>"
      ],
      "text/plain": [
       "Empty DataFrame\n",
       "Columns: [ORDCON_ORDER_ID, ORDCON_TARGET_OU_ID]\n",
       "Index: []"
      ]
     },
     "execution_count": 73,
     "metadata": {},
     "output_type": "execute_result"
    }
   ],
   "source": [
    "query_S_EVT_ACT_ORDER = (\"SELECT ORD.ROW_ID ORDCON_ORDER_ID, A.TARGET_OU_ID ORDCON_TARGET_OU_ID FROM S_EVT_ACT A INNER JOIN S_ORDER ORD ON ORD.BILL_ACCNT_ID = A.TARGET_OU_ID WHERE %s AND A.X_INTERACTION_CD = 'AD Partner Team' AND A.X_INTERACTION2_CD = 'Sub Order Confirm Received' GROUP BY ORD.ROW_ID, A.TARGET_OU_ID\" %(order_dt_filter))\n",
    "\n",
    "df_S_EVT_ACT_ORDER = pd.read_sql(query_S_EVT_ACT_ORDER, cnxn)\n",
    "df_S_EVT_ACT_ORDER.head(3)"
   ]
  },
  {
   "cell_type": "code",
   "execution_count": 74,
   "metadata": {},
   "outputs": [
    {
     "data": {
      "text/plain": [
       "ORDCON_ORDER_ID        0\n",
       "ORDCON_TARGET_OU_ID    0\n",
       "dtype: int64"
      ]
     },
     "execution_count": 74,
     "metadata": {},
     "output_type": "execute_result"
    }
   ],
   "source": [
    "df_S_EVT_ACT_ORDER.count()"
   ]
  },
  {
   "cell_type": "markdown",
   "metadata": {},
   "source": [
    "## S_CONTACT - Quote Refer Contact, Evanglist QUOTEREFEVA"
   ]
  },
  {
   "cell_type": "code",
   "execution_count": 75,
   "metadata": {},
   "outputs": [
    {
     "data": {
      "text/html": [
       "<div>\n",
       "<style>\n",
       "    .dataframe thead tr:only-child th {\n",
       "        text-align: right;\n",
       "    }\n",
       "\n",
       "    .dataframe thead th {\n",
       "        text-align: left;\n",
       "    }\n",
       "\n",
       "    .dataframe tbody tr th {\n",
       "        vertical-align: top;\n",
       "    }\n",
       "</style>\n",
       "<table border=\"1\" class=\"dataframe\">\n",
       "  <thead>\n",
       "    <tr style=\"text-align: right;\">\n",
       "      <th></th>\n",
       "      <th>QUOTEREFEVA_QUOTE_ID</th>\n",
       "      <th>QUOTEREFEVA_ORD_ROW_ID</th>\n",
       "      <th>QUOTEREFEVA_CONTACT</th>\n",
       "    </tr>\n",
       "  </thead>\n",
       "  <tbody>\n",
       "    <tr>\n",
       "      <th>0</th>\n",
       "      <td>1-L27IBQB</td>\n",
       "      <td>1-L27ICAM</td>\n",
       "      <td>XNCGCKHWCU XNCGCKHWCU</td>\n",
       "    </tr>\n",
       "    <tr>\n",
       "      <th>1</th>\n",
       "      <td>1-L27IBQZ</td>\n",
       "      <td>1-L27ICB0</td>\n",
       "      <td>VEXXRVRSML VEXXRVRSML</td>\n",
       "    </tr>\n",
       "    <tr>\n",
       "      <th>2</th>\n",
       "      <td>1-LGZIJIG</td>\n",
       "      <td>1-LGZILOT</td>\n",
       "      <td>SUYFANDERY SUYFANDERY</td>\n",
       "    </tr>\n",
       "  </tbody>\n",
       "</table>\n",
       "</div>"
      ],
      "text/plain": [
       "  QUOTEREFEVA_QUOTE_ID QUOTEREFEVA_ORD_ROW_ID    QUOTEREFEVA_CONTACT\n",
       "0            1-L27IBQB              1-L27ICAM  XNCGCKHWCU XNCGCKHWCU\n",
       "1            1-L27IBQZ              1-L27ICB0  VEXXRVRSML VEXXRVRSML\n",
       "2            1-LGZIJIG              1-LGZILOT  SUYFANDERY SUYFANDERY"
      ]
     },
     "execution_count": 75,
     "metadata": {},
     "output_type": "execute_result"
    }
   ],
   "source": [
    "query_S_CONTACT_QUOTE_REFER_CON = (\"SELECT QUOTE.ROW_ID QUOTEREFEVA_QUOTE_ID, ORD.ROW_ID QUOTEREFEVA_ORD_ROW_ID, REF_CONTACT.FST_NAME + ' ' + REF_CONTACT.LAST_NAME QUOTEREFEVA_CONTACT FROM S_DOC_QUOTE QUOTE INNER JOIN S_CONTACT REF_CONTACT ON REF_CONTACT.ROW_ID = QUOTE.X_REF_CON_ID INNER JOIN S_ORDER ORD ON ORD.QUOTE_ID = QUOTE.ROW_ID WHERE %s\" %(order_dt_filter))\n",
    "\n",
    "df_S_CONTACT_QUOTE_REFER_CON = pd.read_sql(query_S_CONTACT_QUOTE_REFER_CON, cnxn)\n",
    "df_S_CONTACT_QUOTE_REFER_CON.head(3)"
   ]
  },
  {
   "cell_type": "code",
   "execution_count": 76,
   "metadata": {},
   "outputs": [
    {
     "data": {
      "text/plain": [
       "QUOTEREFEVA_QUOTE_ID      53\n",
       "QUOTEREFEVA_ORD_ROW_ID    53\n",
       "QUOTEREFEVA_CONTACT       53\n",
       "dtype: int64"
      ]
     },
     "execution_count": 76,
     "metadata": {},
     "output_type": "execute_result"
    }
   ],
   "source": [
    "df_S_CONTACT_QUOTE_REFER_CON.count()"
   ]
  },
  {
   "cell_type": "markdown",
   "metadata": {},
   "source": [
    "## S_CONTACT - Quote Evanglist Contact QUOTEEVACON"
   ]
  },
  {
   "cell_type": "code",
   "execution_count": 77,
   "metadata": {},
   "outputs": [
    {
     "data": {
      "text/html": [
       "<div>\n",
       "<style>\n",
       "    .dataframe thead tr:only-child th {\n",
       "        text-align: right;\n",
       "    }\n",
       "\n",
       "    .dataframe thead th {\n",
       "        text-align: left;\n",
       "    }\n",
       "\n",
       "    .dataframe tbody tr th {\n",
       "        vertical-align: top;\n",
       "    }\n",
       "</style>\n",
       "<table border=\"1\" class=\"dataframe\">\n",
       "  <thead>\n",
       "    <tr style=\"text-align: right;\">\n",
       "      <th></th>\n",
       "      <th>QUOTEEVACON_QUOTE_ID</th>\n",
       "      <th>QUOTEEVACON_ORD_ROW_ID</th>\n",
       "      <th>QUOTEEVACON_NAME</th>\n",
       "      <th>QUOTEEVACON_POSTN</th>\n",
       "      <th>QUOTEEVACON_TEAM</th>\n",
       "    </tr>\n",
       "  </thead>\n",
       "  <tbody>\n",
       "    <tr>\n",
       "      <th>0</th>\n",
       "      <td>1-L9QHNPC</td>\n",
       "      <td>1-L9QHOIQ</td>\n",
       "      <td>UATAD ADSCH7</td>\n",
       "      <td>AU AD Accountants Resourcing TM1</td>\n",
       "      <td>None</td>\n",
       "    </tr>\n",
       "    <tr>\n",
       "      <th>1</th>\n",
       "      <td>1-LALWY8Q</td>\n",
       "      <td>1-LALWYUW</td>\n",
       "      <td>UATAD ADSCH7</td>\n",
       "      <td>AU AD Accountants Resourcing TM1</td>\n",
       "      <td>None</td>\n",
       "    </tr>\n",
       "    <tr>\n",
       "      <th>2</th>\n",
       "      <td>1-LBHCCRE</td>\n",
       "      <td>1-LBHCH86</td>\n",
       "      <td>UATAD ADSCH7</td>\n",
       "      <td>AU AD Accountants Resourcing TM1</td>\n",
       "      <td>None</td>\n",
       "    </tr>\n",
       "  </tbody>\n",
       "</table>\n",
       "</div>"
      ],
      "text/plain": [
       "  QUOTEEVACON_QUOTE_ID QUOTEEVACON_ORD_ROW_ID QUOTEEVACON_NAME  \\\n",
       "0            1-L9QHNPC              1-L9QHOIQ     UATAD ADSCH7   \n",
       "1            1-LALWY8Q              1-LALWYUW     UATAD ADSCH7   \n",
       "2            1-LBHCCRE              1-LBHCH86     UATAD ADSCH7   \n",
       "\n",
       "                  QUOTEEVACON_POSTN QUOTEEVACON_TEAM  \n",
       "0  AU AD Accountants Resourcing TM1             None  \n",
       "1  AU AD Accountants Resourcing TM1             None  \n",
       "2  AU AD Accountants Resourcing TM1             None  "
      ]
     },
     "execution_count": 77,
     "metadata": {},
     "output_type": "execute_result"
    }
   ],
   "source": [
    "query_S_CONTACT_QUOTE_EVAN_CON = (\"SELECT QUOTE.ROW_ID QUOTEEVACON_QUOTE_ID, ORD.ROW_ID QUOTEEVACON_ORD_ROW_ID, QUOTE_EVANG_CON.FST_NAME + ' ' + QUOTE_EVANG_CON.LAST_NAME AS QUOTEEVACON_NAME, QUOTE_EVANG_CON_POSTN.NAME AS QUOTEEVACON_POSTN, QUOTE_EVANG_TEAM.NAME AS QUOTEEVACON_TEAM FROM S_DOC_QUOTE QUOTE INNER JOIN S_CONTACT QUOTE_EVANG_CON ON QUOTE_EVANG_CON.ROW_ID = QUOTE.X_PROD_EVNGLIST_ID left outer join S_POSTN QUOTE_EVANG_CON_POSTN ON QUOTE_EVANG_CON.PR_HELD_POSTN_ID = QUOTE_EVANG_CON_POSTN.ROW_ID LEFT OUTER JOIN S_PARTY QUOTE_EVANG_TEAM ON QUOTE_EVANG_CON_POSTN.OU_ID = QUOTE_EVANG_TEAM.PARTY_UID INNER JOIN S_ORDER ORD ON ORD.QUOTE_ID = QUOTE.ROW_ID WHERE %s\" %(order_dt_filter))\n",
    "\n",
    "df_S_CONTACT_QUOTE_EVAN_CON = pd.read_sql(query_S_CONTACT_QUOTE_EVAN_CON, cnxn)\n",
    "df_S_CONTACT_QUOTE_EVAN_CON.head(3)"
   ]
  },
  {
   "cell_type": "code",
   "execution_count": 78,
   "metadata": {},
   "outputs": [
    {
     "data": {
      "text/plain": [
       "QUOTEREFEVA_QUOTE_ID      53\n",
       "QUOTEREFEVA_ORD_ROW_ID    53\n",
       "QUOTEREFEVA_CONTACT       53\n",
       "dtype: int64"
      ]
     },
     "execution_count": 78,
     "metadata": {},
     "output_type": "execute_result"
    }
   ],
   "source": [
    "df_S_CONTACT_QUOTE_REFER_CON.count()"
   ]
  },
  {
   "cell_type": "markdown",
   "metadata": {},
   "source": [
    "## ORDER REF ACCOUNT; AND EVANGELIST ORDREFACCEVA"
   ]
  },
  {
   "cell_type": "code",
   "execution_count": 79,
   "metadata": {},
   "outputs": [
    {
     "data": {
      "text/html": [
       "<div>\n",
       "<style>\n",
       "    .dataframe thead tr:only-child th {\n",
       "        text-align: right;\n",
       "    }\n",
       "\n",
       "    .dataframe thead th {\n",
       "        text-align: left;\n",
       "    }\n",
       "\n",
       "    .dataframe tbody tr th {\n",
       "        vertical-align: top;\n",
       "    }\n",
       "</style>\n",
       "<table border=\"1\" class=\"dataframe\">\n",
       "  <thead>\n",
       "    <tr style=\"text-align: right;\">\n",
       "      <th></th>\n",
       "      <th>ORDREFACCEVA_ORD_ROW_ID</th>\n",
       "      <th>ORDREFACCEVA_REF_ACCT_ID</th>\n",
       "      <th>ORDREFACCEVA_REF_EVANGELIST</th>\n",
       "      <th>ORDREFACCEVA_CON_NAME</th>\n",
       "      <th>ORDREFACCEVA_POSTN</th>\n",
       "      <th>ORDREFACCEVA_TEAM</th>\n",
       "    </tr>\n",
       "  </thead>\n",
       "  <tbody>\n",
       "    <tr>\n",
       "      <th>0</th>\n",
       "      <td>1-KWQQHNB</td>\n",
       "      <td>1-6QMJ2QL</td>\n",
       "      <td>None</td>\n",
       "      <td>None</td>\n",
       "      <td>None</td>\n",
       "      <td>None</td>\n",
       "    </tr>\n",
       "    <tr>\n",
       "      <th>1</th>\n",
       "      <td>1-LHVQGX1</td>\n",
       "      <td>1-6QMJ2QL</td>\n",
       "      <td>None</td>\n",
       "      <td>None</td>\n",
       "      <td>None</td>\n",
       "      <td>None</td>\n",
       "    </tr>\n",
       "    <tr>\n",
       "      <th>2</th>\n",
       "      <td>1-L4YC5IL</td>\n",
       "      <td>1-906BRQM</td>\n",
       "      <td>None</td>\n",
       "      <td>None</td>\n",
       "      <td>None</td>\n",
       "      <td>None</td>\n",
       "    </tr>\n",
       "  </tbody>\n",
       "</table>\n",
       "</div>"
      ],
      "text/plain": [
       "  ORDREFACCEVA_ORD_ROW_ID ORDREFACCEVA_REF_ACCT_ID  \\\n",
       "0               1-KWQQHNB                1-6QMJ2QL   \n",
       "1               1-LHVQGX1                1-6QMJ2QL   \n",
       "2               1-L4YC5IL                1-906BRQM   \n",
       "\n",
       "  ORDREFACCEVA_REF_EVANGELIST ORDREFACCEVA_CON_NAME ORDREFACCEVA_POSTN  \\\n",
       "0                        None                  None               None   \n",
       "1                        None                  None               None   \n",
       "2                        None                  None               None   \n",
       "\n",
       "  ORDREFACCEVA_TEAM  \n",
       "0              None  \n",
       "1              None  \n",
       "2              None  "
      ]
     },
     "execution_count": 79,
     "metadata": {},
     "output_type": "execute_result"
    }
   ],
   "source": [
    "query_S_ORG_EXT_ORDER_REF_ACCNT_EVAN = (\"SELECT ORD.ROW_ID ORDREFACCEVA_ORD_ROW_ID,ORD.X_REF_ACCT_ID ORDREFACCEVA_REF_ACCT_ID,REF_EVANG.LOGIN AS ORDREFACCEVA_REF_EVANGELIST, REFACCOUNT_EVANG_CON.FST_NAME + ' ' + REFACCOUNT_EVANG_CON.LAST_NAME AS ORDREFACCEVA_CON_NAME,REFACCOUNT_EVANG_CON_POSTN.NAME AS ORDREFACCEVA_POSTN,REFACCOUNT_EVANG_TEAM.NAME AS ORDREFACCEVA_TEAM FROM S_ORDER ORD INNER JOIN S_ORG_EXT ORDREF ON ORD.X_REF_ACCT_ID = ORDREF.ROW_ID left outer join S_USER REF_EVANG ON ORDREF.X_PROD_EVNGLIST_ID = REF_EVANG.ROW_ID left outer join S_CONTACT REFACCOUNT_EVANG_CON ON ORDREF.X_PROD_EVNGLIST_ID = REFACCOUNT_EVANG_CON.ROW_ID left outer join S_POSTN REFACCOUNT_EVANG_CON_POSTN ON REFACCOUNT_EVANG_CON_POSTN.ROW_ID = REFACCOUNT_EVANG_CON.PR_HELD_POSTN_ID LEFT OUTER JOIN S_PARTY REFACCOUNT_EVANG_TEAM ON REFACCOUNT_EVANG_CON_POSTN.OU_ID = REFACCOUNT_EVANG_TEAM.PARTY_UID WHERE %s\" %(order_dt_filter))\n",
    "\n",
    "df_S_ORG_EXT_ORDER_REF_ACCNT_EVAN = pd.read_sql(query_S_ORG_EXT_ORDER_REF_ACCNT_EVAN, cnxn)\n",
    "df_S_ORG_EXT_ORDER_REF_ACCNT_EVAN.head(3)"
   ]
  },
  {
   "cell_type": "code",
   "execution_count": 80,
   "metadata": {},
   "outputs": [
    {
     "data": {
      "text/plain": [
       "ORDREFACCEVA_ORD_ROW_ID        154\n",
       "ORDREFACCEVA_REF_ACCT_ID       154\n",
       "ORDREFACCEVA_REF_EVANGELIST     82\n",
       "ORDREFACCEVA_CON_NAME           82\n",
       "ORDREFACCEVA_POSTN              82\n",
       "ORDREFACCEVA_TEAM               48\n",
       "dtype: int64"
      ]
     },
     "execution_count": 80,
     "metadata": {},
     "output_type": "execute_result"
    }
   ],
   "source": [
    "df_S_ORG_EXT_ORDER_REF_ACCNT_EVAN.count()"
   ]
  },
  {
   "cell_type": "markdown",
   "metadata": {},
   "source": [
    "## AGREEMENT REF ACCOUNT ; AND EVANGELIST  AGRREFACC\n",
    "1. Get the order header using the ORDER_ID in Agreement header table. Restrict the order by the order date.\n",
    "\n",
    "#To filter not nulls\n",
    "df_S_ORG_EXT_AGREE_REF_ACCNT_EVAN = df_S_ORG_EXT_AGREE_REF_ACCNT_EVAN.loc[(df_S_ORG_EXT_AGREE_REF_ACCNT_EVAN['AGREEREF_CLIENT_ID'].notnull())]\n",
    "\n",
    "#To filter nulls\n",
    "df_S_ORG_EXT_AGREE_REF_ACCNT_EVAN = df_S_ORG_EXT_AGREE_REF_ACCNT_EVAN.loc[(df_S_ORG_EXT_AGREE_REF_ACCNT_EVAN['AGREEREF_CLIENT_ID'].isnull())]\n",
    "\n",
    "#NEED DISTINCT to stop duplicates when a single order creates 2 seperate agreements."
   ]
  },
  {
   "cell_type": "code",
   "execution_count": 118,
   "metadata": {},
   "outputs": [
    {
     "data": {
      "text/html": [
       "<div>\n",
       "<style>\n",
       "    .dataframe thead tr:only-child th {\n",
       "        text-align: right;\n",
       "    }\n",
       "\n",
       "    .dataframe thead th {\n",
       "        text-align: left;\n",
       "    }\n",
       "\n",
       "    .dataframe tbody tr th {\n",
       "        vertical-align: top;\n",
       "    }\n",
       "</style>\n",
       "<table border=\"1\" class=\"dataframe\">\n",
       "  <thead>\n",
       "    <tr style=\"text-align: right;\">\n",
       "      <th></th>\n",
       "      <th>AGRREFACC_ORD_ROW_ID</th>\n",
       "      <th>AGRREFACC_CLIENT_ID</th>\n",
       "      <th>AGRREFACC_NAME</th>\n",
       "      <th>AGRREFACC_DIVISION</th>\n",
       "      <th>AGRREFACC_SEGMENT</th>\n",
       "      <th>AGRREFACC_CON_NAME</th>\n",
       "      <th>AGRREFACC_EVANGELIST</th>\n",
       "      <th>AGRREFACC_POS</th>\n",
       "      <th>AGRREFACC_TEAM_NAME</th>\n",
       "    </tr>\n",
       "  </thead>\n",
       "  <tbody>\n",
       "    <tr>\n",
       "      <th>0</th>\n",
       "      <td>1-KP1SS9G</td>\n",
       "      <td>None</td>\n",
       "      <td>None</td>\n",
       "      <td>None</td>\n",
       "      <td>None</td>\n",
       "      <td>None</td>\n",
       "      <td>None</td>\n",
       "      <td>None</td>\n",
       "      <td>None</td>\n",
       "    </tr>\n",
       "    <tr>\n",
       "      <th>1</th>\n",
       "      <td>1-KP1W521</td>\n",
       "      <td>None</td>\n",
       "      <td>None</td>\n",
       "      <td>None</td>\n",
       "      <td>None</td>\n",
       "      <td>None</td>\n",
       "      <td>None</td>\n",
       "      <td>None</td>\n",
       "      <td>None</td>\n",
       "    </tr>\n",
       "    <tr>\n",
       "      <th>2</th>\n",
       "      <td>1-KP2M81D</td>\n",
       "      <td>None</td>\n",
       "      <td>None</td>\n",
       "      <td>None</td>\n",
       "      <td>None</td>\n",
       "      <td>None</td>\n",
       "      <td>None</td>\n",
       "      <td>None</td>\n",
       "      <td>None</td>\n",
       "    </tr>\n",
       "  </tbody>\n",
       "</table>\n",
       "</div>"
      ],
      "text/plain": [
       "  AGRREFACC_ORD_ROW_ID AGRREFACC_CLIENT_ID AGRREFACC_NAME AGRREFACC_DIVISION  \\\n",
       "0            1-KP1SS9G                None           None               None   \n",
       "1            1-KP1W521                None           None               None   \n",
       "2            1-KP2M81D                None           None               None   \n",
       "\n",
       "  AGRREFACC_SEGMENT AGRREFACC_CON_NAME AGRREFACC_EVANGELIST AGRREFACC_POS  \\\n",
       "0              None               None                 None          None   \n",
       "1              None               None                 None          None   \n",
       "2              None               None                 None          None   \n",
       "\n",
       "  AGRREFACC_TEAM_NAME  \n",
       "0                None  \n",
       "1                None  \n",
       "2                None  "
      ]
     },
     "execution_count": 118,
     "metadata": {},
     "output_type": "execute_result"
    }
   ],
   "source": [
    "query_S_ORG_EXT_AGREE_REF_ACCNT_EVAN = (\"SELECT DISTINCT ORD.ROW_ID AGRREFACC_ORD_ROW_ID,AGREEREF.INTEGRATION_ID AGRREFACC_CLIENT_ID ,AGREEREF.NAME AGRREFACC_NAME,AGREEREF.X_DIVISION AGRREFACC_DIVISION,AGREEREF.X_SEGMENT AGRREFACC_SEGMENT,AGREE_EVANG_CON.FST_NAME + ' ' + AGREE_EVANG_CON.LAST_NAME AGRREFACC_CON_NAME,AGREE_EVANG.LOGIN AGRREFACC_EVANGELIST,AGREE_EVANG_CON_POS.NAME AGRREFACC_POS,TEAM_AGREE_EVANG.NAME AGRREFACC_TEAM_NAME FROM S_ORDER ORD INNER JOIN S_DOC_AGREE AGR ON AGR.ORDER_ID = ORD.ROW_ID left outer join S_ORG_EXT AGREEREF ON AGR.X_REF_ACCT_ID = AGREEREF.ROW_ID left outer join S_USER AGREE_EVANG ON AGREEREF.X_PROD_EVNGLIST_ID = AGREE_EVANG.ROW_ID left outer join S_CONTACT AGREE_EVANG_CON ON AGREEREF.X_PROD_EVNGLIST_ID = AGREE_EVANG_CON.ROW_ID left outer join S_POSTN AGREE_EVANG_CON_POS ON AGREE_EVANG_CON.PR_HELD_POSTN_ID = AGREE_EVANG_CON_POS.ROW_ID LEFT OUTER JOIN S_PARTY TEAM_AGREE_EVANG ON AGREE_EVANG_CON_POS.OU_ID = TEAM_AGREE_EVANG.PARTY_UID WHERE %s\" %(order_dt_filter))\n",
    "\n",
    "df_S_ORG_EXT_AGREE_REF_ACCNT_EVAN = pd.read_sql(query_S_ORG_EXT_AGREE_REF_ACCNT_EVAN, cnxn)\n",
    "df_S_ORG_EXT_AGREE_REF_ACCNT_EVAN.head(3)"
   ]
  },
  {
   "cell_type": "code",
   "execution_count": 119,
   "metadata": {},
   "outputs": [
    {
     "data": {
      "text/plain": [
       "AGRREFACC_ORD_ROW_ID    3016\n",
       "AGRREFACC_CLIENT_ID      107\n",
       "AGRREFACC_NAME           107\n",
       "AGRREFACC_DIVISION       107\n",
       "AGRREFACC_SEGMENT        107\n",
       "AGRREFACC_CON_NAME        47\n",
       "AGRREFACC_EVANGELIST      47\n",
       "AGRREFACC_POS             47\n",
       "AGRREFACC_TEAM_NAME       47\n",
       "dtype: int64"
      ]
     },
     "execution_count": 119,
     "metadata": {},
     "output_type": "execute_result"
    }
   ],
   "source": [
    "df_S_ORG_EXT_AGREE_REF_ACCNT_EVAN.count()"
   ]
  },
  {
   "cell_type": "markdown",
   "metadata": {},
   "source": [
    "## Primary Agreement Flag PRIAGRFLG"
   ]
  },
  {
   "cell_type": "code",
   "execution_count": 83,
   "metadata": {},
   "outputs": [
    {
     "data": {
      "text/html": [
       "<div>\n",
       "<style>\n",
       "    .dataframe thead tr:only-child th {\n",
       "        text-align: right;\n",
       "    }\n",
       "\n",
       "    .dataframe thead th {\n",
       "        text-align: left;\n",
       "    }\n",
       "\n",
       "    .dataframe tbody tr th {\n",
       "        vertical-align: top;\n",
       "    }\n",
       "</style>\n",
       "<table border=\"1\" class=\"dataframe\">\n",
       "  <thead>\n",
       "    <tr style=\"text-align: right;\">\n",
       "      <th></th>\n",
       "      <th>PRIAGRFLG_ORD_ROW_ID</th>\n",
       "      <th>PRIAGRFLG_AGREE_ORDER_ID</th>\n",
       "      <th>PRIAGRFLG_ORDITM_ID</th>\n",
       "      <th>PRIAGRFLG_AGREE_ITEM_ID</th>\n",
       "    </tr>\n",
       "  </thead>\n",
       "  <tbody>\n",
       "    <tr>\n",
       "      <th>0</th>\n",
       "      <td>1-KP1SS9G</td>\n",
       "      <td>1-KP1SS9G</td>\n",
       "      <td>1-KP1SS9J</td>\n",
       "      <td>1-KP1TOF1</td>\n",
       "    </tr>\n",
       "    <tr>\n",
       "      <th>1</th>\n",
       "      <td>1-KP1SS9G</td>\n",
       "      <td>1-KP1SS9G</td>\n",
       "      <td>1-KP1T104</td>\n",
       "      <td>1-KP1U29X</td>\n",
       "    </tr>\n",
       "    <tr>\n",
       "      <th>2</th>\n",
       "      <td>1-KP1W521</td>\n",
       "      <td>1-KP1W521</td>\n",
       "      <td>1-KP1W524</td>\n",
       "      <td>1-KP1WJW9</td>\n",
       "    </tr>\n",
       "  </tbody>\n",
       "</table>\n",
       "</div>"
      ],
      "text/plain": [
       "  PRIAGRFLG_ORD_ROW_ID PRIAGRFLG_AGREE_ORDER_ID PRIAGRFLG_ORDITM_ID  \\\n",
       "0            1-KP1SS9G                1-KP1SS9G           1-KP1SS9J   \n",
       "1            1-KP1SS9G                1-KP1SS9G           1-KP1T104   \n",
       "2            1-KP1W521                1-KP1W521           1-KP1W524   \n",
       "\n",
       "  PRIAGRFLG_AGREE_ITEM_ID  \n",
       "0               1-KP1TOF1  \n",
       "1               1-KP1U29X  \n",
       "2               1-KP1WJW9  "
      ]
     },
     "execution_count": 83,
     "metadata": {},
     "output_type": "execute_result"
    }
   ],
   "source": [
    "query_S_DOC_AGREE_PRI_AGREE_FLG = (\"SELECT ORD.ROW_ID PRIAGRFLG_ORD_ROW_ID, AGREE.ORDER_ID PRIAGRFLG_AGREE_ORDER_ID, AGREE_ITEM.X_ORDER_ITEM_ID PRIAGRFLG_ORDITM_ID, AGREE_ITEM.ROW_ID PRIAGRFLG_AGREE_ITEM_ID FROM S_AGREE_ITEM AGREE_ITEM LEFT OUTER JOIN S_DOC_AGREE AGREE ON AGREE.ROW_ID = AGREE_ITEM.DOC_AGREE_ID LEFT OUTER JOIN S_ORDER_ITEM ORDITEM ON ORDITEM.ROW_ID = AGREE_ITEM.X_ORDER_ITEM_ID INNER JOIN S_ORDER ORD ON ORDITEM.ORDER_ID = ORD.ROW_ID AND ORD.ROW_ID = AGREE.ORDER_ID WHERE %s\" %(order_dt_filter))\n",
    "\n",
    "df_S_DOC_AGREE_PRI_AGREE_FLG = pd.read_sql(query_S_DOC_AGREE_PRI_AGREE_FLG, cnxn)\n",
    "df_S_DOC_AGREE_PRI_AGREE_FLG.head(3)"
   ]
  },
  {
   "cell_type": "code",
   "execution_count": 84,
   "metadata": {},
   "outputs": [
    {
     "data": {
      "text/plain": [
       "PRIAGRFLG_ORD_ROW_ID        5073\n",
       "PRIAGRFLG_AGREE_ORDER_ID    5073\n",
       "PRIAGRFLG_ORDITM_ID         5073\n",
       "PRIAGRFLG_AGREE_ITEM_ID     5073\n",
       "dtype: int64"
      ]
     },
     "execution_count": 84,
     "metadata": {},
     "output_type": "execute_result"
    }
   ],
   "source": [
    "df_S_DOC_AGREE_PRI_AGREE_FLG.count()"
   ]
  },
  {
   "cell_type": "markdown",
   "metadata": {},
   "source": [
    "## joining the tables together\n",
    "##295"
   ]
  },
  {
   "cell_type": "code",
   "execution_count": 124,
   "metadata": {},
   "outputs": [
    {
     "data": {
      "text/html": [
       "<div>\n",
       "<style>\n",
       "    .dataframe thead tr:only-child th {\n",
       "        text-align: right;\n",
       "    }\n",
       "\n",
       "    .dataframe thead th {\n",
       "        text-align: left;\n",
       "    }\n",
       "\n",
       "    .dataframe tbody tr th {\n",
       "        vertical-align: top;\n",
       "    }\n",
       "</style>\n",
       "<table border=\"1\" class=\"dataframe\">\n",
       "  <thead>\n",
       "    <tr style=\"text-align: right;\">\n",
       "      <th></th>\n",
       "      <th>ORDITM_ROW_ID</th>\n",
       "      <th>ORDITM_ADJ_UNIT_PRI</th>\n",
       "      <th>ORDITM_NET_PRI</th>\n",
       "      <th>ORDITM_ASSET_ID</th>\n",
       "      <th>ORDITM_ORDER_ID</th>\n",
       "      <th>ORDITM_PAR_ORDER_ITEM_ID</th>\n",
       "      <th>ORDITM_PROD_ID</th>\n",
       "      <th>ORDITM_PROMOTION_ID</th>\n",
       "      <th>ORDITM_OWNER_ACCOUNT_ID</th>\n",
       "      <th>ORDITM_QTY_REQ</th>\n",
       "      <th>...</th>\n",
       "      <th>AGRREFACC_DIVISION</th>\n",
       "      <th>AGRREFACC_SEGMENT</th>\n",
       "      <th>AGRREFACC_CON_NAME</th>\n",
       "      <th>AGRREFACC_EVANGELIST</th>\n",
       "      <th>AGRREFACC_POS</th>\n",
       "      <th>AGRREFACC_TEAM_NAME</th>\n",
       "      <th>PRIAGRFLG_ORD_ROW_ID</th>\n",
       "      <th>PRIAGRFLG_AGREE_ORDER_ID</th>\n",
       "      <th>PRIAGRFLG_ORDITM_ID</th>\n",
       "      <th>PRIAGRFLG_AGREE_ITEM_ID</th>\n",
       "    </tr>\n",
       "  </thead>\n",
       "  <tbody>\n",
       "    <tr>\n",
       "      <th>0</th>\n",
       "      <td>1-KP1ZHAD</td>\n",
       "      <td>120.000</td>\n",
       "      <td>120.000</td>\n",
       "      <td>None</td>\n",
       "      <td>1-KP1ZHAB</td>\n",
       "      <td>None</td>\n",
       "      <td>1-KP1WPJZ</td>\n",
       "      <td>None</td>\n",
       "      <td>1-KP1YMMI</td>\n",
       "      <td>1.0</td>\n",
       "      <td>...</td>\n",
       "      <td>NaN</td>\n",
       "      <td>NaN</td>\n",
       "      <td>NaN</td>\n",
       "      <td>NaN</td>\n",
       "      <td>NaN</td>\n",
       "      <td>NaN</td>\n",
       "      <td>NaN</td>\n",
       "      <td>NaN</td>\n",
       "      <td>NaN</td>\n",
       "      <td>NaN</td>\n",
       "    </tr>\n",
       "    <tr>\n",
       "      <th>1</th>\n",
       "      <td>1-KP31TLS</td>\n",
       "      <td>0.000</td>\n",
       "      <td>0.000</td>\n",
       "      <td>1-KP31BFT</td>\n",
       "      <td>1-KP31TLQ</td>\n",
       "      <td>None</td>\n",
       "      <td>1-11XL7K5</td>\n",
       "      <td>None</td>\n",
       "      <td>1-KP30OAA</td>\n",
       "      <td>1.0</td>\n",
       "      <td>...</td>\n",
       "      <td>None</td>\n",
       "      <td>None</td>\n",
       "      <td>None</td>\n",
       "      <td>None</td>\n",
       "      <td>None</td>\n",
       "      <td>None</td>\n",
       "      <td>NaN</td>\n",
       "      <td>NaN</td>\n",
       "      <td>NaN</td>\n",
       "      <td>NaN</td>\n",
       "    </tr>\n",
       "    <tr>\n",
       "      <th>2</th>\n",
       "      <td>1-KP31TLT</td>\n",
       "      <td>90.909</td>\n",
       "      <td>90.909</td>\n",
       "      <td>None</td>\n",
       "      <td>1-KP31TLQ</td>\n",
       "      <td>1-KP31TLS</td>\n",
       "      <td>1-11XL76S</td>\n",
       "      <td>None</td>\n",
       "      <td>1-KP30OAA</td>\n",
       "      <td>1.0</td>\n",
       "      <td>...</td>\n",
       "      <td>None</td>\n",
       "      <td>None</td>\n",
       "      <td>None</td>\n",
       "      <td>None</td>\n",
       "      <td>None</td>\n",
       "      <td>None</td>\n",
       "      <td>1-KP31TLQ</td>\n",
       "      <td>1-KP31TLQ</td>\n",
       "      <td>1-KP31TLT</td>\n",
       "      <td>1-KP329ST</td>\n",
       "    </tr>\n",
       "  </tbody>\n",
       "</table>\n",
       "<p>3 rows × 153 columns</p>\n",
       "</div>"
      ],
      "text/plain": [
       "  ORDITM_ROW_ID  ORDITM_ADJ_UNIT_PRI  ORDITM_NET_PRI ORDITM_ASSET_ID  \\\n",
       "0     1-KP1ZHAD              120.000         120.000            None   \n",
       "1     1-KP31TLS                0.000           0.000       1-KP31BFT   \n",
       "2     1-KP31TLT               90.909          90.909            None   \n",
       "\n",
       "  ORDITM_ORDER_ID ORDITM_PAR_ORDER_ITEM_ID ORDITM_PROD_ID ORDITM_PROMOTION_ID  \\\n",
       "0       1-KP1ZHAB                     None      1-KP1WPJZ                None   \n",
       "1       1-KP31TLQ                     None      1-11XL7K5                None   \n",
       "2       1-KP31TLQ                1-KP31TLS      1-11XL76S                None   \n",
       "\n",
       "  ORDITM_OWNER_ACCOUNT_ID  ORDITM_QTY_REQ           ...            \\\n",
       "0               1-KP1YMMI             1.0           ...             \n",
       "1               1-KP30OAA             1.0           ...             \n",
       "2               1-KP30OAA             1.0           ...             \n",
       "\n",
       "  AGRREFACC_DIVISION AGRREFACC_SEGMENT AGRREFACC_CON_NAME  \\\n",
       "0                NaN               NaN                NaN   \n",
       "1               None              None               None   \n",
       "2               None              None               None   \n",
       "\n",
       "  AGRREFACC_EVANGELIST AGRREFACC_POS AGRREFACC_TEAM_NAME PRIAGRFLG_ORD_ROW_ID  \\\n",
       "0                  NaN           NaN                 NaN                  NaN   \n",
       "1                 None          None                None                  NaN   \n",
       "2                 None          None                None            1-KP31TLQ   \n",
       "\n",
       "  PRIAGRFLG_AGREE_ORDER_ID PRIAGRFLG_ORDITM_ID PRIAGRFLG_AGREE_ITEM_ID  \n",
       "0                      NaN                 NaN                     NaN  \n",
       "1                      NaN                 NaN                     NaN  \n",
       "2                1-KP31TLQ           1-KP31TLT               1-KP329ST  \n",
       "\n",
       "[3 rows x 153 columns]"
      ]
     },
     "execution_count": 124,
     "metadata": {},
     "output_type": "execute_result"
    }
   ],
   "source": [
    "df_SALES_MONITOR = pd.merge(df_S_ORDER_ITEM, df_S_ASSET, left_on = 'ORDITM_ROW_ID', right_on ='ORDITMASSET_ORDITEM_ID', how = 'left')\n",
    "df_SALES_MONITOR = pd.merge(df_SALES_MONITOR, df_S_ORDER, left_on = 'ORDITM_ORDER_ID', right_on ='ORD_ORDER_ID', how = 'left')\n",
    "df_SALES_MONITOR = pd.merge(df_SALES_MONITOR, df_S_ORDER_TYPE, left_on = 'ORDITM_ORDER_ID', right_on ='ORDTYPE_ORDER_ID', how = 'left')\n",
    "df_SALES_MONITOR = pd.merge(df_SALES_MONITOR, df_S_PROD_INT, left_on = 'ORDITM_PROD_ID', right_on ='PROD_ID', how = 'left')\n",
    "df_SALES_MONITOR = pd.merge(df_SALES_MONITOR, df_S_PROD_LN, left_on = 'PROD_LN_ID', right_on ='PRODLN_ROW_ID', how = 'left')\n",
    "df_SALES_MONITOR = pd.merge(df_SALES_MONITOR, df_S_ORDER_ITEM_PAR_ITEM, left_on = 'ORDITM_ROW_ID', right_on ='PARORDITM_ORDITEM_ROW_ID', how = 'left')\n",
    "df_SALES_MONITOR = pd.merge(df_SALES_MONITOR, df_S_INVOICE_ITEM, left_on = 'ORDITM_ROW_ID', right_on ='ORDITMINV_ORDITEM_ROW_ID', how = 'left')\n",
    "df_SALES_MONITOR = pd.merge(df_SALES_MONITOR, df_S_INVOICE, left_on = 'ORDITM_ROW_ID', right_on ='INV_ORDITEM_ROW_ID', how = 'left')\n",
    "df_SALES_MONITOR = pd.merge(df_SALES_MONITOR, df_S_PROD_INT_ORDITEM_PROMO, left_on = 'ORDITM_PROMOTION_ID', right_on ='ORDITMPPROD_PROD_ID', how = 'left')\n",
    "df_SALES_MONITOR = pd.merge(df_SALES_MONITOR, df_S_PROMO_ITEM, left_on = 'ORDITMPPROD_PROD_ID', right_on ='PROMO_ID', how = 'left')\n",
    "df_SALES_MONITOR = pd.merge(df_SALES_MONITOR, df_S_ORG_EXT_BILL, left_on = 'ORDITM_ORDER_ID', right_on ='BILLACC_ORD_ROW_ID', how = 'left')\n",
    "df_SALES_MONITOR = pd.merge(df_SALES_MONITOR, df_S_ORG_EXT_ORD_ACCNT, left_on = 'ORDITM_ORDER_ID', right_on ='ORDACC_ORDER_ID', how = 'left')\n",
    "df_SALES_MONITOR = pd.merge(df_SALES_MONITOR, df_S_ASSET_PAR_ORD_ITEM_ASSET, left_on = 'ORDITM_ROW_ID', right_on ='PARORDITMAST_ORDITEM_ROW_ID', how = 'left')\n",
    "df_SALES_MONITOR = pd.merge(df_SALES_MONITOR, df_S_ORG_EXT_LE, left_on = 'ORD_BU_ID', right_on ='LEGAL_ENTITY_ID', how = 'left')\n",
    "df_SALES_MONITOR = pd.merge(df_SALES_MONITOR, df_S_AGREE_ITEM_ORD_INITIAL_AGREE, left_on = 'ORDITM_ROW_ID', right_on ='AGRITMEVG_ITEM_ID', how = 'left')\n",
    "df_SALES_MONITOR = pd.merge(df_SALES_MONITOR, df_S_DOC_QUOTE, left_on = 'ORDITM_ORDER_ID', right_on ='QUOTE_ORD_ROW_ID', how = 'left')\n",
    "df_SALES_MONITOR = pd.merge(df_SALES_MONITOR, df_S_POSTN_ACCT_MGR, left_on = 'ORDITM_ORDER_ID', right_on ='ACCMGR_ORDER_ID', how = 'left')\n",
    "df_SALES_MONITOR = pd.merge(df_SALES_MONITOR, df_S_POSTN_QUOTE_SALES_REP, left_on = 'ORDITM_ORDER_ID', right_on ='QUOTEREP_ORD_ROW_ID', how = 'left')\n",
    "df_SALES_MONITOR = pd.merge(df_SALES_MONITOR, df_S_SRC_CAMPAIGN, left_on = 'ORDITM_ORDER_ID', right_on ='ORDCAMP_ORD_ROW_ID', how = 'left')\n",
    "df_SALES_MONITOR = pd.merge(df_SALES_MONITOR, df_S_PTY_PAY_PREF_PAY_PREF, left_on = 'ORDITM_ORDER_ID', right_on ='ORDPAYPREF_ORD_ROW_ID', how = 'left')\n",
    "df_SALES_MONITOR = pd.merge(df_SALES_MONITOR, df_S_USER_QUOTE_EVANG, left_on = 'ORDITM_ORDER_ID', right_on ='QUOTEEVN_ORD_ROW_ID', how = 'left')\n",
    "df_SALES_MONITOR = pd.merge(df_SALES_MONITOR, df_REGGIE_COVER_SERIALS, left_on = 'PARORDITMAST_ROW_ID', right_on ='REGG_SERIAL_NUM', how = 'left')\n",
    "df_SALES_MONITOR = pd.merge(df_SALES_MONITOR, df_S_CONTACT_Quote_Creater, left_on = 'ORDITM_ORDER_ID', right_on ='QUOTECTR_ORD_ROW_ID', how = 'left')\n",
    "df_SALES_MONITOR = pd.merge(df_SALES_MONITOR, df_S_POSTN_ORDER, left_on = 'ORDITM_ORDER_ID', right_on ='ORDPRPOS_ORD_ROW_ID', how = 'left')\n",
    "df_SALES_MONITOR = pd.merge(df_SALES_MONITOR, df_S_EVT_ACT_ORDER, left_on = 'ORDITM_ORDER_ID', right_on ='ORDCON_ORDER_ID', how = 'left')\n",
    "df_SALES_MONITOR = pd.merge(df_SALES_MONITOR, df_S_CONTACT_QUOTE_REFER_CON, left_on = 'ORDITM_ORDER_ID', right_on ='QUOTEREFEVA_ORD_ROW_ID', how = 'left')\n",
    "df_SALES_MONITOR = pd.merge(df_SALES_MONITOR, df_S_CONTACT_QUOTE_EVAN_CON, left_on = 'ORDITM_ORDER_ID', right_on ='QUOTEEVACON_ORD_ROW_ID', how = 'left')\n",
    "df_SALES_MONITOR = pd.merge(df_SALES_MONITOR, df_S_ORG_EXT_ORDER_REF_ACCNT_EVAN, left_on = 'ORDITM_ORDER_ID', right_on ='ORDREFACCEVA_ORD_ROW_ID', how = 'left')\n",
    "df_SALES_MONITOR = pd.merge(df_SALES_MONITOR, df_S_ORG_EXT_AGREE_REF_ACCNT_EVAN, left_on = 'ORDITM_ORDER_ID', right_on ='AGRREFACC_ORD_ROW_ID', how = 'left')\n",
    "df_SALES_MONITOR = pd.merge(df_SALES_MONITOR, df_S_DOC_AGREE_PRI_AGREE_FLG, left_on = ['ORDITM_ORDER_ID', 'ORDITM_ROW_ID'], right_on =['PRIAGRFLG_ORD_ROW_ID','PRIAGRFLG_ORDITM_ID'], how = 'left')\n",
    "df_SALES_MONITOR.head(3)"
   ]
  },
  {
   "cell_type": "code",
   "execution_count": 125,
   "metadata": {},
   "outputs": [
    {
     "data": {
      "text/plain": [
       "ORDITM_ROW_ID                  6820\n",
       "ORDITM_ADJ_UNIT_PRI            5746\n",
       "ORDITM_NET_PRI                 5804\n",
       "ORDITM_ASSET_ID                2140\n",
       "ORDITM_ORDER_ID                6820\n",
       "ORDITM_PAR_ORDER_ITEM_ID       4407\n",
       "ORDITM_PROD_ID                 6820\n",
       "ORDITM_PROMOTION_ID            1236\n",
       "ORDITM_OWNER_ACCOUNT_ID        6820\n",
       "ORDITM_QTY_REQ                 6820\n",
       "ORDITMASSET_ASSET_ROW_ID       2140\n",
       "ORDITMASSET_REG_DATE           2140\n",
       "ORDITMASSET_ORDITEM_ID         2140\n",
       "ORD_ORDER_ID                   6820\n",
       "ORD_BU_ID                      6820\n",
       "ORD_ORDER_TYPE_ID              6820\n",
       "ORD_BILL_ACCNT_ID              6820\n",
       "ORD_ACCNT_ID                   6820\n",
       "ORD_QUOTE_ID                   4513\n",
       "ORD_PROMO_ID                      0\n",
       "ORD_X_PAYMENT_PROFILE_ID       6566\n",
       "ORD_PR_POSTN_ID                6820\n",
       "ORD_ORDER_DT                   6820\n",
       "ORD_STATUS_CD                  6820\n",
       "ORDTYPE_ID                     6756\n",
       "ORDTYPE_NAME                   6756\n",
       "ORDTYPE_ORDER_ID               6756\n",
       "PROD_ID                        6820\n",
       "PROD_PRICE_TYPE                6820\n",
       "PROD_GL_POSTING_GRP            6820\n",
       "                               ... \n",
       "ORDPRPOS_TEAM                  6820\n",
       "ORDCON_ORDER_ID                   0\n",
       "ORDCON_TARGET_OU_ID               0\n",
       "QUOTEREFEVA_QUOTE_ID              6\n",
       "QUOTEREFEVA_ORD_ROW_ID            6\n",
       "QUOTEREFEVA_CONTACT               6\n",
       "QUOTEEVACON_QUOTE_ID              0\n",
       "QUOTEEVACON_ORD_ROW_ID            0\n",
       "QUOTEEVACON_NAME                  0\n",
       "QUOTEEVACON_POSTN                 0\n",
       "QUOTEEVACON_TEAM                  0\n",
       "ORDREFACCEVA_ORD_ROW_ID         103\n",
       "ORDREFACCEVA_REF_ACCT_ID        103\n",
       "ORDREFACCEVA_REF_EVANGELIST       0\n",
       "ORDREFACCEVA_CON_NAME             0\n",
       "ORDREFACCEVA_POSTN                0\n",
       "ORDREFACCEVA_TEAM                 0\n",
       "AGRREFACC_ORD_ROW_ID           6512\n",
       "AGRREFACC_CLIENT_ID             103\n",
       "AGRREFACC_NAME                  103\n",
       "AGRREFACC_DIVISION              103\n",
       "AGRREFACC_SEGMENT               103\n",
       "AGRREFACC_CON_NAME                0\n",
       "AGRREFACC_EVANGELIST              0\n",
       "AGRREFACC_POS                     0\n",
       "AGRREFACC_TEAM_NAME               0\n",
       "PRIAGRFLG_ORD_ROW_ID           3926\n",
       "PRIAGRFLG_AGREE_ORDER_ID       3926\n",
       "PRIAGRFLG_ORDITM_ID            3926\n",
       "PRIAGRFLG_AGREE_ITEM_ID        3926\n",
       "Length: 153, dtype: int64"
      ]
     },
     "execution_count": 125,
     "metadata": {},
     "output_type": "execute_result"
    }
   ],
   "source": [
    "df_SALES_MONITOR.count()"
   ]
  },
  {
   "cell_type": "code",
   "execution_count": null,
   "metadata": {},
   "outputs": [],
   "source": []
  },
  {
   "cell_type": "code",
   "execution_count": null,
   "metadata": {},
   "outputs": [],
   "source": []
  }
 ],
 "metadata": {
  "kernelspec": {
   "display_name": "Python 3",
   "language": "python",
   "name": "python3"
  },
  "language_info": {
   "codemirror_mode": {
    "name": "ipython",
    "version": 3
   },
   "file_extension": ".py",
   "mimetype": "text/x-python",
   "name": "python",
   "nbconvert_exporter": "python",
   "pygments_lexer": "ipython3",
   "version": "3.6.3"
  }
 },
 "nbformat": 4,
 "nbformat_minor": 2
}
